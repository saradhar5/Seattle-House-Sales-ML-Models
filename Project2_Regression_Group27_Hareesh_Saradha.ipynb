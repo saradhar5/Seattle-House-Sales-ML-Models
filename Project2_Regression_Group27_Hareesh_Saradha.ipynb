{
 "cells": [
  {
   "cell_type": "markdown",
   "metadata": {},
   "source": [
    "# <font color='green'> Project 2 - Regression Model"
   ]
  },
  {
   "cell_type": "markdown",
   "metadata": {},
   "source": [
    "### Group number - 27\n",
    "\n",
    "###### Member 1 : Hareesh Rajendran\n",
    "###### Member 2 : Saradha Ramakrishnan"
   ]
  },
  {
   "cell_type": "code",
   "execution_count": 1,
   "metadata": {},
   "outputs": [],
   "source": [
    "from IPython.core.interactiveshell import InteractiveShell\n",
    "InteractiveShell.ast_node_interactivity = \"all\""
   ]
  },
  {
   "cell_type": "markdown",
   "metadata": {},
   "source": [
    "#### Importing all the libraries needed"
   ]
  },
  {
   "cell_type": "code",
   "execution_count": 2,
   "metadata": {},
   "outputs": [],
   "source": [
    "import pandas as pd\n",
    "import numpy as np\n",
    "import seaborn as sns\n",
    "import matplotlib as mpl\n",
    "import matplotlib.pyplot as plt\n",
    "\n",
    "from sklearn.neighbors import KNeighborsRegressor\n",
    "from sklearn.linear_model import LinearRegression\n",
    "from sklearn.linear_model import Ridge\n",
    "from sklearn.linear_model import Lasso\n",
    "from sklearn.preprocessing import PolynomialFeatures\n",
    "from sklearn.preprocessing import StandardScaler\n",
    "from sklearn.preprocessing import MinMaxScaler\n",
    "from sklearn.model_selection import train_test_split\n",
    "from sklearn.svm import SVR\n",
    "from sklearn.svm import LinearSVR\n",
    "from sklearn.model_selection import GridSearchCV"
   ]
  },
  {
   "cell_type": "code",
   "execution_count": 3,
   "metadata": {},
   "outputs": [],
   "source": [
    "# import warnings filter\n",
    "from warnings import simplefilter\n",
    "# ignore all future warnings\n",
    "simplefilter(action='ignore', category=FutureWarning)"
   ]
  },
  {
   "cell_type": "markdown",
   "metadata": {},
   "source": [
    "## <font color='Blue'> Loading the dataset that was perprocessed and cleaned in the project 1.\n"
   ]
  },
  {
   "cell_type": "code",
   "execution_count": 4,
   "metadata": {},
   "outputs": [],
   "source": [
    "house_sales = pd.read_csv(\"house_sales_final.csv\")\n"
   ]
  },
  {
   "cell_type": "code",
   "execution_count": 5,
   "metadata": {},
   "outputs": [
    {
     "data": {
      "text/html": [
       "<div>\n",
       "<style scoped>\n",
       "    .dataframe tbody tr th:only-of-type {\n",
       "        vertical-align: middle;\n",
       "    }\n",
       "\n",
       "    .dataframe tbody tr th {\n",
       "        vertical-align: top;\n",
       "    }\n",
       "\n",
       "    .dataframe thead th {\n",
       "        text-align: right;\n",
       "    }\n",
       "</style>\n",
       "<table border=\"1\" class=\"dataframe\">\n",
       "  <thead>\n",
       "    <tr style=\"text-align: right;\">\n",
       "      <th></th>\n",
       "      <th>bedrooms</th>\n",
       "      <th>bathrooms</th>\n",
       "      <th>sqft_living</th>\n",
       "      <th>sqft_lot</th>\n",
       "      <th>floors</th>\n",
       "      <th>waterfront</th>\n",
       "      <th>view</th>\n",
       "      <th>grade</th>\n",
       "      <th>sqft_above</th>\n",
       "      <th>sqft_basement</th>\n",
       "      <th>yr_renovated</th>\n",
       "      <th>lat</th>\n",
       "      <th>sqft_living15</th>\n",
       "      <th>sqft_lot15</th>\n",
       "      <th>price</th>\n",
       "    </tr>\n",
       "  </thead>\n",
       "  <tbody>\n",
       "    <tr>\n",
       "      <td>0</td>\n",
       "      <td>3.0</td>\n",
       "      <td>2.25</td>\n",
       "      <td>1180.0</td>\n",
       "      <td>5650.0</td>\n",
       "      <td>1.0</td>\n",
       "      <td>0.0</td>\n",
       "      <td>0.0</td>\n",
       "      <td>2.0</td>\n",
       "      <td>1180.0</td>\n",
       "      <td>0.0</td>\n",
       "      <td>0.0</td>\n",
       "      <td>47.5112</td>\n",
       "      <td>1840.0</td>\n",
       "      <td>5650.0</td>\n",
       "      <td>221900</td>\n",
       "    </tr>\n",
       "    <tr>\n",
       "      <td>1</td>\n",
       "      <td>3.0</td>\n",
       "      <td>2.25</td>\n",
       "      <td>2570.0</td>\n",
       "      <td>7242.0</td>\n",
       "      <td>2.0</td>\n",
       "      <td>0.0</td>\n",
       "      <td>0.0</td>\n",
       "      <td>2.0</td>\n",
       "      <td>2170.0</td>\n",
       "      <td>400.0</td>\n",
       "      <td>1.0</td>\n",
       "      <td>47.7210</td>\n",
       "      <td>1690.0</td>\n",
       "      <td>7639.0</td>\n",
       "      <td>538000</td>\n",
       "    </tr>\n",
       "    <tr>\n",
       "      <td>2</td>\n",
       "      <td>2.0</td>\n",
       "      <td>1.00</td>\n",
       "      <td>770.0</td>\n",
       "      <td>10000.0</td>\n",
       "      <td>1.0</td>\n",
       "      <td>0.0</td>\n",
       "      <td>0.0</td>\n",
       "      <td>1.0</td>\n",
       "      <td>770.0</td>\n",
       "      <td>0.0</td>\n",
       "      <td>0.0</td>\n",
       "      <td>47.7379</td>\n",
       "      <td>2720.0</td>\n",
       "      <td>8062.0</td>\n",
       "      <td>180000</td>\n",
       "    </tr>\n",
       "    <tr>\n",
       "      <td>3</td>\n",
       "      <td>4.0</td>\n",
       "      <td>3.00</td>\n",
       "      <td>1960.0</td>\n",
       "      <td>5000.0</td>\n",
       "      <td>1.0</td>\n",
       "      <td>0.0</td>\n",
       "      <td>0.0</td>\n",
       "      <td>2.0</td>\n",
       "      <td>1050.0</td>\n",
       "      <td>910.0</td>\n",
       "      <td>0.0</td>\n",
       "      <td>47.5208</td>\n",
       "      <td>1360.0</td>\n",
       "      <td>5000.0</td>\n",
       "      <td>604000</td>\n",
       "    </tr>\n",
       "    <tr>\n",
       "      <td>4</td>\n",
       "      <td>3.0</td>\n",
       "      <td>2.00</td>\n",
       "      <td>1680.0</td>\n",
       "      <td>8080.0</td>\n",
       "      <td>1.0</td>\n",
       "      <td>0.0</td>\n",
       "      <td>0.0</td>\n",
       "      <td>3.0</td>\n",
       "      <td>1560.0</td>\n",
       "      <td>0.0</td>\n",
       "      <td>0.0</td>\n",
       "      <td>47.6168</td>\n",
       "      <td>1800.0</td>\n",
       "      <td>7503.0</td>\n",
       "      <td>510000</td>\n",
       "    </tr>\n",
       "  </tbody>\n",
       "</table>\n",
       "</div>"
      ],
      "text/plain": [
       "   bedrooms  bathrooms  sqft_living  sqft_lot  floors  waterfront  view  \\\n",
       "0       3.0       2.25       1180.0    5650.0     1.0         0.0   0.0   \n",
       "1       3.0       2.25       2570.0    7242.0     2.0         0.0   0.0   \n",
       "2       2.0       1.00        770.0   10000.0     1.0         0.0   0.0   \n",
       "3       4.0       3.00       1960.0    5000.0     1.0         0.0   0.0   \n",
       "4       3.0       2.00       1680.0    8080.0     1.0         0.0   0.0   \n",
       "\n",
       "   grade  sqft_above  sqft_basement  yr_renovated      lat  sqft_living15  \\\n",
       "0    2.0      1180.0            0.0           0.0  47.5112         1840.0   \n",
       "1    2.0      2170.0          400.0           1.0  47.7210         1690.0   \n",
       "2    1.0       770.0            0.0           0.0  47.7379         2720.0   \n",
       "3    2.0      1050.0          910.0           0.0  47.5208         1360.0   \n",
       "4    3.0      1560.0            0.0           0.0  47.6168         1800.0   \n",
       "\n",
       "   sqft_lot15   price  \n",
       "0      5650.0  221900  \n",
       "1      7639.0  538000  \n",
       "2      8062.0  180000  \n",
       "3      5000.0  604000  \n",
       "4      7503.0  510000  "
      ]
     },
     "execution_count": 5,
     "metadata": {},
     "output_type": "execute_result"
    }
   ],
   "source": [
    "house_sales.head()"
   ]
  },
  {
   "cell_type": "code",
   "execution_count": 6,
   "metadata": {},
   "outputs": [
    {
     "name": "stdout",
     "output_type": "stream",
     "text": [
      "<class 'pandas.core.frame.DataFrame'>\n",
      "RangeIndex: 21597 entries, 0 to 21596\n",
      "Data columns (total 15 columns):\n",
      "bedrooms         21597 non-null float64\n",
      "bathrooms        21597 non-null float64\n",
      "sqft_living      21597 non-null float64\n",
      "sqft_lot         21597 non-null float64\n",
      "floors           21597 non-null float64\n",
      "waterfront       21597 non-null float64\n",
      "view             21597 non-null float64\n",
      "grade            21597 non-null float64\n",
      "sqft_above       21597 non-null float64\n",
      "sqft_basement    21597 non-null float64\n",
      "yr_renovated     21597 non-null float64\n",
      "lat              21597 non-null float64\n",
      "sqft_living15    21597 non-null float64\n",
      "sqft_lot15       21597 non-null float64\n",
      "price            21597 non-null int64\n",
      "dtypes: float64(14), int64(1)\n",
      "memory usage: 2.5 MB\n"
     ]
    }
   ],
   "source": [
    "house_sales.info()"
   ]
  },
  {
   "cell_type": "code",
   "execution_count": 7,
   "metadata": {},
   "outputs": [
    {
     "data": {
      "text/html": [
       "<div>\n",
       "<style scoped>\n",
       "    .dataframe tbody tr th:only-of-type {\n",
       "        vertical-align: middle;\n",
       "    }\n",
       "\n",
       "    .dataframe tbody tr th {\n",
       "        vertical-align: top;\n",
       "    }\n",
       "\n",
       "    .dataframe thead th {\n",
       "        text-align: right;\n",
       "    }\n",
       "</style>\n",
       "<table border=\"1\" class=\"dataframe\">\n",
       "  <thead>\n",
       "    <tr style=\"text-align: right;\">\n",
       "      <th></th>\n",
       "      <th>bedrooms</th>\n",
       "      <th>bathrooms</th>\n",
       "      <th>sqft_living</th>\n",
       "      <th>sqft_lot</th>\n",
       "      <th>floors</th>\n",
       "      <th>waterfront</th>\n",
       "      <th>view</th>\n",
       "      <th>grade</th>\n",
       "      <th>sqft_above</th>\n",
       "      <th>sqft_basement</th>\n",
       "      <th>yr_renovated</th>\n",
       "      <th>lat</th>\n",
       "      <th>sqft_living15</th>\n",
       "      <th>sqft_lot15</th>\n",
       "      <th>price</th>\n",
       "    </tr>\n",
       "  </thead>\n",
       "  <tbody>\n",
       "    <tr>\n",
       "      <td>count</td>\n",
       "      <td>21597.000000</td>\n",
       "      <td>21597.000000</td>\n",
       "      <td>21597.000000</td>\n",
       "      <td>2.159700e+04</td>\n",
       "      <td>21597.000000</td>\n",
       "      <td>21597.000000</td>\n",
       "      <td>21597.000000</td>\n",
       "      <td>21597.000000</td>\n",
       "      <td>21597.000000</td>\n",
       "      <td>21597.000000</td>\n",
       "      <td>21597.000000</td>\n",
       "      <td>21597.000000</td>\n",
       "      <td>21597.000000</td>\n",
       "      <td>21597.000000</td>\n",
       "      <td>2.159700e+04</td>\n",
       "    </tr>\n",
       "    <tr>\n",
       "      <td>mean</td>\n",
       "      <td>3.357272</td>\n",
       "      <td>2.123721</td>\n",
       "      <td>2070.461453</td>\n",
       "      <td>1.471285e+04</td>\n",
       "      <td>1.490768</td>\n",
       "      <td>0.007223</td>\n",
       "      <td>0.222068</td>\n",
       "      <td>2.399685</td>\n",
       "      <td>1775.905728</td>\n",
       "      <td>293.188117</td>\n",
       "      <td>0.040006</td>\n",
       "      <td>47.560782</td>\n",
       "      <td>1976.985831</td>\n",
       "      <td>12536.780895</td>\n",
       "      <td>5.402029e+05</td>\n",
       "    </tr>\n",
       "    <tr>\n",
       "      <td>std</td>\n",
       "      <td>0.906473</td>\n",
       "      <td>0.751601</td>\n",
       "      <td>894.186910</td>\n",
       "      <td>4.026745e+04</td>\n",
       "      <td>0.524861</td>\n",
       "      <td>0.084684</td>\n",
       "      <td>0.748740</td>\n",
       "      <td>0.688440</td>\n",
       "      <td>806.963679</td>\n",
       "      <td>431.300241</td>\n",
       "      <td>0.195977</td>\n",
       "      <td>0.134822</td>\n",
       "      <td>666.735880</td>\n",
       "      <td>26753.972753</td>\n",
       "      <td>3.671337e+05</td>\n",
       "    </tr>\n",
       "    <tr>\n",
       "      <td>min</td>\n",
       "      <td>1.000000</td>\n",
       "      <td>0.500000</td>\n",
       "      <td>370.000000</td>\n",
       "      <td>5.200000e+02</td>\n",
       "      <td>1.000000</td>\n",
       "      <td>0.000000</td>\n",
       "      <td>0.000000</td>\n",
       "      <td>0.000000</td>\n",
       "      <td>370.000000</td>\n",
       "      <td>0.000000</td>\n",
       "      <td>0.000000</td>\n",
       "      <td>47.155900</td>\n",
       "      <td>399.000000</td>\n",
       "      <td>651.000000</td>\n",
       "      <td>7.800000e+04</td>\n",
       "    </tr>\n",
       "    <tr>\n",
       "      <td>25%</td>\n",
       "      <td>3.000000</td>\n",
       "      <td>1.750000</td>\n",
       "      <td>1450.000000</td>\n",
       "      <td>5.170000e+03</td>\n",
       "      <td>1.000000</td>\n",
       "      <td>0.000000</td>\n",
       "      <td>0.000000</td>\n",
       "      <td>2.000000</td>\n",
       "      <td>1210.000000</td>\n",
       "      <td>0.000000</td>\n",
       "      <td>0.000000</td>\n",
       "      <td>47.480200</td>\n",
       "      <td>1500.000000</td>\n",
       "      <td>5200.000000</td>\n",
       "      <td>3.220000e+05</td>\n",
       "    </tr>\n",
       "    <tr>\n",
       "      <td>50%</td>\n",
       "      <td>3.000000</td>\n",
       "      <td>2.250000</td>\n",
       "      <td>1910.000000</td>\n",
       "      <td>7.620000e+03</td>\n",
       "      <td>1.490768</td>\n",
       "      <td>0.000000</td>\n",
       "      <td>0.000000</td>\n",
       "      <td>2.500000</td>\n",
       "      <td>1560.000000</td>\n",
       "      <td>0.000000</td>\n",
       "      <td>0.000000</td>\n",
       "      <td>47.571700</td>\n",
       "      <td>1840.000000</td>\n",
       "      <td>7620.000000</td>\n",
       "      <td>4.500000e+05</td>\n",
       "    </tr>\n",
       "    <tr>\n",
       "      <td>75%</td>\n",
       "      <td>4.000000</td>\n",
       "      <td>2.500000</td>\n",
       "      <td>2500.000000</td>\n",
       "      <td>1.036200e+04</td>\n",
       "      <td>2.000000</td>\n",
       "      <td>0.000000</td>\n",
       "      <td>0.000000</td>\n",
       "      <td>3.000000</td>\n",
       "      <td>2160.000000</td>\n",
       "      <td>530.000000</td>\n",
       "      <td>0.000000</td>\n",
       "      <td>47.674100</td>\n",
       "      <td>2320.000000</td>\n",
       "      <td>9920.000000</td>\n",
       "      <td>6.450000e+05</td>\n",
       "    </tr>\n",
       "    <tr>\n",
       "      <td>max</td>\n",
       "      <td>33.000000</td>\n",
       "      <td>8.000000</td>\n",
       "      <td>13540.000000</td>\n",
       "      <td>1.651359e+06</td>\n",
       "      <td>3.500000</td>\n",
       "      <td>1.000000</td>\n",
       "      <td>4.000000</td>\n",
       "      <td>4.000000</td>\n",
       "      <td>9410.000000</td>\n",
       "      <td>4820.000000</td>\n",
       "      <td>1.000000</td>\n",
       "      <td>47.777600</td>\n",
       "      <td>6210.000000</td>\n",
       "      <td>871200.000000</td>\n",
       "      <td>7.700000e+06</td>\n",
       "    </tr>\n",
       "  </tbody>\n",
       "</table>\n",
       "</div>"
      ],
      "text/plain": [
       "           bedrooms     bathrooms   sqft_living      sqft_lot        floors  \\\n",
       "count  21597.000000  21597.000000  21597.000000  2.159700e+04  21597.000000   \n",
       "mean       3.357272      2.123721   2070.461453  1.471285e+04      1.490768   \n",
       "std        0.906473      0.751601    894.186910  4.026745e+04      0.524861   \n",
       "min        1.000000      0.500000    370.000000  5.200000e+02      1.000000   \n",
       "25%        3.000000      1.750000   1450.000000  5.170000e+03      1.000000   \n",
       "50%        3.000000      2.250000   1910.000000  7.620000e+03      1.490768   \n",
       "75%        4.000000      2.500000   2500.000000  1.036200e+04      2.000000   \n",
       "max       33.000000      8.000000  13540.000000  1.651359e+06      3.500000   \n",
       "\n",
       "         waterfront          view         grade    sqft_above  sqft_basement  \\\n",
       "count  21597.000000  21597.000000  21597.000000  21597.000000   21597.000000   \n",
       "mean       0.007223      0.222068      2.399685   1775.905728     293.188117   \n",
       "std        0.084684      0.748740      0.688440    806.963679     431.300241   \n",
       "min        0.000000      0.000000      0.000000    370.000000       0.000000   \n",
       "25%        0.000000      0.000000      2.000000   1210.000000       0.000000   \n",
       "50%        0.000000      0.000000      2.500000   1560.000000       0.000000   \n",
       "75%        0.000000      0.000000      3.000000   2160.000000     530.000000   \n",
       "max        1.000000      4.000000      4.000000   9410.000000    4820.000000   \n",
       "\n",
       "       yr_renovated           lat  sqft_living15     sqft_lot15         price  \n",
       "count  21597.000000  21597.000000   21597.000000   21597.000000  2.159700e+04  \n",
       "mean       0.040006     47.560782    1976.985831   12536.780895  5.402029e+05  \n",
       "std        0.195977      0.134822     666.735880   26753.972753  3.671337e+05  \n",
       "min        0.000000     47.155900     399.000000     651.000000  7.800000e+04  \n",
       "25%        0.000000     47.480200    1500.000000    5200.000000  3.220000e+05  \n",
       "50%        0.000000     47.571700    1840.000000    7620.000000  4.500000e+05  \n",
       "75%        0.000000     47.674100    2320.000000    9920.000000  6.450000e+05  \n",
       "max        1.000000     47.777600    6210.000000  871200.000000  7.700000e+06  "
      ]
     },
     "execution_count": 7,
     "metadata": {},
     "output_type": "execute_result"
    }
   ],
   "source": [
    "house_sales.describe()"
   ]
  },
  {
   "cell_type": "code",
   "execution_count": 8,
   "metadata": {},
   "outputs": [
    {
     "data": {
      "text/plain": [
       "(21597, 15)"
      ]
     },
     "execution_count": 8,
     "metadata": {},
     "output_type": "execute_result"
    }
   ],
   "source": [
    "house_sales.shape"
   ]
  },
  {
   "cell_type": "code",
   "execution_count": 9,
   "metadata": {
    "scrolled": true
   },
   "outputs": [
    {
     "data": {
      "text/plain": [
       "bedrooms         0\n",
       "bathrooms        0\n",
       "sqft_living      0\n",
       "sqft_lot         0\n",
       "floors           0\n",
       "waterfront       0\n",
       "view             0\n",
       "grade            0\n",
       "sqft_above       0\n",
       "sqft_basement    0\n",
       "yr_renovated     0\n",
       "lat              0\n",
       "sqft_living15    0\n",
       "sqft_lot15       0\n",
       "price            0\n",
       "dtype: int64"
      ]
     },
     "execution_count": 9,
     "metadata": {},
     "output_type": "execute_result"
    }
   ],
   "source": [
    "house_sales.isnull().sum()"
   ]
  },
  {
   "cell_type": "code",
   "execution_count": 10,
   "metadata": {},
   "outputs": [
    {
     "data": {
      "text/plain": [
       "0"
      ]
     },
     "execution_count": 10,
     "metadata": {},
     "output_type": "execute_result"
    }
   ],
   "source": [
    "house_sales.isnull().sum().sum()"
   ]
  },
  {
   "cell_type": "markdown",
   "metadata": {},
   "source": [
    "#### Pruning the dataset."
   ]
  },
  {
   "cell_type": "code",
   "execution_count": 11,
   "metadata": {},
   "outputs": [],
   "source": [
    "house_sales = house_sales.sample(n=1500,random_state=0)"
   ]
  },
  {
   "cell_type": "code",
   "execution_count": 12,
   "metadata": {},
   "outputs": [
    {
     "data": {
      "text/html": [
       "<div>\n",
       "<style scoped>\n",
       "    .dataframe tbody tr th:only-of-type {\n",
       "        vertical-align: middle;\n",
       "    }\n",
       "\n",
       "    .dataframe tbody tr th {\n",
       "        vertical-align: top;\n",
       "    }\n",
       "\n",
       "    .dataframe thead th {\n",
       "        text-align: right;\n",
       "    }\n",
       "</style>\n",
       "<table border=\"1\" class=\"dataframe\">\n",
       "  <thead>\n",
       "    <tr style=\"text-align: right;\">\n",
       "      <th></th>\n",
       "      <th>bedrooms</th>\n",
       "      <th>bathrooms</th>\n",
       "      <th>sqft_living</th>\n",
       "      <th>sqft_lot</th>\n",
       "      <th>floors</th>\n",
       "      <th>waterfront</th>\n",
       "      <th>view</th>\n",
       "      <th>grade</th>\n",
       "      <th>sqft_above</th>\n",
       "      <th>sqft_basement</th>\n",
       "      <th>yr_renovated</th>\n",
       "      <th>lat</th>\n",
       "      <th>sqft_living15</th>\n",
       "      <th>sqft_lot15</th>\n",
       "      <th>price</th>\n",
       "    </tr>\n",
       "  </thead>\n",
       "  <tbody>\n",
       "    <tr>\n",
       "      <td>156</td>\n",
       "      <td>5.0</td>\n",
       "      <td>3.50</td>\n",
       "      <td>3960.0</td>\n",
       "      <td>25245.0</td>\n",
       "      <td>2.000000</td>\n",
       "      <td>0.0</td>\n",
       "      <td>0.0</td>\n",
       "      <td>3.0</td>\n",
       "      <td>2500.0</td>\n",
       "      <td>1460.0</td>\n",
       "      <td>0.0</td>\n",
       "      <td>47.5250</td>\n",
       "      <td>2640.0</td>\n",
       "      <td>13675.0</td>\n",
       "      <td>650000</td>\n",
       "    </tr>\n",
       "    <tr>\n",
       "      <td>15572</td>\n",
       "      <td>4.0</td>\n",
       "      <td>2.25</td>\n",
       "      <td>2070.0</td>\n",
       "      <td>7620.0</td>\n",
       "      <td>1.000000</td>\n",
       "      <td>0.0</td>\n",
       "      <td>0.0</td>\n",
       "      <td>3.0</td>\n",
       "      <td>1390.0</td>\n",
       "      <td>680.0</td>\n",
       "      <td>0.0</td>\n",
       "      <td>47.6970</td>\n",
       "      <td>2110.0</td>\n",
       "      <td>8400.0</td>\n",
       "      <td>625000</td>\n",
       "    </tr>\n",
       "    <tr>\n",
       "      <td>2080</td>\n",
       "      <td>3.0</td>\n",
       "      <td>2.50</td>\n",
       "      <td>3090.0</td>\n",
       "      <td>7708.0</td>\n",
       "      <td>2.000000</td>\n",
       "      <td>0.0</td>\n",
       "      <td>0.0</td>\n",
       "      <td>2.5</td>\n",
       "      <td>3090.0</td>\n",
       "      <td>0.0</td>\n",
       "      <td>0.0</td>\n",
       "      <td>47.6868</td>\n",
       "      <td>3140.0</td>\n",
       "      <td>8592.0</td>\n",
       "      <td>822500</td>\n",
       "    </tr>\n",
       "    <tr>\n",
       "      <td>17522</td>\n",
       "      <td>3.0</td>\n",
       "      <td>1.75</td>\n",
       "      <td>1910.0</td>\n",
       "      <td>12000.0</td>\n",
       "      <td>1.490768</td>\n",
       "      <td>0.0</td>\n",
       "      <td>0.0</td>\n",
       "      <td>1.0</td>\n",
       "      <td>1230.0</td>\n",
       "      <td>0.0</td>\n",
       "      <td>0.0</td>\n",
       "      <td>47.2878</td>\n",
       "      <td>1550.0</td>\n",
       "      <td>12000.0</td>\n",
       "      <td>179900</td>\n",
       "    </tr>\n",
       "    <tr>\n",
       "      <td>8360</td>\n",
       "      <td>4.0</td>\n",
       "      <td>2.75</td>\n",
       "      <td>3150.0</td>\n",
       "      <td>67518.0</td>\n",
       "      <td>1.000000</td>\n",
       "      <td>0.0</td>\n",
       "      <td>0.0</td>\n",
       "      <td>3.0</td>\n",
       "      <td>2250.0</td>\n",
       "      <td>900.0</td>\n",
       "      <td>0.0</td>\n",
       "      <td>47.3382</td>\n",
       "      <td>2210.0</td>\n",
       "      <td>32391.0</td>\n",
       "      <td>370000</td>\n",
       "    </tr>\n",
       "  </tbody>\n",
       "</table>\n",
       "</div>"
      ],
      "text/plain": [
       "       bedrooms  bathrooms  sqft_living  sqft_lot    floors  waterfront  view  \\\n",
       "156         5.0       3.50       3960.0   25245.0  2.000000         0.0   0.0   \n",
       "15572       4.0       2.25       2070.0    7620.0  1.000000         0.0   0.0   \n",
       "2080        3.0       2.50       3090.0    7708.0  2.000000         0.0   0.0   \n",
       "17522       3.0       1.75       1910.0   12000.0  1.490768         0.0   0.0   \n",
       "8360        4.0       2.75       3150.0   67518.0  1.000000         0.0   0.0   \n",
       "\n",
       "       grade  sqft_above  sqft_basement  yr_renovated      lat  sqft_living15  \\\n",
       "156      3.0      2500.0         1460.0           0.0  47.5250         2640.0   \n",
       "15572    3.0      1390.0          680.0           0.0  47.6970         2110.0   \n",
       "2080     2.5      3090.0            0.0           0.0  47.6868         3140.0   \n",
       "17522    1.0      1230.0            0.0           0.0  47.2878         1550.0   \n",
       "8360     3.0      2250.0          900.0           0.0  47.3382         2210.0   \n",
       "\n",
       "       sqft_lot15   price  \n",
       "156       13675.0  650000  \n",
       "15572      8400.0  625000  \n",
       "2080       8592.0  822500  \n",
       "17522     12000.0  179900  \n",
       "8360      32391.0  370000  "
      ]
     },
     "execution_count": 12,
     "metadata": {},
     "output_type": "execute_result"
    }
   ],
   "source": [
    "house_sales.head()"
   ]
  },
  {
   "cell_type": "code",
   "execution_count": 13,
   "metadata": {},
   "outputs": [
    {
     "name": "stdout",
     "output_type": "stream",
     "text": [
      "<class 'pandas.core.frame.DataFrame'>\n",
      "Int64Index: 1500 entries, 156 to 15415\n",
      "Data columns (total 15 columns):\n",
      "bedrooms         1500 non-null float64\n",
      "bathrooms        1500 non-null float64\n",
      "sqft_living      1500 non-null float64\n",
      "sqft_lot         1500 non-null float64\n",
      "floors           1500 non-null float64\n",
      "waterfront       1500 non-null float64\n",
      "view             1500 non-null float64\n",
      "grade            1500 non-null float64\n",
      "sqft_above       1500 non-null float64\n",
      "sqft_basement    1500 non-null float64\n",
      "yr_renovated     1500 non-null float64\n",
      "lat              1500 non-null float64\n",
      "sqft_living15    1500 non-null float64\n",
      "sqft_lot15       1500 non-null float64\n",
      "price            1500 non-null int64\n",
      "dtypes: float64(14), int64(1)\n",
      "memory usage: 187.5 KB\n"
     ]
    }
   ],
   "source": [
    "house_sales.info()"
   ]
  },
  {
   "cell_type": "code",
   "execution_count": 14,
   "metadata": {},
   "outputs": [
    {
     "data": {
      "text/html": [
       "<div>\n",
       "<style scoped>\n",
       "    .dataframe tbody tr th:only-of-type {\n",
       "        vertical-align: middle;\n",
       "    }\n",
       "\n",
       "    .dataframe tbody tr th {\n",
       "        vertical-align: top;\n",
       "    }\n",
       "\n",
       "    .dataframe thead th {\n",
       "        text-align: right;\n",
       "    }\n",
       "</style>\n",
       "<table border=\"1\" class=\"dataframe\">\n",
       "  <thead>\n",
       "    <tr style=\"text-align: right;\">\n",
       "      <th></th>\n",
       "      <th>bedrooms</th>\n",
       "      <th>bathrooms</th>\n",
       "      <th>sqft_living</th>\n",
       "      <th>sqft_lot</th>\n",
       "      <th>floors</th>\n",
       "      <th>waterfront</th>\n",
       "      <th>view</th>\n",
       "      <th>grade</th>\n",
       "      <th>sqft_above</th>\n",
       "      <th>sqft_basement</th>\n",
       "      <th>yr_renovated</th>\n",
       "      <th>lat</th>\n",
       "      <th>sqft_living15</th>\n",
       "      <th>sqft_lot15</th>\n",
       "      <th>price</th>\n",
       "    </tr>\n",
       "  </thead>\n",
       "  <tbody>\n",
       "    <tr>\n",
       "      <td>count</td>\n",
       "      <td>1500.000000</td>\n",
       "      <td>1500.000000</td>\n",
       "      <td>1500.000000</td>\n",
       "      <td>1500.000000</td>\n",
       "      <td>1500.000000</td>\n",
       "      <td>1500.000000</td>\n",
       "      <td>1500.000000</td>\n",
       "      <td>1500.000000</td>\n",
       "      <td>1500.000000</td>\n",
       "      <td>1500.000000</td>\n",
       "      <td>1500.000000</td>\n",
       "      <td>1500.000000</td>\n",
       "      <td>1500.000000</td>\n",
       "      <td>1500.000000</td>\n",
       "      <td>1.500000e+03</td>\n",
       "    </tr>\n",
       "    <tr>\n",
       "      <td>mean</td>\n",
       "      <td>3.342667</td>\n",
       "      <td>2.120333</td>\n",
       "      <td>2062.928667</td>\n",
       "      <td>13607.204000</td>\n",
       "      <td>1.474174</td>\n",
       "      <td>0.007333</td>\n",
       "      <td>0.210667</td>\n",
       "      <td>2.399667</td>\n",
       "      <td>1761.514667</td>\n",
       "      <td>286.121195</td>\n",
       "      <td>0.042000</td>\n",
       "      <td>47.562089</td>\n",
       "      <td>1975.591333</td>\n",
       "      <td>12025.102000</td>\n",
       "      <td>5.363627e+05</td>\n",
       "    </tr>\n",
       "    <tr>\n",
       "      <td>std</td>\n",
       "      <td>0.862018</td>\n",
       "      <td>0.737597</td>\n",
       "      <td>864.689342</td>\n",
       "      <td>29617.788027</td>\n",
       "      <td>0.527121</td>\n",
       "      <td>0.085349</td>\n",
       "      <td>0.712712</td>\n",
       "      <td>0.673847</td>\n",
       "      <td>788.654903</td>\n",
       "      <td>431.350219</td>\n",
       "      <td>0.200656</td>\n",
       "      <td>0.133434</td>\n",
       "      <td>650.824698</td>\n",
       "      <td>23149.176754</td>\n",
       "      <td>3.585753e+05</td>\n",
       "    </tr>\n",
       "    <tr>\n",
       "      <td>min</td>\n",
       "      <td>1.000000</td>\n",
       "      <td>0.750000</td>\n",
       "      <td>480.000000</td>\n",
       "      <td>806.000000</td>\n",
       "      <td>1.000000</td>\n",
       "      <td>0.000000</td>\n",
       "      <td>0.000000</td>\n",
       "      <td>1.000000</td>\n",
       "      <td>480.000000</td>\n",
       "      <td>0.000000</td>\n",
       "      <td>0.000000</td>\n",
       "      <td>47.190000</td>\n",
       "      <td>780.000000</td>\n",
       "      <td>942.000000</td>\n",
       "      <td>9.000000e+04</td>\n",
       "    </tr>\n",
       "    <tr>\n",
       "      <td>25%</td>\n",
       "      <td>3.000000</td>\n",
       "      <td>1.750000</td>\n",
       "      <td>1460.000000</td>\n",
       "      <td>5364.750000</td>\n",
       "      <td>1.000000</td>\n",
       "      <td>0.000000</td>\n",
       "      <td>0.000000</td>\n",
       "      <td>2.000000</td>\n",
       "      <td>1217.500000</td>\n",
       "      <td>0.000000</td>\n",
       "      <td>0.000000</td>\n",
       "      <td>47.481400</td>\n",
       "      <td>1500.000000</td>\n",
       "      <td>5250.000000</td>\n",
       "      <td>3.237500e+05</td>\n",
       "    </tr>\n",
       "    <tr>\n",
       "      <td>50%</td>\n",
       "      <td>3.000000</td>\n",
       "      <td>2.250000</td>\n",
       "      <td>1910.000000</td>\n",
       "      <td>7620.000000</td>\n",
       "      <td>1.490768</td>\n",
       "      <td>0.000000</td>\n",
       "      <td>0.000000</td>\n",
       "      <td>2.250000</td>\n",
       "      <td>1560.000000</td>\n",
       "      <td>0.000000</td>\n",
       "      <td>0.000000</td>\n",
       "      <td>47.571700</td>\n",
       "      <td>1840.000000</td>\n",
       "      <td>7620.000000</td>\n",
       "      <td>4.500000e+05</td>\n",
       "    </tr>\n",
       "    <tr>\n",
       "      <td>75%</td>\n",
       "      <td>4.000000</td>\n",
       "      <td>2.500000</td>\n",
       "      <td>2510.000000</td>\n",
       "      <td>10508.250000</td>\n",
       "      <td>2.000000</td>\n",
       "      <td>0.000000</td>\n",
       "      <td>0.000000</td>\n",
       "      <td>3.000000</td>\n",
       "      <td>2130.000000</td>\n",
       "      <td>530.000000</td>\n",
       "      <td>0.000000</td>\n",
       "      <td>47.674125</td>\n",
       "      <td>2330.000000</td>\n",
       "      <td>10000.000000</td>\n",
       "      <td>6.360575e+05</td>\n",
       "    </tr>\n",
       "    <tr>\n",
       "      <td>max</td>\n",
       "      <td>11.000000</td>\n",
       "      <td>6.000000</td>\n",
       "      <td>6900.000000</td>\n",
       "      <td>383328.000000</td>\n",
       "      <td>3.000000</td>\n",
       "      <td>1.000000</td>\n",
       "      <td>4.000000</td>\n",
       "      <td>4.000000</td>\n",
       "      <td>5610.000000</td>\n",
       "      <td>2310.000000</td>\n",
       "      <td>1.000000</td>\n",
       "      <td>47.777400</td>\n",
       "      <td>5790.000000</td>\n",
       "      <td>273556.000000</td>\n",
       "      <td>3.635000e+06</td>\n",
       "    </tr>\n",
       "  </tbody>\n",
       "</table>\n",
       "</div>"
      ],
      "text/plain": [
       "          bedrooms    bathrooms  sqft_living       sqft_lot       floors  \\\n",
       "count  1500.000000  1500.000000  1500.000000    1500.000000  1500.000000   \n",
       "mean      3.342667     2.120333  2062.928667   13607.204000     1.474174   \n",
       "std       0.862018     0.737597   864.689342   29617.788027     0.527121   \n",
       "min       1.000000     0.750000   480.000000     806.000000     1.000000   \n",
       "25%       3.000000     1.750000  1460.000000    5364.750000     1.000000   \n",
       "50%       3.000000     2.250000  1910.000000    7620.000000     1.490768   \n",
       "75%       4.000000     2.500000  2510.000000   10508.250000     2.000000   \n",
       "max      11.000000     6.000000  6900.000000  383328.000000     3.000000   \n",
       "\n",
       "        waterfront         view        grade   sqft_above  sqft_basement  \\\n",
       "count  1500.000000  1500.000000  1500.000000  1500.000000    1500.000000   \n",
       "mean      0.007333     0.210667     2.399667  1761.514667     286.121195   \n",
       "std       0.085349     0.712712     0.673847   788.654903     431.350219   \n",
       "min       0.000000     0.000000     1.000000   480.000000       0.000000   \n",
       "25%       0.000000     0.000000     2.000000  1217.500000       0.000000   \n",
       "50%       0.000000     0.000000     2.250000  1560.000000       0.000000   \n",
       "75%       0.000000     0.000000     3.000000  2130.000000     530.000000   \n",
       "max       1.000000     4.000000     4.000000  5610.000000    2310.000000   \n",
       "\n",
       "       yr_renovated          lat  sqft_living15     sqft_lot15         price  \n",
       "count   1500.000000  1500.000000    1500.000000    1500.000000  1.500000e+03  \n",
       "mean       0.042000    47.562089    1975.591333   12025.102000  5.363627e+05  \n",
       "std        0.200656     0.133434     650.824698   23149.176754  3.585753e+05  \n",
       "min        0.000000    47.190000     780.000000     942.000000  9.000000e+04  \n",
       "25%        0.000000    47.481400    1500.000000    5250.000000  3.237500e+05  \n",
       "50%        0.000000    47.571700    1840.000000    7620.000000  4.500000e+05  \n",
       "75%        0.000000    47.674125    2330.000000   10000.000000  6.360575e+05  \n",
       "max        1.000000    47.777400    5790.000000  273556.000000  3.635000e+06  "
      ]
     },
     "execution_count": 14,
     "metadata": {},
     "output_type": "execute_result"
    }
   ],
   "source": [
    "house_sales.describe()"
   ]
  },
  {
   "cell_type": "code",
   "execution_count": 15,
   "metadata": {},
   "outputs": [
    {
     "data": {
      "text/plain": [
       "(1500, 15)"
      ]
     },
     "execution_count": 15,
     "metadata": {},
     "output_type": "execute_result"
    }
   ],
   "source": [
    "house_sales.shape"
   ]
  },
  {
   "cell_type": "code",
   "execution_count": 16,
   "metadata": {},
   "outputs": [
    {
     "data": {
      "text/plain": [
       "bedrooms         0\n",
       "bathrooms        0\n",
       "sqft_living      0\n",
       "sqft_lot         0\n",
       "floors           0\n",
       "waterfront       0\n",
       "view             0\n",
       "grade            0\n",
       "sqft_above       0\n",
       "sqft_basement    0\n",
       "yr_renovated     0\n",
       "lat              0\n",
       "sqft_living15    0\n",
       "sqft_lot15       0\n",
       "price            0\n",
       "dtype: int64"
      ]
     },
     "execution_count": 16,
     "metadata": {},
     "output_type": "execute_result"
    }
   ],
   "source": [
    "house_sales.isnull().sum()"
   ]
  },
  {
   "cell_type": "code",
   "execution_count": 17,
   "metadata": {},
   "outputs": [
    {
     "data": {
      "text/plain": [
       "0"
      ]
     },
     "execution_count": 17,
     "metadata": {},
     "output_type": "execute_result"
    }
   ],
   "source": [
    "house_sales.isnull().sum().sum()"
   ]
  },
  {
   "cell_type": "code",
   "execution_count": null,
   "metadata": {},
   "outputs": [],
   "source": []
  },
  {
   "cell_type": "markdown",
   "metadata": {},
   "source": [
    "### Ploting Scatterplot to check the Correlation of different features with the Price Column."
   ]
  },
  {
   "cell_type": "code",
   "execution_count": 18,
   "metadata": {},
   "outputs": [
    {
     "data": {
      "text/plain": [
       "<seaborn.axisgrid.FacetGrid at 0x24ff357e348>"
      ]
     },
     "execution_count": 18,
     "metadata": {},
     "output_type": "execute_result"
    },
    {
     "data": {
      "text/plain": [
       "<seaborn.axisgrid.FacetGrid at 0x24ff55e9408>"
      ]
     },
     "execution_count": 18,
     "metadata": {},
     "output_type": "execute_result"
    },
    {
     "data": {
      "text/plain": [
       "<seaborn.axisgrid.FacetGrid at 0x24ff56a4988>"
      ]
     },
     "execution_count": 18,
     "metadata": {},
     "output_type": "execute_result"
    },
    {
     "data": {
      "text/plain": [
       "<seaborn.axisgrid.FacetGrid at 0x24ff5724548>"
      ]
     },
     "execution_count": 18,
     "metadata": {},
     "output_type": "execute_result"
    },
    {
     "data": {
      "text/plain": [
       "<seaborn.axisgrid.FacetGrid at 0x24ff55e9948>"
      ]
     },
     "execution_count": 18,
     "metadata": {},
     "output_type": "execute_result"
    },
    {
     "data": {
      "text/plain": [
       "<seaborn.axisgrid.FacetGrid at 0x24ff56a4388>"
      ]
     },
     "execution_count": 18,
     "metadata": {},
     "output_type": "execute_result"
    },
    {
     "data": {
      "text/plain": [
       "<seaborn.axisgrid.FacetGrid at 0x24ff5714688>"
      ]
     },
     "execution_count": 18,
     "metadata": {},
     "output_type": "execute_result"
    },
    {
     "data": {
      "text/plain": [
       "<seaborn.axisgrid.FacetGrid at 0x24ff5776a88>"
      ]
     },
     "execution_count": 18,
     "metadata": {},
     "output_type": "execute_result"
    },
    {
     "data": {
      "text/plain": [
       "<seaborn.axisgrid.FacetGrid at 0x24ff57e4a48>"
      ]
     },
     "execution_count": 18,
     "metadata": {},
     "output_type": "execute_result"
    },
    {
     "data": {
      "text/plain": [
       "<seaborn.axisgrid.FacetGrid at 0x24ff5848c48>"
      ]
     },
     "execution_count": 18,
     "metadata": {},
     "output_type": "execute_result"
    },
    {
     "data": {
      "text/plain": [
       "<seaborn.axisgrid.FacetGrid at 0x24ff590f848>"
      ]
     },
     "execution_count": 18,
     "metadata": {},
     "output_type": "execute_result"
    },
    {
     "data": {
      "text/plain": [
       "<seaborn.axisgrid.FacetGrid at 0x24ff590fac8>"
      ]
     },
     "execution_count": 18,
     "metadata": {},
     "output_type": "execute_result"
    },
    {
     "data": {
      "text/plain": [
       "<seaborn.axisgrid.FacetGrid at 0x24ff5724548>"
      ]
     },
     "execution_count": 18,
     "metadata": {},
     "output_type": "execute_result"
    },
    {
     "data": {
      "image/png": "[encoded data removed]",
      "text/plain": [
       "<Figure size 360x360 with 1 Axes>"
      ]
     },
     "metadata": {
      "needs_background": "light"
     },
     "output_type": "display_data"
    },
    {
     "data": {
      "image/png": "[encoded data removed]",
      "text/plain": [
       "<Figure size 360x360 with 1 Axes>"
      ]
     },
     "metadata": {
      "needs_background": "light"
     },
     "output_type": "display_data"
    },
    {
     "data": {
      "image/png": "[encoded data removed]",
      "text/plain": [
       "<Figure size 360x360 with 1 Axes>"
      ]
     },
     "metadata": {
      "needs_background": "light"
     },
     "output_type": "display_data"
    },
    {
     "data": {
      "image/png": "[encoded data removed]",
      "text/plain": [
       "<Figure size 360x360 with 1 Axes>"
      ]
     },
     "metadata": {
      "needs_background": "light"
     },
     "output_type": "display_data"
    },
    {
     "data": {
      "image/png": "[encoded data removed]",
      "text/plain": [
       "<Figure size 360x360 with 1 Axes>"
      ]
     },
     "metadata": {
      "needs_background": "light"
     },
     "output_type": "display_data"
    },
    {
     "data": {
      "image/png": "[encoded data removed]",
      "text/plain": [
       "<Figure size 360x360 with 1 Axes>"
      ]
     },
     "metadata": {
      "needs_background": "light"
     },
     "output_type": "display_data"
    },
    {
     "data": {
      "image/png": "[encoded data removed]",
      "text/plain": [
       "<Figure size 360x360 with 1 Axes>"
      ]
     },
     "metadata": {
      "needs_background": "light"
     },
     "output_type": "display_data"
    },
    {
     "data": {
      "image/png": "[encoded data removed]",
      "text/plain": [
       "<Figure size 360x360 with 1 Axes>"
      ]
     },
     "metadata": {
      "needs_background": "light"
     },
     "output_type": "display_data"
    },
    {
     "data": {
      "image/png": "[encoded data removed]",
      "text/plain": [
       "<Figure size 360x360 with 1 Axes>"
      ]
     },
     "metadata": {
      "needs_background": "light"
     },
     "output_type": "display_data"
    },
    {
     "data": {
      "image/png": "[encoded data removed]",
      "text/plain": [
       "<Figure size 360x360 with 1 Axes>"
      ]
     },
     "metadata": {
      "needs_background": "light"
     },
     "output_type": "display_data"
    },
    {
     "data": {
      "image/png": "[encoded data removed]",
      "text/plain": [
       "<Figure size 360x360 with 1 Axes>"
      ]
     },
     "metadata": {
      "needs_background": "light"
     },
     "output_type": "display_data"
    },
    {
     "data": {
      "image/png": "[encoded data removed]",
      "text/plain": [
       "<Figure size 360x360 with 1 Axes>"
      ]
     },
     "metadata": {
      "needs_background": "light"
     },
     "output_type": "display_data"
    },
    {
     "data": {
      "image/png": "[encoded data removed]",
      "text/plain": [
       "<Figure size 360x360 with 1 Axes>"
      ]
     },
     "metadata": {
      "needs_background": "light"
     },
     "output_type": "display_data"
    }
   ],
   "source": [
    "sns.lmplot(x='bathrooms',y='price',data=house_sales)\n",
    "sns.lmplot(x='sqft_living',y='price',data=house_sales)\n",
    "sns.lmplot(x='bedrooms',y='price',data=house_sales)\n",
    "sns.lmplot(x='view',y='price',data=house_sales)\n",
    "sns.lmplot(x='waterfront',y='price',data=house_sales)\n",
    "sns.lmplot(x='sqft_lot',y='price',data=house_sales)\n",
    "sns.lmplot(x='grade',y='price',data=house_sales)\n",
    "sns.lmplot(x='sqft_above',y='price',data=house_sales)\n",
    "sns.lmplot(x='sqft_basement',y='price',data=house_sales)\n",
    "sns.lmplot(x='yr_renovated',y='price',data=house_sales)\n",
    "sns.lmplot(x='lat',y='price',data=house_sales)\n",
    "sns.lmplot(x='sqft_living15',y='price',data=house_sales)\n",
    "sns.lmplot(x='sqft_lot15',y='price',data=house_sales)"
   ]
  },
  {
   "cell_type": "code",
   "execution_count": 19,
   "metadata": {},
   "outputs": [
    {
     "data": {
      "text/plain": [
       "<matplotlib.axes._subplots.AxesSubplot at 0x24ff6be8dc8>"
      ]
     },
     "execution_count": 19,
     "metadata": {},
     "output_type": "execute_result"
    },
    {
     "data": {
      "image/png": "[encoded data removed]",
      "text/plain": [
       "<Figure size 1440x720 with 2 Axes>"
      ]
     },
     "metadata": {
      "needs_background": "light"
     },
     "output_type": "display_data"
    }
   ],
   "source": [
    "bmcor = house_sales.corr()\n",
    "a4_dims = (20,10)\n",
    "fig, ax = plt.subplots(figsize=a4_dims)\n",
    "sns.heatmap(bmcor,annot=True)"
   ]
  },
  {
   "cell_type": "markdown",
   "metadata": {},
   "source": [
    "## <font color='Blue'> Train and Test Split "
   ]
  },
  {
   "cell_type": "code",
   "execution_count": 20,
   "metadata": {},
   "outputs": [
    {
     "data": {
      "text/plain": [
       "(1125,)"
      ]
     },
     "execution_count": 20,
     "metadata": {},
     "output_type": "execute_result"
    },
    {
     "data": {
      "text/plain": [
       "(375,)"
      ]
     },
     "execution_count": 20,
     "metadata": {},
     "output_type": "execute_result"
    },
    {
     "data": {
      "text/plain": [
       "(1125, 14)"
      ]
     },
     "execution_count": 20,
     "metadata": {},
     "output_type": "execute_result"
    },
    {
     "data": {
      "text/plain": [
       "(375, 14)"
      ]
     },
     "execution_count": 20,
     "metadata": {},
     "output_type": "execute_result"
    }
   ],
   "source": [
    "X = house_sales.drop(['price'],axis=1)\n",
    "y = house_sales['price']\n",
    "\n",
    "X_train_org, X_test_org, y_train, y_test = train_test_split(X, y, test_size=0.25, random_state=0)\n",
    "y_train.shape\n",
    "y_test.shape\n",
    "X_train_org.shape\n",
    "X_test_org.shape"
   ]
  },
  {
   "cell_type": "markdown",
   "metadata": {},
   "source": [
    "### <font color='Blue'> Scaling the Dataset"
   ]
  },
  {
   "cell_type": "code",
   "execution_count": 21,
   "metadata": {},
   "outputs": [],
   "source": [
    "scaler = StandardScaler()"
   ]
  },
  {
   "cell_type": "code",
   "execution_count": 22,
   "metadata": {},
   "outputs": [],
   "source": [
    "X_train_scale = scaler.fit_transform(X_train_org)"
   ]
  },
  {
   "cell_type": "code",
   "execution_count": 23,
   "metadata": {},
   "outputs": [],
   "source": [
    "X_test_scale = scaler.transform(X_test_org)"
   ]
  },
  {
   "cell_type": "code",
   "execution_count": 24,
   "metadata": {},
   "outputs": [
    {
     "data": {
      "text/plain": [
       "(1125, 14)"
      ]
     },
     "execution_count": 24,
     "metadata": {},
     "output_type": "execute_result"
    }
   ],
   "source": [
    "X_train_scale.shape"
   ]
  },
  {
   "cell_type": "code",
   "execution_count": null,
   "metadata": {},
   "outputs": [],
   "source": [
    "\n"
   ]
  },
  {
   "cell_type": "markdown",
   "metadata": {},
   "source": [
    "## <font color='Blue'> Apply any two model with bagging and pasting\n"
   ]
  },
  {
   "cell_type": "markdown",
   "metadata": {},
   "source": [
    "### Lasso Regression with bagging"
   ]
  },
  {
   "cell_type": "code",
   "execution_count": 25,
   "metadata": {},
   "outputs": [
    {
     "name": "stderr",
     "output_type": "stream",
     "text": [
      "c:\\users\\hareesh\\appdata\\local\\programs\\python\\python38-32\\lib\\site-packages\\sklearn\\linear_model\\_coordinate_descent.py:529: ConvergenceWarning: Objective did not converge. You might want to increase the number of iterations. Duality gap: 479726294046.46875, tolerance: 9190955102.60812\n",
      "  model = cd_fast.enet_coordinate_descent(\n",
      "c:\\users\\hareesh\\appdata\\local\\programs\\python\\python38-32\\lib\\site-packages\\sklearn\\linear_model\\_coordinate_descent.py:529: ConvergenceWarning: Objective did not converge. You might want to increase the number of iterations. Duality gap: 10832363315731.943, tolerance: 9703299565.491749\n",
      "  model = cd_fast.enet_coordinate_descent(\n",
      "c:\\users\\hareesh\\appdata\\local\\programs\\python\\python38-32\\lib\\site-packages\\sklearn\\linear_model\\_coordinate_descent.py:529: ConvergenceWarning: Objective did not converge. You might want to increase the number of iterations. Duality gap: 188702882241.7422, tolerance: 15009215210.168814\n",
      "  model = cd_fast.enet_coordinate_descent(\n",
      "c:\\users\\hareesh\\appdata\\local\\programs\\python\\python38-32\\lib\\site-packages\\sklearn\\linear_model\\_coordinate_descent.py:529: ConvergenceWarning: Objective did not converge. You might want to increase the number of iterations. Duality gap: 13666608596928.303, tolerance: 10396543369.611784\n",
      "  model = cd_fast.enet_coordinate_descent(\n",
      "c:\\users\\hareesh\\appdata\\local\\programs\\python\\python38-32\\lib\\site-packages\\sklearn\\linear_model\\_coordinate_descent.py:529: ConvergenceWarning: Objective did not converge. You might want to increase the number of iterations. Duality gap: 124570349743.625, tolerance: 13495797924.859928\n",
      "  model = cd_fast.enet_coordinate_descent(\n",
      "c:\\users\\hareesh\\appdata\\local\\programs\\python\\python38-32\\lib\\site-packages\\sklearn\\linear_model\\_coordinate_descent.py:529: ConvergenceWarning: Objective did not converge. You might want to increase the number of iterations. Duality gap: 4180408339313.539, tolerance: 30764932426.18237\n",
      "  model = cd_fast.enet_coordinate_descent(\n",
      "c:\\users\\hareesh\\appdata\\local\\programs\\python\\python38-32\\lib\\site-packages\\sklearn\\linear_model\\_coordinate_descent.py:529: ConvergenceWarning: Objective did not converge. You might want to increase the number of iterations. Duality gap: 2951461513083.172, tolerance: 8411089508.2898445\n",
      "  model = cd_fast.enet_coordinate_descent(\n"
     ]
    },
    {
     "data": {
      "text/plain": [
       "BaggingRegressor(base_estimator=Lasso(alpha=10), max_samples=100,\n",
       "                 n_estimators=200, oob_score=True, random_state=0)"
      ]
     },
     "execution_count": 25,
     "metadata": {},
     "output_type": "execute_result"
    },
    {
     "data": {
      "text/plain": [
       "0.6120420071937577"
      ]
     },
     "execution_count": 25,
     "metadata": {},
     "output_type": "execute_result"
    },
    {
     "data": {
      "text/plain": [
       "0.6017228840303759"
      ]
     },
     "execution_count": 25,
     "metadata": {},
     "output_type": "execute_result"
    }
   ],
   "source": [
    "from sklearn.ensemble import BaggingRegressor\n",
    "lass = Lasso(alpha = 10)\n",
    "bag_clf = BaggingRegressor(lass,n_estimators=200, max_samples=100, bootstrap=True, random_state=0, oob_score=True)\n",
    "bag_clf.fit(X_train_org, y_train)\n",
    "y_pred = bag_clf.predict(X_test_org)\n",
    "bag_clf.score(X_train_org, y_train)\n",
    "bag_clf.score(X_test_org, y_test)"
   ]
  },
  {
   "cell_type": "markdown",
   "metadata": {},
   "source": [
    "###### <font color='red'> Lasso regression with bagging\n",
    "Train score: 0.6120\n",
    "\n",
    "Test score: 0.60172"
   ]
  },
  {
   "cell_type": "markdown",
   "metadata": {},
   "source": [
    "### Lasso Regression with pasting"
   ]
  },
  {
   "cell_type": "code",
   "execution_count": 26,
   "metadata": {},
   "outputs": [
    {
     "name": "stderr",
     "output_type": "stream",
     "text": [
      "c:\\users\\hareesh\\appdata\\local\\programs\\python\\python38-32\\lib\\site-packages\\sklearn\\linear_model\\_coordinate_descent.py:529: ConvergenceWarning: Objective did not converge. You might want to increase the number of iterations. Duality gap: 3131484737067.3438, tolerance: 15208652452.296095\n",
      "  model = cd_fast.enet_coordinate_descent(\n",
      "c:\\users\\hareesh\\appdata\\local\\programs\\python\\python38-32\\lib\\site-packages\\sklearn\\linear_model\\_coordinate_descent.py:529: ConvergenceWarning: Objective did not converge. You might want to increase the number of iterations. Duality gap: 112876117572.65625, tolerance: 18418579320.684376\n",
      "  model = cd_fast.enet_coordinate_descent(\n",
      "c:\\users\\hareesh\\appdata\\local\\programs\\python\\python38-32\\lib\\site-packages\\sklearn\\linear_model\\_coordinate_descent.py:529: ConvergenceWarning: Objective did not converge. You might want to increase the number of iterations. Duality gap: 12730721122274.137, tolerance: 8900493144.827896\n",
      "  model = cd_fast.enet_coordinate_descent(\n",
      "c:\\users\\hareesh\\appdata\\local\\programs\\python\\python38-32\\lib\\site-packages\\sklearn\\linear_model\\_coordinate_descent.py:529: ConvergenceWarning: Objective did not converge. You might want to increase the number of iterations. Duality gap: 217606175769.5547, tolerance: 19317373438.667446\n",
      "  model = cd_fast.enet_coordinate_descent(\n",
      "c:\\users\\hareesh\\appdata\\local\\programs\\python\\python38-32\\lib\\site-packages\\sklearn\\linear_model\\_coordinate_descent.py:529: ConvergenceWarning: Objective did not converge. You might want to increase the number of iterations. Duality gap: 18772059725715.04, tolerance: 13769446989.800383\n",
      "  model = cd_fast.enet_coordinate_descent(\n",
      "c:\\users\\hareesh\\appdata\\local\\programs\\python\\python38-32\\lib\\site-packages\\sklearn\\linear_model\\_coordinate_descent.py:529: ConvergenceWarning: Objective did not converge. You might want to increase the number of iterations. Duality gap: 11087730813966.543, tolerance: 9644022230.625\n",
      "  model = cd_fast.enet_coordinate_descent(\n",
      "c:\\users\\hareesh\\appdata\\local\\programs\\python\\python38-32\\lib\\site-packages\\sklearn\\linear_model\\_coordinate_descent.py:529: ConvergenceWarning: Objective did not converge. You might want to increase the number of iterations. Duality gap: 1010126169806.125, tolerance: 15259990428.984375\n",
      "  model = cd_fast.enet_coordinate_descent(\n"
     ]
    },
    {
     "data": {
      "text/plain": [
       "BaggingRegressor(base_estimator=Lasso(alpha=10), bootstrap=False,\n",
       "                 max_samples=100, n_estimators=200, random_state=0)"
      ]
     },
     "execution_count": 26,
     "metadata": {},
     "output_type": "execute_result"
    },
    {
     "data": {
      "text/plain": [
       "0.6122217677829567"
      ]
     },
     "execution_count": 26,
     "metadata": {},
     "output_type": "execute_result"
    },
    {
     "data": {
      "text/plain": [
       "0.6011689131806625"
      ]
     },
     "execution_count": 26,
     "metadata": {},
     "output_type": "execute_result"
    }
   ],
   "source": [
    "from sklearn.ensemble import BaggingRegressor\n",
    "lass = Lasso(alpha = 10)\n",
    "bag_clf = BaggingRegressor(lass,n_estimators=200, max_samples=100, bootstrap=False, random_state=0)\n",
    "bag_clf.fit(X_train_org, y_train)\n",
    "y_pred = bag_clf.predict(X_test_org)\n",
    "bag_clf.score(X_train_org, y_train)\n",
    "bag_clf.score(X_test_org, y_test)"
   ]
  },
  {
   "cell_type": "markdown",
   "metadata": {},
   "source": [
    "##### <font color='red'> Lasso regression with pasting \n",
    "Train score: 0.61222\n",
    "\n",
    "Test score: 0.60117"
   ]
  },
  {
   "cell_type": "markdown",
   "metadata": {},
   "source": [
    "### KNN regression with bagging"
   ]
  },
  {
   "cell_type": "code",
   "execution_count": 27,
   "metadata": {},
   "outputs": [],
   "source": [
    "from sklearn.neighbors import KNeighborsRegressor"
   ]
  },
  {
   "cell_type": "code",
   "execution_count": 28,
   "metadata": {},
   "outputs": [
    {
     "data": {
      "text/plain": [
       "BaggingRegressor(base_estimator=KNeighborsRegressor(n_neighbors=10),\n",
       "                 max_samples=100, n_estimators=200, oob_score=True,\n",
       "                 random_state=0)"
      ]
     },
     "execution_count": 28,
     "metadata": {},
     "output_type": "execute_result"
    }
   ],
   "source": [
    "knn = KNeighborsRegressor(n_neighbors = 10)\n",
    "bag_clf = BaggingRegressor(knn,n_estimators=200, max_samples=100, bootstrap=True, random_state=0, oob_score=True)\n",
    "bag_clf.fit(X_train_scale, y_train)"
   ]
  },
  {
   "cell_type": "code",
   "execution_count": 29,
   "metadata": {},
   "outputs": [
    {
     "data": {
      "text/plain": [
       "0.46585707618200356"
      ]
     },
     "execution_count": 29,
     "metadata": {},
     "output_type": "execute_result"
    },
    {
     "data": {
      "text/plain": [
       "0.4360289767505574"
      ]
     },
     "execution_count": 29,
     "metadata": {},
     "output_type": "execute_result"
    }
   ],
   "source": [
    "bag_clf.score(X_train_scale, y_train)\n",
    "bag_clf.score(X_test_scale, y_test)"
   ]
  },
  {
   "cell_type": "markdown",
   "metadata": {},
   "source": [
    "##### <font color='red'> KNN regression with bagging \n",
    "Train score: 0.4658\n",
    "\n",
    "Test score: 0.4360"
   ]
  },
  {
   "cell_type": "markdown",
   "metadata": {},
   "source": [
    "### KNN regression with pasting"
   ]
  },
  {
   "cell_type": "code",
   "execution_count": 30,
   "metadata": {},
   "outputs": [
    {
     "data": {
      "text/plain": [
       "BaggingRegressor(base_estimator=KNeighborsRegressor(n_neighbors=10),\n",
       "                 bootstrap=False, max_samples=100, n_estimators=20,\n",
       "                 random_state=0)"
      ]
     },
     "execution_count": 30,
     "metadata": {},
     "output_type": "execute_result"
    }
   ],
   "source": [
    "bag_clf = BaggingRegressor(knn,n_estimators=20, max_samples=100, bootstrap=False, random_state=0)\n",
    "bag_clf.fit(X_train_scale, y_train)"
   ]
  },
  {
   "cell_type": "code",
   "execution_count": 31,
   "metadata": {},
   "outputs": [
    {
     "data": {
      "text/plain": [
       "0.4645494203923839"
      ]
     },
     "execution_count": 31,
     "metadata": {},
     "output_type": "execute_result"
    },
    {
     "data": {
      "text/plain": [
       "0.43444024075866494"
      ]
     },
     "execution_count": 31,
     "metadata": {},
     "output_type": "execute_result"
    }
   ],
   "source": [
    "bag_clf.score(X_train_scale, y_train)\n",
    "bag_clf.score(X_test_scale, y_test)"
   ]
  },
  {
   "cell_type": "markdown",
   "metadata": {},
   "source": [
    "##### <font color='red'> KNN regression with pasting \n",
    "Train score: 0.4645\n",
    "\n",
    "Test score: 0.4344"
   ]
  },
  {
   "cell_type": "markdown",
   "metadata": {},
   "source": [
    "## <font color='Blue'> Any two models with AdaBoosting"
   ]
  },
  {
   "cell_type": "markdown",
   "metadata": {},
   "source": [
    "### KNN Regression with AdaBoosting"
   ]
  },
  {
   "cell_type": "code",
   "execution_count": 32,
   "metadata": {},
   "outputs": [
    {
     "data": {
      "text/plain": [
       "GridSearchCV(cv=4,\n",
       "             estimator=AdaBoostRegressor(base_estimator=KNeighborsRegressor(n_neighbors=10),\n",
       "                                         n_estimators=20),\n",
       "             n_jobs=-1, param_grid={'learning_rate': [0.1, 0.5, 1.0]},\n",
       "             return_train_score=True)"
      ]
     },
     "execution_count": 32,
     "metadata": {},
     "output_type": "execute_result"
    }
   ],
   "source": [
    "from sklearn.ensemble import AdaBoostRegressor\n",
    "param_grid = {'learning_rate': [0.1,0.5,1.0]}\n",
    "ada_clf = AdaBoostRegressor(knn,n_estimators=20)\n",
    "GridSearch_dtclf = GridSearchCV(ada_clf, param_grid,cv=4,return_train_score=True,n_jobs= -1)\n",
    "\n",
    "GridSearch_dtclf.fit(X_train_scale, y_train)"
   ]
  },
  {
   "cell_type": "code",
   "execution_count": 33,
   "metadata": {},
   "outputs": [
    {
     "data": {
      "text/plain": [
       "{'learning_rate': 0.1}"
      ]
     },
     "execution_count": 33,
     "metadata": {},
     "output_type": "execute_result"
    },
    {
     "data": {
      "text/plain": [
       "0.5885807895545462"
      ]
     },
     "execution_count": 33,
     "metadata": {},
     "output_type": "execute_result"
    }
   ],
   "source": [
    "GridSearch_dtclf.best_params_\n",
    "GridSearch_dtclf.best_score_"
   ]
  },
  {
   "cell_type": "code",
   "execution_count": 34,
   "metadata": {},
   "outputs": [
    {
     "data": {
      "text/html": [
       "<div>\n",
       "<style scoped>\n",
       "    .dataframe tbody tr th:only-of-type {\n",
       "        vertical-align: middle;\n",
       "    }\n",
       "\n",
       "    .dataframe tbody tr th {\n",
       "        vertical-align: top;\n",
       "    }\n",
       "\n",
       "    .dataframe thead th {\n",
       "        text-align: right;\n",
       "    }\n",
       "</style>\n",
       "<table border=\"1\" class=\"dataframe\">\n",
       "  <thead>\n",
       "    <tr style=\"text-align: right;\">\n",
       "      <th></th>\n",
       "      <th>mean_fit_time</th>\n",
       "      <th>std_fit_time</th>\n",
       "      <th>mean_score_time</th>\n",
       "      <th>std_score_time</th>\n",
       "      <th>param_learning_rate</th>\n",
       "      <th>params</th>\n",
       "      <th>split0_test_score</th>\n",
       "      <th>split1_test_score</th>\n",
       "      <th>split2_test_score</th>\n",
       "      <th>split3_test_score</th>\n",
       "      <th>mean_test_score</th>\n",
       "      <th>std_test_score</th>\n",
       "      <th>rank_test_score</th>\n",
       "      <th>split0_train_score</th>\n",
       "      <th>split1_train_score</th>\n",
       "      <th>split2_train_score</th>\n",
       "      <th>split3_train_score</th>\n",
       "      <th>mean_train_score</th>\n",
       "      <th>std_train_score</th>\n",
       "    </tr>\n",
       "  </thead>\n",
       "  <tbody>\n",
       "    <tr>\n",
       "      <th>0</th>\n",
       "      <td>0.794292</td>\n",
       "      <td>0.011070</td>\n",
       "      <td>0.238113</td>\n",
       "      <td>0.000828</td>\n",
       "      <td>0.1</td>\n",
       "      <td>{'learning_rate': 0.1}</td>\n",
       "      <td>0.686871</td>\n",
       "      <td>0.635101</td>\n",
       "      <td>0.428981</td>\n",
       "      <td>0.603369</td>\n",
       "      <td>0.588581</td>\n",
       "      <td>0.096845</td>\n",
       "      <td>1</td>\n",
       "      <td>0.727809</td>\n",
       "      <td>0.755243</td>\n",
       "      <td>0.784647</td>\n",
       "      <td>0.725846</td>\n",
       "      <td>0.748386</td>\n",
       "      <td>0.023945</td>\n",
       "    </tr>\n",
       "    <tr>\n",
       "      <th>1</th>\n",
       "      <td>0.795540</td>\n",
       "      <td>0.006161</td>\n",
       "      <td>0.269095</td>\n",
       "      <td>0.004813</td>\n",
       "      <td>0.5</td>\n",
       "      <td>{'learning_rate': 0.5}</td>\n",
       "      <td>0.658555</td>\n",
       "      <td>0.588428</td>\n",
       "      <td>0.382881</td>\n",
       "      <td>0.566168</td>\n",
       "      <td>0.549008</td>\n",
       "      <td>0.101793</td>\n",
       "      <td>2</td>\n",
       "      <td>0.847870</td>\n",
       "      <td>0.850897</td>\n",
       "      <td>0.855428</td>\n",
       "      <td>0.827261</td>\n",
       "      <td>0.845364</td>\n",
       "      <td>0.010792</td>\n",
       "    </tr>\n",
       "    <tr>\n",
       "      <th>2</th>\n",
       "      <td>0.780549</td>\n",
       "      <td>0.006281</td>\n",
       "      <td>0.241361</td>\n",
       "      <td>0.003568</td>\n",
       "      <td>1</td>\n",
       "      <td>{'learning_rate': 1.0}</td>\n",
       "      <td>0.614393</td>\n",
       "      <td>0.550298</td>\n",
       "      <td>0.309844</td>\n",
       "      <td>0.578208</td>\n",
       "      <td>0.513185</td>\n",
       "      <td>0.119578</td>\n",
       "      <td>3</td>\n",
       "      <td>0.852144</td>\n",
       "      <td>0.860129</td>\n",
       "      <td>0.864910</td>\n",
       "      <td>0.841488</td>\n",
       "      <td>0.854668</td>\n",
       "      <td>0.008871</td>\n",
       "    </tr>\n",
       "  </tbody>\n",
       "</table>\n",
       "</div>"
      ],
      "text/plain": [
       "   mean_fit_time  std_fit_time  mean_score_time  std_score_time  \\\n",
       "0       0.794292      0.011070         0.238113        0.000828   \n",
       "1       0.795540      0.006161         0.269095        0.004813   \n",
       "2       0.780549      0.006281         0.241361        0.003568   \n",
       "\n",
       "  param_learning_rate                  params  split0_test_score  \\\n",
       "0                 0.1  {'learning_rate': 0.1}           0.686871   \n",
       "1                 0.5  {'learning_rate': 0.5}           0.658555   \n",
       "2                   1  {'learning_rate': 1.0}           0.614393   \n",
       "\n",
       "   split1_test_score  split2_test_score  split3_test_score  mean_test_score  \\\n",
       "0           0.635101           0.428981           0.603369         0.588581   \n",
       "1           0.588428           0.382881           0.566168         0.549008   \n",
       "2           0.550298           0.309844           0.578208         0.513185   \n",
       "\n",
       "   std_test_score  rank_test_score  split0_train_score  split1_train_score  \\\n",
       "0        0.096845                1            0.727809            0.755243   \n",
       "1        0.101793                2            0.847870            0.850897   \n",
       "2        0.119578                3            0.852144            0.860129   \n",
       "\n",
       "   split2_train_score  split3_train_score  mean_train_score  std_train_score  \n",
       "0            0.784647            0.725846          0.748386         0.023945  \n",
       "1            0.855428            0.827261          0.845364         0.010792  \n",
       "2            0.864910            0.841488          0.854668         0.008871  "
      ]
     },
     "execution_count": 34,
     "metadata": {},
     "output_type": "execute_result"
    }
   ],
   "source": [
    "result_lasso_ada= pd.DataFrame(GridSearch_dtclf.cv_results_)\n",
    "result_lasso_ada"
   ]
  },
  {
   "cell_type": "code",
   "execution_count": 35,
   "metadata": {},
   "outputs": [
    {
     "data": {
      "text/plain": [
       "AdaBoostRegressor(base_estimator=KNeighborsRegressor(n_neighbors=10),\n",
       "                  learning_rate=0.1, n_estimators=100)"
      ]
     },
     "execution_count": 35,
     "metadata": {},
     "output_type": "execute_result"
    }
   ],
   "source": [
    "from sklearn.ensemble import AdaBoostRegressor\n",
    "\n",
    "ada_clf = AdaBoostRegressor(knn,n_estimators=100,learning_rate = 0.1)\n",
    "ada_clf.fit(X_train_scale, y_train)"
   ]
  },
  {
   "cell_type": "code",
   "execution_count": 36,
   "metadata": {},
   "outputs": [
    {
     "data": {
      "text/plain": [
       "0.8480803392381028"
      ]
     },
     "execution_count": 36,
     "metadata": {},
     "output_type": "execute_result"
    },
    {
     "data": {
      "text/plain": [
       "0.6130673788275144"
      ]
     },
     "execution_count": 36,
     "metadata": {},
     "output_type": "execute_result"
    }
   ],
   "source": [
    "ada_clf.score(X_train_scale, y_train)\n",
    "ada_clf.score(X_test_scale, y_test)"
   ]
  },
  {
   "cell_type": "markdown",
   "metadata": {},
   "source": [
    "##### <font color='red'> KNN regression with AdaBoosting \n",
    "Train score: 0.8481\n",
    "\n",
    "Test score: 0.6131"
   ]
  },
  {
   "cell_type": "markdown",
   "metadata": {},
   "source": [
    "### Lasso regression with Adaboosting"
   ]
  },
  {
   "cell_type": "code",
   "execution_count": 37,
   "metadata": {},
   "outputs": [
    {
     "data": {
      "text/plain": [
       "AdaBoostRegressor(base_estimator=Lasso(alpha=10), learning_rate=0.25,\n",
       "                  n_estimators=200, random_state=0)"
      ]
     },
     "execution_count": 37,
     "metadata": {},
     "output_type": "execute_result"
    },
    {
     "data": {
      "text/plain": [
       "0.4918967978669656"
      ]
     },
     "execution_count": 37,
     "metadata": {},
     "output_type": "execute_result"
    },
    {
     "data": {
      "text/plain": [
       "0.511238201158414"
      ]
     },
     "execution_count": 37,
     "metadata": {},
     "output_type": "execute_result"
    }
   ],
   "source": [
    "ada_clf = AdaBoostRegressor(lass, n_estimators=200, learning_rate=0.25, random_state=0)\n",
    "ada_clf.fit(X_train_org, y_train)\n",
    "ada_clf.score(X_train_org, y_train)\n",
    "ada_clf.score(X_test_org, y_test)"
   ]
  },
  {
   "cell_type": "markdown",
   "metadata": {},
   "source": [
    "##### <font color='red'> Lasso regression with AdaBoosting\n",
    "Train score: 0.4919\n",
    "\n",
    "Test score: 0.5112"
   ]
  },
  {
   "cell_type": "markdown",
   "metadata": {},
   "source": [
    "### <font color='Blue'> Gradient Boosting"
   ]
  },
  {
   "cell_type": "code",
   "execution_count": 38,
   "metadata": {},
   "outputs": [
    {
     "data": {
      "text/plain": [
       "GradientBoostingRegressor(learning_rate=1.0, max_depth=2, n_estimators=3,\n",
       "                          random_state=42)"
      ]
     },
     "execution_count": 38,
     "metadata": {},
     "output_type": "execute_result"
    },
    {
     "data": {
      "text/plain": [
       "0.6566652610580157"
      ]
     },
     "execution_count": 38,
     "metadata": {},
     "output_type": "execute_result"
    },
    {
     "data": {
      "text/plain": [
       "0.6524760428627481"
      ]
     },
     "execution_count": 38,
     "metadata": {},
     "output_type": "execute_result"
    }
   ],
   "source": [
    "from  sklearn.ensemble import GradientBoostingRegressor\n",
    "\n",
    "gbrt = GradientBoostingRegressor(max_depth=2, n_estimators=3, learning_rate=1.0, random_state=42)\n",
    "gbrt.fit(X_train_org, y_train)\n",
    "gbrt.score(X_train_org, y_train)\n",
    "gbrt.score(X_test_org, y_test)"
   ]
  },
  {
   "cell_type": "markdown",
   "metadata": {},
   "source": [
    "##### <font color='red'>Gradient Boosting\n",
    "Train score: 0.6566\n",
    "\n",
    "Test score: 0.6525"
   ]
  },
  {
   "cell_type": "markdown",
   "metadata": {},
   "source": [
    "## <font color='Blue'> Doing PCA on the Dataset"
   ]
  },
  {
   "cell_type": "code",
   "execution_count": 110,
   "metadata": {},
   "outputs": [
    {
     "data": {
      "text/plain": [
       "array([0.31428478, 0.13024617, 0.11312421, 0.08929631, 0.07263878,\n",
       "       0.07018939, 0.04651687, 0.04265374, 0.03782556, 0.02819541,\n",
       "       0.02256142, 0.01863677, 0.01121999, 0.00261059])"
      ]
     },
     "execution_count": 110,
     "metadata": {},
     "output_type": "execute_result"
    },
    {
     "data": {
      "text/plain": [
       "11"
      ]
     },
     "execution_count": 110,
     "metadata": {},
     "output_type": "execute_result"
    }
   ],
   "source": [
    "from sklearn.decomposition import PCA\n",
    "\n",
    "pca = PCA()\n",
    "\n",
    "X_train_pca = pca.fit_transform(X_train_scale)\n",
    "\n",
    "pca.explained_variance_ratio_\n",
    "\n",
    "cumsum = np.cumsum(pca.explained_variance_ratio_)\n",
    "d = np.argmax(cumsum >= 0.95) + 1\n",
    "d"
   ]
  },
  {
   "cell_type": "code",
   "execution_count": 111,
   "metadata": {},
   "outputs": [
    {
     "data": {
      "text/plain": [
       "0.9675326545460717"
      ]
     },
     "execution_count": 111,
     "metadata": {},
     "output_type": "execute_result"
    }
   ],
   "source": [
    "from sklearn.decomposition import PCA\n",
    "\n",
    "pca = PCA(n_components = 11)\n",
    "X_train_pca = pca.fit_transform(X_train_scale)\n",
    "np.sum(pca.explained_variance_ratio_)"
   ]
  },
  {
   "cell_type": "code",
   "execution_count": 112,
   "metadata": {},
   "outputs": [],
   "source": [
    "X_train_pca = pca.fit_transform(X_train_scale)\n",
    "X_test_pca = pca.transform(X_test_scale)"
   ]
  },
  {
   "cell_type": "code",
   "execution_count": 113,
   "metadata": {},
   "outputs": [
    {
     "data": {
      "text/plain": [
       "(1125, 11)"
      ]
     },
     "execution_count": 113,
     "metadata": {},
     "output_type": "execute_result"
    }
   ],
   "source": [
    "X_train_pca.shape"
   ]
  },
  {
   "cell_type": "markdown",
   "metadata": {},
   "source": [
    "## <font color='blue'> Building The Models:  With PCA"
   ]
  },
  {
   "cell_type": "markdown",
   "metadata": {},
   "source": [
    "## Linear Regression"
   ]
  },
  {
   "cell_type": "code",
   "execution_count": 43,
   "metadata": {},
   "outputs": [
    {
     "data": {
      "text/plain": [
       "GridSearchCV(cv=6, estimator=LinearRegression(),\n",
       "             param_grid={'normalize': [True, False]}, return_train_score=True)"
      ]
     },
     "execution_count": 43,
     "metadata": {},
     "output_type": "execute_result"
    },
    {
     "name": "stdout",
     "output_type": "stream",
     "text": [
      "Best parameters: {'normalize': False}\n",
      "Best cross-validation score: 0.5837\n"
     ]
    }
   ],
   "source": [
    "from sklearn.model_selection import GridSearchCV\n",
    "model = LinearRegression()\n",
    "parameters = {'normalize':[True,False]}\n",
    "grid_search_lr = GridSearchCV(model,parameters, cv=6, return_train_score=True)\n",
    "grid_search_lr.fit(X_train_pca, y_train)\n",
    "print(\"Best parameters: {}\".format(grid_search_lr.best_params_))\n",
    "print(\"Best cross-validation score: {:.4f}\".format(grid_search_lr.best_score_))"
   ]
  },
  {
   "cell_type": "code",
   "execution_count": 44,
   "metadata": {},
   "outputs": [
    {
     "data": {
      "text/html": [
       "<div>\n",
       "<style scoped>\n",
       "    .dataframe tbody tr th:only-of-type {\n",
       "        vertical-align: middle;\n",
       "    }\n",
       "\n",
       "    .dataframe tbody tr th {\n",
       "        vertical-align: top;\n",
       "    }\n",
       "\n",
       "    .dataframe thead th {\n",
       "        text-align: right;\n",
       "    }\n",
       "</style>\n",
       "<table border=\"1\" class=\"dataframe\">\n",
       "  <thead>\n",
       "    <tr style=\"text-align: right;\">\n",
       "      <th></th>\n",
       "      <th>mean_fit_time</th>\n",
       "      <th>std_fit_time</th>\n",
       "      <th>mean_score_time</th>\n",
       "      <th>std_score_time</th>\n",
       "      <th>param_normalize</th>\n",
       "      <th>params</th>\n",
       "      <th>split0_test_score</th>\n",
       "      <th>split1_test_score</th>\n",
       "      <th>split2_test_score</th>\n",
       "      <th>split3_test_score</th>\n",
       "      <th>...</th>\n",
       "      <th>std_test_score</th>\n",
       "      <th>rank_test_score</th>\n",
       "      <th>split0_train_score</th>\n",
       "      <th>split1_train_score</th>\n",
       "      <th>split2_train_score</th>\n",
       "      <th>split3_train_score</th>\n",
       "      <th>split4_train_score</th>\n",
       "      <th>split5_train_score</th>\n",
       "      <th>mean_train_score</th>\n",
       "      <th>std_train_score</th>\n",
       "    </tr>\n",
       "  </thead>\n",
       "  <tbody>\n",
       "    <tr>\n",
       "      <th>0</th>\n",
       "      <td>0.001831</td>\n",
       "      <td>0.000372</td>\n",
       "      <td>0.000500</td>\n",
       "      <td>0.000500</td>\n",
       "      <td>True</td>\n",
       "      <td>{'normalize': True}</td>\n",
       "      <td>0.644035</td>\n",
       "      <td>0.461124</td>\n",
       "      <td>0.629625</td>\n",
       "      <td>0.49171</td>\n",
       "      <td>...</td>\n",
       "      <td>0.079791</td>\n",
       "      <td>2</td>\n",
       "      <td>0.608626</td>\n",
       "      <td>0.632559</td>\n",
       "      <td>0.613413</td>\n",
       "      <td>0.633554</td>\n",
       "      <td>0.606273</td>\n",
       "      <td>0.613677</td>\n",
       "      <td>0.618017</td>\n",
       "      <td>0.010947</td>\n",
       "    </tr>\n",
       "    <tr>\n",
       "      <th>1</th>\n",
       "      <td>0.001666</td>\n",
       "      <td>0.000471</td>\n",
       "      <td>0.000667</td>\n",
       "      <td>0.000471</td>\n",
       "      <td>False</td>\n",
       "      <td>{'normalize': False}</td>\n",
       "      <td>0.644035</td>\n",
       "      <td>0.461124</td>\n",
       "      <td>0.629625</td>\n",
       "      <td>0.49171</td>\n",
       "      <td>...</td>\n",
       "      <td>0.079791</td>\n",
       "      <td>1</td>\n",
       "      <td>0.608626</td>\n",
       "      <td>0.632559</td>\n",
       "      <td>0.613413</td>\n",
       "      <td>0.633554</td>\n",
       "      <td>0.606273</td>\n",
       "      <td>0.613677</td>\n",
       "      <td>0.618017</td>\n",
       "      <td>0.010947</td>\n",
       "    </tr>\n",
       "  </tbody>\n",
       "</table>\n",
       "<p>2 rows × 23 columns</p>\n",
       "</div>"
      ],
      "text/plain": [
       "   mean_fit_time  std_fit_time  mean_score_time  std_score_time  \\\n",
       "0       0.001831      0.000372         0.000500        0.000500   \n",
       "1       0.001666      0.000471         0.000667        0.000471   \n",
       "\n",
       "  param_normalize                params  split0_test_score  split1_test_score  \\\n",
       "0            True   {'normalize': True}           0.644035           0.461124   \n",
       "1           False  {'normalize': False}           0.644035           0.461124   \n",
       "\n",
       "   split2_test_score  split3_test_score  ...  std_test_score  rank_test_score  \\\n",
       "0           0.629625            0.49171  ...        0.079791                2   \n",
       "1           0.629625            0.49171  ...        0.079791                1   \n",
       "\n",
       "   split0_train_score  split1_train_score  split2_train_score  \\\n",
       "0            0.608626            0.632559            0.613413   \n",
       "1            0.608626            0.632559            0.613413   \n",
       "\n",
       "   split3_train_score  split4_train_score  split5_train_score  \\\n",
       "0            0.633554            0.606273            0.613677   \n",
       "1            0.633554            0.606273            0.613677   \n",
       "\n",
       "   mean_train_score  std_train_score  \n",
       "0          0.618017         0.010947  \n",
       "1          0.618017         0.010947  \n",
       "\n",
       "[2 rows x 23 columns]"
      ]
     },
     "execution_count": 44,
     "metadata": {},
     "output_type": "execute_result"
    }
   ],
   "source": [
    "results = pd.DataFrame(grid_search_lr.cv_results_)\n",
    "results"
   ]
  },
  {
   "cell_type": "code",
   "execution_count": 45,
   "metadata": {},
   "outputs": [
    {
     "data": {
      "text/plain": [
       "LinearRegression()"
      ]
     },
     "execution_count": 45,
     "metadata": {},
     "output_type": "execute_result"
    },
    {
     "name": "stdout",
     "output_type": "stream",
     "text": [
      "0.6166928407573682\n"
     ]
    },
    {
     "data": {
      "text/plain": [
       "0.6257219770295974"
      ]
     },
     "execution_count": 45,
     "metadata": {},
     "output_type": "execute_result"
    }
   ],
   "source": [
    "lreg = LinearRegression(normalize = False)\n",
    "lreg.fit(X_train_pca, y_train)\n",
    "print(lreg.score(X_train_pca, y_train))\n",
    "lr_test_score = lreg.score(X_test_pca, y_test)\n",
    "lr_test_score"
   ]
  },
  {
   "cell_type": "code",
   "execution_count": 46,
   "metadata": {},
   "outputs": [
    {
     "name": "stdout",
     "output_type": "stream",
     "text": [
      "Cross-validation scores:\n",
      "[0.64403544 0.46112441 0.62962486 0.49170993 0.67721479 0.5984739 ]\n",
      "0.5836972228598434\n"
     ]
    }
   ],
   "source": [
    "from sklearn.model_selection import KFold\n",
    "from sklearn.model_selection import cross_val_score\n",
    "\n",
    "  \n",
    "kfold = KFold(n_splits=6)\n",
    "print(\"Cross-validation scores:\\n{}\".format(cross_val_score(lreg , X_train_pca, y_train, cv=kfold)))\n",
    "scores = cross_val_score(lreg , X_train_pca, y_train, cv=kfold)\n",
    "print(np.mean(scores))"
   ]
  },
  {
   "cell_type": "code",
   "execution_count": 47,
   "metadata": {},
   "outputs": [
    {
     "data": {
      "text/plain": [
       "LinearRegression()"
      ]
     },
     "execution_count": 47,
     "metadata": {},
     "output_type": "execute_result"
    },
    {
     "data": {
      "text/plain": [
       "[<matplotlib.lines.Line2D at 0x13211970>]"
      ]
     },
     "execution_count": 47,
     "metadata": {},
     "output_type": "execute_result"
    },
    {
     "data": {
      "text/plain": [
       "<matplotlib.collections.PathCollection at 0x2bc0f58>"
      ]
     },
     "execution_count": 47,
     "metadata": {},
     "output_type": "execute_result"
    },
    {
     "data": {
      "text/plain": [
       "Text(0.5, 0, 'sqft_living')"
      ]
     },
     "execution_count": 47,
     "metadata": {},
     "output_type": "execute_result"
    },
    {
     "data": {
      "image/png": "[encoded data removed]",
      "text/plain": [
       "<Figure size 432x288 with 1 Axes>"
      ]
     },
     "metadata": {
      "needs_background": "light"
     },
     "output_type": "display_data"
    }
   ],
   "source": [
    "#PLOT\n",
    "\n",
    "%matplotlib inline\n",
    "import matplotlib.pyplot as plt\n",
    "\n",
    "X_train_array = X_train_org.to_numpy()\n",
    "\n",
    "X_train_rm = X_train_array[:,2].reshape(-1,1)\n",
    "lreg.fit(X_train_rm, y_train)\n",
    "y_predict = lreg.predict(X_train_rm)\n",
    "\n",
    "plt.plot(X_train_rm, y_predict, c = 'r')\n",
    "plt.scatter(X_train_rm,y_train)\n",
    "plt.xlabel('sqft_living')"
   ]
  },
  {
   "cell_type": "markdown",
   "metadata": {},
   "source": [
    "###### <font color='red'>Linear Regression Result:\n",
    "Best parameter: {'normalize': False}\n",
    "\n",
    "Average Cross validation score: 0.6167\n",
    "\n",
    "Test score: 0.6257"
   ]
  },
  {
   "cell_type": "markdown",
   "metadata": {},
   "source": [
    "## KNN Regression"
   ]
  },
  {
   "cell_type": "code",
   "execution_count": 48,
   "metadata": {},
   "outputs": [],
   "source": [
    "grid_parms_knn = {'n_neighbors':[1,5,10,15,20]}"
   ]
  },
  {
   "cell_type": "code",
   "execution_count": 49,
   "metadata": {},
   "outputs": [
    {
     "data": {
      "text/plain": [
       "GridSearchCV(cv=6, estimator=KNeighborsRegressor(), n_jobs=-1,\n",
       "             param_grid={'n_neighbors': [1, 5, 10, 15, 20]},\n",
       "             return_train_score=True)"
      ]
     },
     "execution_count": 49,
     "metadata": {},
     "output_type": "execute_result"
    }
   ],
   "source": [
    "knn = KNeighborsRegressor()\n",
    "grid_search_knn = GridSearchCV(knn, grid_parms_knn,cv=6,return_train_score=True,n_jobs= -1)\n",
    "grid_search_knn.fit(X_train_pca, y_train)"
   ]
  },
  {
   "cell_type": "code",
   "execution_count": 50,
   "metadata": {},
   "outputs": [
    {
     "name": "stdout",
     "output_type": "stream",
     "text": [
      "Best parameters: {'n_neighbors': 5}\n",
      "Best cross-validation score: 0.5738\n"
     ]
    },
    {
     "data": {
      "text/html": [
       "<div>\n",
       "<style scoped>\n",
       "    .dataframe tbody tr th:only-of-type {\n",
       "        vertical-align: middle;\n",
       "    }\n",
       "\n",
       "    .dataframe tbody tr th {\n",
       "        vertical-align: top;\n",
       "    }\n",
       "\n",
       "    .dataframe thead th {\n",
       "        text-align: right;\n",
       "    }\n",
       "</style>\n",
       "<table border=\"1\" class=\"dataframe\">\n",
       "  <thead>\n",
       "    <tr style=\"text-align: right;\">\n",
       "      <th></th>\n",
       "      <th>mean_fit_time</th>\n",
       "      <th>std_fit_time</th>\n",
       "      <th>mean_score_time</th>\n",
       "      <th>std_score_time</th>\n",
       "      <th>param_n_neighbors</th>\n",
       "      <th>params</th>\n",
       "      <th>split0_test_score</th>\n",
       "      <th>split1_test_score</th>\n",
       "      <th>split2_test_score</th>\n",
       "      <th>split3_test_score</th>\n",
       "      <th>...</th>\n",
       "      <th>std_test_score</th>\n",
       "      <th>rank_test_score</th>\n",
       "      <th>split0_train_score</th>\n",
       "      <th>split1_train_score</th>\n",
       "      <th>split2_train_score</th>\n",
       "      <th>split3_train_score</th>\n",
       "      <th>split4_train_score</th>\n",
       "      <th>split5_train_score</th>\n",
       "      <th>mean_train_score</th>\n",
       "      <th>std_train_score</th>\n",
       "    </tr>\n",
       "  </thead>\n",
       "  <tbody>\n",
       "    <tr>\n",
       "      <th>0</th>\n",
       "      <td>0.004163</td>\n",
       "      <td>6.877805e-04</td>\n",
       "      <td>0.004832</td>\n",
       "      <td>0.000688</td>\n",
       "      <td>1</td>\n",
       "      <td>{'n_neighbors': 1}</td>\n",
       "      <td>0.457618</td>\n",
       "      <td>0.531866</td>\n",
       "      <td>0.560647</td>\n",
       "      <td>0.250198</td>\n",
       "      <td>...</td>\n",
       "      <td>0.101598</td>\n",
       "      <td>5</td>\n",
       "      <td>1.000000</td>\n",
       "      <td>1.000000</td>\n",
       "      <td>1.000000</td>\n",
       "      <td>1.000000</td>\n",
       "      <td>1.000000</td>\n",
       "      <td>1.000000</td>\n",
       "      <td>1.000000</td>\n",
       "      <td>0.000000</td>\n",
       "    </tr>\n",
       "    <tr>\n",
       "      <th>1</th>\n",
       "      <td>0.004663</td>\n",
       "      <td>1.489769e-03</td>\n",
       "      <td>0.006329</td>\n",
       "      <td>0.001105</td>\n",
       "      <td>5</td>\n",
       "      <td>{'n_neighbors': 5}</td>\n",
       "      <td>0.602060</td>\n",
       "      <td>0.617169</td>\n",
       "      <td>0.608077</td>\n",
       "      <td>0.392993</td>\n",
       "      <td>...</td>\n",
       "      <td>0.084336</td>\n",
       "      <td>1</td>\n",
       "      <td>0.722309</td>\n",
       "      <td>0.743373</td>\n",
       "      <td>0.732751</td>\n",
       "      <td>0.762889</td>\n",
       "      <td>0.730158</td>\n",
       "      <td>0.740574</td>\n",
       "      <td>0.738676</td>\n",
       "      <td>0.012829</td>\n",
       "    </tr>\n",
       "    <tr>\n",
       "      <th>2</th>\n",
       "      <td>0.004997</td>\n",
       "      <td>1.526686e-03</td>\n",
       "      <td>0.010327</td>\n",
       "      <td>0.005904</td>\n",
       "      <td>10</td>\n",
       "      <td>{'n_neighbors': 10}</td>\n",
       "      <td>0.625159</td>\n",
       "      <td>0.621594</td>\n",
       "      <td>0.626329</td>\n",
       "      <td>0.360952</td>\n",
       "      <td>...</td>\n",
       "      <td>0.099099</td>\n",
       "      <td>2</td>\n",
       "      <td>0.650048</td>\n",
       "      <td>0.664430</td>\n",
       "      <td>0.671852</td>\n",
       "      <td>0.707010</td>\n",
       "      <td>0.677887</td>\n",
       "      <td>0.649851</td>\n",
       "      <td>0.670180</td>\n",
       "      <td>0.019452</td>\n",
       "    </tr>\n",
       "    <tr>\n",
       "      <th>3</th>\n",
       "      <td>0.004830</td>\n",
       "      <td>1.212391e-03</td>\n",
       "      <td>0.006662</td>\n",
       "      <td>0.000471</td>\n",
       "      <td>15</td>\n",
       "      <td>{'n_neighbors': 15}</td>\n",
       "      <td>0.615898</td>\n",
       "      <td>0.590911</td>\n",
       "      <td>0.609538</td>\n",
       "      <td>0.416112</td>\n",
       "      <td>...</td>\n",
       "      <td>0.071993</td>\n",
       "      <td>3</td>\n",
       "      <td>0.616102</td>\n",
       "      <td>0.644116</td>\n",
       "      <td>0.640583</td>\n",
       "      <td>0.672555</td>\n",
       "      <td>0.648796</td>\n",
       "      <td>0.624980</td>\n",
       "      <td>0.641189</td>\n",
       "      <td>0.017994</td>\n",
       "    </tr>\n",
       "    <tr>\n",
       "      <th>4</th>\n",
       "      <td>0.003997</td>\n",
       "      <td>4.052337e-07</td>\n",
       "      <td>0.007496</td>\n",
       "      <td>0.000499</td>\n",
       "      <td>20</td>\n",
       "      <td>{'n_neighbors': 20}</td>\n",
       "      <td>0.600545</td>\n",
       "      <td>0.579337</td>\n",
       "      <td>0.589000</td>\n",
       "      <td>0.432552</td>\n",
       "      <td>...</td>\n",
       "      <td>0.064090</td>\n",
       "      <td>4</td>\n",
       "      <td>0.589541</td>\n",
       "      <td>0.623593</td>\n",
       "      <td>0.615804</td>\n",
       "      <td>0.648555</td>\n",
       "      <td>0.622902</td>\n",
       "      <td>0.602674</td>\n",
       "      <td>0.617178</td>\n",
       "      <td>0.018414</td>\n",
       "    </tr>\n",
       "  </tbody>\n",
       "</table>\n",
       "<p>5 rows × 23 columns</p>\n",
       "</div>"
      ],
      "text/plain": [
       "   mean_fit_time  std_fit_time  mean_score_time  std_score_time  \\\n",
       "0       0.004163  6.877805e-04         0.004832        0.000688   \n",
       "1       0.004663  1.489769e-03         0.006329        0.001105   \n",
       "2       0.004997  1.526686e-03         0.010327        0.005904   \n",
       "3       0.004830  1.212391e-03         0.006662        0.000471   \n",
       "4       0.003997  4.052337e-07         0.007496        0.000499   \n",
       "\n",
       "  param_n_neighbors               params  split0_test_score  \\\n",
       "0                 1   {'n_neighbors': 1}           0.457618   \n",
       "1                 5   {'n_neighbors': 5}           0.602060   \n",
       "2                10  {'n_neighbors': 10}           0.625159   \n",
       "3                15  {'n_neighbors': 15}           0.615898   \n",
       "4                20  {'n_neighbors': 20}           0.600545   \n",
       "\n",
       "   split1_test_score  split2_test_score  split3_test_score  ...  \\\n",
       "0           0.531866           0.560647           0.250198  ...   \n",
       "1           0.617169           0.608077           0.392993  ...   \n",
       "2           0.621594           0.626329           0.360952  ...   \n",
       "3           0.590911           0.609538           0.416112  ...   \n",
       "4           0.579337           0.589000           0.432552  ...   \n",
       "\n",
       "   std_test_score  rank_test_score  split0_train_score  split1_train_score  \\\n",
       "0        0.101598                5            1.000000            1.000000   \n",
       "1        0.084336                1            0.722309            0.743373   \n",
       "2        0.099099                2            0.650048            0.664430   \n",
       "3        0.071993                3            0.616102            0.644116   \n",
       "4        0.064090                4            0.589541            0.623593   \n",
       "\n",
       "   split2_train_score  split3_train_score  split4_train_score  \\\n",
       "0            1.000000            1.000000            1.000000   \n",
       "1            0.732751            0.762889            0.730158   \n",
       "2            0.671852            0.707010            0.677887   \n",
       "3            0.640583            0.672555            0.648796   \n",
       "4            0.615804            0.648555            0.622902   \n",
       "\n",
       "   split5_train_score  mean_train_score  std_train_score  \n",
       "0            1.000000          1.000000         0.000000  \n",
       "1            0.740574          0.738676         0.012829  \n",
       "2            0.649851          0.670180         0.019452  \n",
       "3            0.624980          0.641189         0.017994  \n",
       "4            0.602674          0.617178         0.018414  \n",
       "\n",
       "[5 rows x 23 columns]"
      ]
     },
     "execution_count": 50,
     "metadata": {},
     "output_type": "execute_result"
    }
   ],
   "source": [
    "print(\"Best parameters: {}\".format(grid_search_knn.best_params_))\n",
    "print(\"Best cross-validation score: {:.4f}\".format(grid_search_knn.best_score_))\n",
    "pd.DataFrame(grid_search_knn.cv_results_)"
   ]
  },
  {
   "cell_type": "code",
   "execution_count": 51,
   "metadata": {},
   "outputs": [
    {
     "data": {
      "text/plain": [
       "KNeighborsRegressor()"
      ]
     },
     "execution_count": 51,
     "metadata": {},
     "output_type": "execute_result"
    },
    {
     "name": "stdout",
     "output_type": "stream",
     "text": [
      "0.7476118156507462\n"
     ]
    },
    {
     "data": {
      "text/plain": [
       "0.641261171643956"
      ]
     },
     "execution_count": 51,
     "metadata": {},
     "output_type": "execute_result"
    }
   ],
   "source": [
    "knn = KNeighborsRegressor(n_neighbors = 5)\n",
    "knn.fit(X_train_pca, y_train)\n",
    "print(knn.score(X_train_pca, y_train))\n",
    "knn_test_score_ = knn.score(X_test_pca, y_test)\n",
    "knn_test_score_"
   ]
  },
  {
   "cell_type": "code",
   "execution_count": 52,
   "metadata": {},
   "outputs": [
    {
     "name": "stdout",
     "output_type": "stream",
     "text": [
      "Cross-validation scores:\n",
      "[0.60206001 0.61716908 0.60807728 0.39299265 0.65203284 0.57070664]\n",
      "0.5738397485253709\n"
     ]
    }
   ],
   "source": [
    "from sklearn.model_selection import KFold\n",
    "from sklearn.model_selection import cross_val_score\n",
    "\n",
    "  \n",
    "kfold = KFold(n_splits=6)\n",
    "print(\"Cross-validation scores:\\n{}\".format(cross_val_score(knn , X_train_pca, y_train, cv=kfold)))\n",
    "scores = cross_val_score(knn , X_train_pca, y_train, cv=kfold)\n",
    "print(np.mean(scores))"
   ]
  },
  {
   "cell_type": "code",
   "execution_count": 54,
   "metadata": {},
   "outputs": [
    {
     "data": {
      "text/plain": [
       "KNeighborsRegressor()"
      ]
     },
     "execution_count": 54,
     "metadata": {},
     "output_type": "execute_result"
    },
    {
     "data": {
      "text/plain": [
       "[<matplotlib.lines.Line2D at 0x11fbda00>]"
      ]
     },
     "execution_count": 54,
     "metadata": {},
     "output_type": "execute_result"
    },
    {
     "data": {
      "text/plain": [
       "<matplotlib.collections.PathCollection at 0x11fbd820>"
      ]
     },
     "execution_count": 54,
     "metadata": {},
     "output_type": "execute_result"
    },
    {
     "data": {
      "text/plain": [
       "Text(0.5, 0, 'sqft_living')"
      ]
     },
     "execution_count": 54,
     "metadata": {},
     "output_type": "execute_result"
    },
    {
     "data": {
      "image/png": "[encoded data removed]",
      "text/plain": [
       "<Figure size 432x288 with 1 Axes>"
      ]
     },
     "metadata": {
      "needs_background": "light"
     },
     "output_type": "display_data"
    }
   ],
   "source": [
    "X_b = X_train_array[:50,2].reshape(-1,1)\n",
    "y_b = y_train[:50]\n",
    "\n",
    "knn_reg = KNeighborsRegressor(5)\n",
    "knn_reg.fit(X_b, y_b)\n",
    "\n",
    "X_new=np.linspace(X_b.min(), X_b.max(), 50).reshape(50, 1)\n",
    "y_predict = knn_reg.predict(X_new)\n",
    "\n",
    "plt.plot(X_new, y_predict, c = 'r')\n",
    "plt.scatter(X_b, y_b)\n",
    "plt.xlabel('sqft_living')"
   ]
  },
  {
   "cell_type": "markdown",
   "metadata": {},
   "source": [
    "###### <font color='red'> KNN Regression Result:\n",
    "Best parameter: {n_neighbors: 5}\n",
    "\n",
    "Average Cross validation score: 0.7476\n",
    "\n",
    "Test score: 0.6413"
   ]
  },
  {
   "cell_type": "markdown",
   "metadata": {},
   "source": [
    "## Ridge Regression"
   ]
  },
  {
   "cell_type": "code",
   "execution_count": 55,
   "metadata": {},
   "outputs": [],
   "source": [
    "grid_parms_ridge = {'alpha': [0.01, 0.1, 1, 10, 100]}"
   ]
  },
  {
   "cell_type": "code",
   "execution_count": 56,
   "metadata": {},
   "outputs": [
    {
     "data": {
      "text/plain": [
       "GridSearchCV(cv=5, estimator=Ridge(), n_jobs=-1,\n",
       "             param_grid={'alpha': [0.01, 0.1, 1, 10, 100]},\n",
       "             return_train_score=True)"
      ]
     },
     "execution_count": 56,
     "metadata": {},
     "output_type": "execute_result"
    },
    {
     "name": "stdout",
     "output_type": "stream",
     "text": [
      "Best parameters: {'alpha': 100}\n",
      "Best cross-validation score: 0.5864\n"
     ]
    }
   ],
   "source": [
    "ridge = Ridge()\n",
    "grid_search_ridge = GridSearchCV(estimator = ridge,param_grid = grid_parms_ridge,return_train_score=True,n_jobs= -1,cv=5)\n",
    "grid_search_ridge.fit(X_train_pca, y_train)\n",
    "print(\"Best parameters: {}\".format(grid_search_ridge.best_params_))\n",
    "\n",
    "print(\"Best cross-validation score: {:.4f}\".format(grid_search_ridge.best_score_))"
   ]
  },
  {
   "cell_type": "code",
   "execution_count": 57,
   "metadata": {},
   "outputs": [
    {
     "data": {
      "text/plain": [
       "Ridge(alpha=100)"
      ]
     },
     "execution_count": 57,
     "metadata": {},
     "output_type": "execute_result"
    },
    {
     "name": "stdout",
     "output_type": "stream",
     "text": [
      "0.6154160276765761\n"
     ]
    },
    {
     "data": {
      "text/plain": [
       "0.6189654844318735"
      ]
     },
     "execution_count": 57,
     "metadata": {},
     "output_type": "execute_result"
    }
   ],
   "source": [
    "ridge = Ridge(alpha = 100)\n",
    "ridge.fit(X_train_pca, y_train)\n",
    "print(ridge.score(X_train_pca, y_train))\n",
    "ridge_test_score_ = ridge.score(X_test_pca, y_test)\n",
    "ridge_test_score_"
   ]
  },
  {
   "cell_type": "code",
   "execution_count": 58,
   "metadata": {},
   "outputs": [
    {
     "name": "stdout",
     "output_type": "stream",
     "text": [
      "Cross-validation scores:\n",
      "[0.63778196 0.48038975 0.63185241 0.49677216 0.68495066 0.58718036]\n",
      "0.586487883942668\n"
     ]
    }
   ],
   "source": [
    "from sklearn.model_selection import KFold\n",
    "from sklearn.model_selection import cross_val_score\n",
    "\n",
    "  \n",
    "kfold = KFold(n_splits=6)\n",
    "print(\"Cross-validation scores:\\n{}\".format(cross_val_score(ridge , X_train_pca, y_train, cv=kfold)))\n",
    "scores = cross_val_score(ridge , X_train_pca, y_train, cv=kfold)\n",
    "print(np.mean(scores))"
   ]
  },
  {
   "cell_type": "code",
   "execution_count": 59,
   "metadata": {},
   "outputs": [
    {
     "data": {
      "text/html": [
       "<div>\n",
       "<style scoped>\n",
       "    .dataframe tbody tr th:only-of-type {\n",
       "        vertical-align: middle;\n",
       "    }\n",
       "\n",
       "    .dataframe tbody tr th {\n",
       "        vertical-align: top;\n",
       "    }\n",
       "\n",
       "    .dataframe thead th {\n",
       "        text-align: right;\n",
       "    }\n",
       "</style>\n",
       "<table border=\"1\" class=\"dataframe\">\n",
       "  <thead>\n",
       "    <tr style=\"text-align: right;\">\n",
       "      <th></th>\n",
       "      <th>mean_fit_time</th>\n",
       "      <th>std_fit_time</th>\n",
       "      <th>mean_score_time</th>\n",
       "      <th>std_score_time</th>\n",
       "      <th>param_alpha</th>\n",
       "      <th>params</th>\n",
       "      <th>split0_test_score</th>\n",
       "      <th>split1_test_score</th>\n",
       "      <th>split2_test_score</th>\n",
       "      <th>split3_test_score</th>\n",
       "      <th>...</th>\n",
       "      <th>mean_test_score</th>\n",
       "      <th>std_test_score</th>\n",
       "      <th>rank_test_score</th>\n",
       "      <th>split0_train_score</th>\n",
       "      <th>split1_train_score</th>\n",
       "      <th>split2_train_score</th>\n",
       "      <th>split3_train_score</th>\n",
       "      <th>split4_train_score</th>\n",
       "      <th>mean_train_score</th>\n",
       "      <th>std_train_score</th>\n",
       "    </tr>\n",
       "  </thead>\n",
       "  <tbody>\n",
       "    <tr>\n",
       "      <th>0</th>\n",
       "      <td>0.024546</td>\n",
       "      <td>1.269625e-02</td>\n",
       "      <td>0.000399</td>\n",
       "      <td>0.000489</td>\n",
       "      <td>0.01</td>\n",
       "      <td>{'alpha': 0.01}</td>\n",
       "      <td>0.640417</td>\n",
       "      <td>0.428589</td>\n",
       "      <td>0.601040</td>\n",
       "      <td>0.625645</td>\n",
       "      <td>...</td>\n",
       "      <td>0.581801</td>\n",
       "      <td>0.077712</td>\n",
       "      <td>5</td>\n",
       "      <td>0.609149</td>\n",
       "      <td>0.639047</td>\n",
       "      <td>0.619258</td>\n",
       "      <td>0.612643</td>\n",
       "      <td>0.609923</td>\n",
       "      <td>0.618004</td>\n",
       "      <td>0.011107</td>\n",
       "    </tr>\n",
       "    <tr>\n",
       "      <th>1</th>\n",
       "      <td>0.001999</td>\n",
       "      <td>6.321095e-04</td>\n",
       "      <td>0.000800</td>\n",
       "      <td>0.000400</td>\n",
       "      <td>0.1</td>\n",
       "      <td>{'alpha': 0.1}</td>\n",
       "      <td>0.640412</td>\n",
       "      <td>0.428620</td>\n",
       "      <td>0.601040</td>\n",
       "      <td>0.625665</td>\n",
       "      <td>...</td>\n",
       "      <td>0.581809</td>\n",
       "      <td>0.077700</td>\n",
       "      <td>4</td>\n",
       "      <td>0.609149</td>\n",
       "      <td>0.639047</td>\n",
       "      <td>0.619258</td>\n",
       "      <td>0.612643</td>\n",
       "      <td>0.609923</td>\n",
       "      <td>0.618004</td>\n",
       "      <td>0.011107</td>\n",
       "    </tr>\n",
       "    <tr>\n",
       "      <th>2</th>\n",
       "      <td>0.002000</td>\n",
       "      <td>9.933790e-07</td>\n",
       "      <td>0.000200</td>\n",
       "      <td>0.000399</td>\n",
       "      <td>1</td>\n",
       "      <td>{'alpha': 1}</td>\n",
       "      <td>0.640370</td>\n",
       "      <td>0.428925</td>\n",
       "      <td>0.601042</td>\n",
       "      <td>0.625864</td>\n",
       "      <td>...</td>\n",
       "      <td>0.581882</td>\n",
       "      <td>0.077588</td>\n",
       "      <td>3</td>\n",
       "      <td>0.609148</td>\n",
       "      <td>0.639047</td>\n",
       "      <td>0.619258</td>\n",
       "      <td>0.612643</td>\n",
       "      <td>0.609922</td>\n",
       "      <td>0.618004</td>\n",
       "      <td>0.011107</td>\n",
       "    </tr>\n",
       "    <tr>\n",
       "      <th>3</th>\n",
       "      <td>0.002198</td>\n",
       "      <td>9.791511e-04</td>\n",
       "      <td>0.000400</td>\n",
       "      <td>0.000490</td>\n",
       "      <td>10</td>\n",
       "      <td>{'alpha': 10}</td>\n",
       "      <td>0.639926</td>\n",
       "      <td>0.431900</td>\n",
       "      <td>0.601024</td>\n",
       "      <td>0.627787</td>\n",
       "      <td>...</td>\n",
       "      <td>0.582573</td>\n",
       "      <td>0.076493</td>\n",
       "      <td>2</td>\n",
       "      <td>0.609126</td>\n",
       "      <td>0.639021</td>\n",
       "      <td>0.619232</td>\n",
       "      <td>0.612618</td>\n",
       "      <td>0.609899</td>\n",
       "      <td>0.617979</td>\n",
       "      <td>0.011106</td>\n",
       "    </tr>\n",
       "    <tr>\n",
       "      <th>4</th>\n",
       "      <td>0.001199</td>\n",
       "      <td>3.998519e-04</td>\n",
       "      <td>0.000799</td>\n",
       "      <td>0.000400</td>\n",
       "      <td>100</td>\n",
       "      <td>{'alpha': 100}</td>\n",
       "      <td>0.634399</td>\n",
       "      <td>0.455217</td>\n",
       "      <td>0.598599</td>\n",
       "      <td>0.641305</td>\n",
       "      <td>...</td>\n",
       "      <td>0.586374</td>\n",
       "      <td>0.067721</td>\n",
       "      <td>1</td>\n",
       "      <td>0.607371</td>\n",
       "      <td>0.636997</td>\n",
       "      <td>0.617257</td>\n",
       "      <td>0.610631</td>\n",
       "      <td>0.608023</td>\n",
       "      <td>0.616056</td>\n",
       "      <td>0.011040</td>\n",
       "    </tr>\n",
       "  </tbody>\n",
       "</table>\n",
       "<p>5 rows × 21 columns</p>\n",
       "</div>"
      ],
      "text/plain": [
       "   mean_fit_time  std_fit_time  mean_score_time  std_score_time param_alpha  \\\n",
       "0       0.024546  1.269625e-02         0.000399        0.000489        0.01   \n",
       "1       0.001999  6.321095e-04         0.000800        0.000400         0.1   \n",
       "2       0.002000  9.933790e-07         0.000200        0.000399           1   \n",
       "3       0.002198  9.791511e-04         0.000400        0.000490          10   \n",
       "4       0.001199  3.998519e-04         0.000799        0.000400         100   \n",
       "\n",
       "            params  split0_test_score  split1_test_score  split2_test_score  \\\n",
       "0  {'alpha': 0.01}           0.640417           0.428589           0.601040   \n",
       "1   {'alpha': 0.1}           0.640412           0.428620           0.601040   \n",
       "2     {'alpha': 1}           0.640370           0.428925           0.601042   \n",
       "3    {'alpha': 10}           0.639926           0.431900           0.601024   \n",
       "4   {'alpha': 100}           0.634399           0.455217           0.598599   \n",
       "\n",
       "   split3_test_score  ...  mean_test_score  std_test_score  rank_test_score  \\\n",
       "0           0.625645  ...         0.581801        0.077712                5   \n",
       "1           0.625665  ...         0.581809        0.077700                4   \n",
       "2           0.625864  ...         0.581882        0.077588                3   \n",
       "3           0.627787  ...         0.582573        0.076493                2   \n",
       "4           0.641305  ...         0.586374        0.067721                1   \n",
       "\n",
       "   split0_train_score  split1_train_score  split2_train_score  \\\n",
       "0            0.609149            0.639047            0.619258   \n",
       "1            0.609149            0.639047            0.619258   \n",
       "2            0.609148            0.639047            0.619258   \n",
       "3            0.609126            0.639021            0.619232   \n",
       "4            0.607371            0.636997            0.617257   \n",
       "\n",
       "   split3_train_score  split4_train_score  mean_train_score  std_train_score  \n",
       "0            0.612643            0.609923          0.618004         0.011107  \n",
       "1            0.612643            0.609923          0.618004         0.011107  \n",
       "2            0.612643            0.609922          0.618004         0.011107  \n",
       "3            0.612618            0.609899          0.617979         0.011106  \n",
       "4            0.610631            0.608023          0.616056         0.011040  \n",
       "\n",
       "[5 rows x 21 columns]"
      ]
     },
     "execution_count": 59,
     "metadata": {},
     "output_type": "execute_result"
    }
   ],
   "source": [
    "result_ridge = pd.DataFrame(grid_search_ridge.cv_results_)\n",
    "result_ridge"
   ]
  },
  {
   "cell_type": "code",
   "execution_count": 60,
   "metadata": {},
   "outputs": [
    {
     "data": {
      "text/plain": [
       "[<matplotlib.lines.Line2D at 0x13055148>]"
      ]
     },
     "execution_count": 60,
     "metadata": {},
     "output_type": "execute_result"
    },
    {
     "data": {
      "text/plain": [
       "[<matplotlib.lines.Line2D at 0x14398a18>]"
      ]
     },
     "execution_count": 60,
     "metadata": {},
     "output_type": "execute_result"
    },
    {
     "data": {
      "text/plain": [
       "([<matplotlib.axis.XTick at 0x130c26b8>,\n",
       "  <matplotlib.axis.XTick at 0x130c24d8>,\n",
       "  <matplotlib.axis.XTick at 0x130f84c0>,\n",
       "  <matplotlib.axis.XTick at 0x14398cd0>,\n",
       "  <matplotlib.axis.XTick at 0x14398f58>],\n",
       " [Text(0, 0, '0.01'),\n",
       "  Text(0, 0, '0.1'),\n",
       "  Text(0, 0, '1'),\n",
       "  Text(0, 0, '10'),\n",
       "  Text(0, 0, '100')])"
      ]
     },
     "execution_count": 60,
     "metadata": {},
     "output_type": "execute_result"
    },
    {
     "data": {
      "text/plain": [
       "[<matplotlib.lines.Line2D at 0x43662b0>]"
      ]
     },
     "execution_count": 60,
     "metadata": {},
     "output_type": "execute_result"
    },
    {
     "data": {
      "text/plain": [
       "[<matplotlib.lines.Line2D at 0x14398d78>]"
      ]
     },
     "execution_count": 60,
     "metadata": {},
     "output_type": "execute_result"
    },
    {
     "data": {
      "text/plain": [
       "<matplotlib.legend.Legend at 0x14398fe8>"
      ]
     },
     "execution_count": 60,
     "metadata": {},
     "output_type": "execute_result"
    },
    {
     "data": {
      "text/plain": [
       "Text(0.5, 0, 'Alpha')"
      ]
     },
     "execution_count": 60,
     "metadata": {},
     "output_type": "execute_result"
    },
    {
     "data": {
      "image/png": "[encoded data removed]",
      "text/plain": [
       "<Figure size 432x288 with 1 Axes>"
      ]
     },
     "metadata": {
      "needs_background": "light"
     },
     "output_type": "display_data"
    }
   ],
   "source": [
    "import matplotlib.pyplot as plt\n",
    "%matplotlib inline\n",
    "\n",
    "plt.plot(range(result_ridge.shape[0]), result_ridge['mean_train_score'], label = 'mean train score')\n",
    "plt.plot(range(result_ridge.shape[0]), result_ridge['mean_test_score'], label = 'mean test score')\n",
    "plt.xticks(range(result_ridge.shape[0]), result_ridge['param_alpha'], rotation = 90)\n",
    "plt.plot([grid_search_ridge.best_index_], result_ridge['mean_train_score'][grid_search_ridge.best_index_], 'o', markersize = 10, fillstyle = \"none\")\n",
    "plt.plot([grid_search_ridge.best_index_], result_ridge['mean_test_score'][grid_search_ridge.best_index_], 'o', markersize = 10, fillstyle = \"none\")\n",
    "plt.grid()\n",
    "plt.legend()\n",
    "plt.xlabel('Alpha')"
   ]
  },
  {
   "cell_type": "markdown",
   "metadata": {},
   "source": [
    "###### <font color='red'>Ridge Regression Result:\n",
    "Best parameter: {'alpha': 100}\n",
    "\n",
    "Average Cross validation score: 0.6154\n",
    "\n",
    "Test score: 0.6190"
   ]
  },
  {
   "cell_type": "markdown",
   "metadata": {},
   "source": [
    "## Lasso Regression"
   ]
  },
  {
   "cell_type": "code",
   "execution_count": 61,
   "metadata": {},
   "outputs": [],
   "source": [
    "grid_parms_lasso = {'alpha': [0.01, 0.1, 1, 10,100]}"
   ]
  },
  {
   "cell_type": "code",
   "execution_count": 62,
   "metadata": {},
   "outputs": [
    {
     "data": {
      "text/plain": [
       "GridSearchCV(cv=5, estimator=Lasso(), n_jobs=-1,\n",
       "             param_grid={'alpha': [0.01, 0.1, 1, 10, 100]},\n",
       "             return_train_score=True)"
      ]
     },
     "execution_count": 62,
     "metadata": {},
     "output_type": "execute_result"
    },
    {
     "name": "stdout",
     "output_type": "stream",
     "text": [
      "Best parameters: {'alpha': 100}\n",
      "Best cross-validation score: 0.5819\n"
     ]
    }
   ],
   "source": [
    "lasso = Lasso()\n",
    "grid_search_lasso = GridSearchCV(estimator = lasso,param_grid = grid_parms_lasso,return_train_score=True,n_jobs=-1,cv=5)\n",
    "grid_search_lasso.fit(X_train_pca, y_train)\n",
    "print(\"Best parameters: {}\".format(grid_search_lasso.best_params_))\n",
    "print(\"Best cross-validation score: {:.4f}\".format(grid_search_lasso.best_score_))"
   ]
  },
  {
   "cell_type": "code",
   "execution_count": 63,
   "metadata": {},
   "outputs": [
    {
     "data": {
      "text/plain": [
       "Lasso(alpha=100)"
      ]
     },
     "execution_count": 63,
     "metadata": {},
     "output_type": "execute_result"
    },
    {
     "name": "stdout",
     "output_type": "stream",
     "text": [
      "0.6166916601866264\n"
     ]
    },
    {
     "data": {
      "text/plain": [
       "0.6255027482780919"
      ]
     },
     "execution_count": 63,
     "metadata": {},
     "output_type": "execute_result"
    }
   ],
   "source": [
    "lass = Lasso(alpha = 100)\n",
    "lass.fit(X_train_pca, y_train)\n",
    "print(lass.score(X_train_pca, y_train))\n",
    "lass_test_score_ = lass.score(X_test_pca, y_test)\n",
    "lass_test_score_"
   ]
  },
  {
   "cell_type": "code",
   "execution_count": 64,
   "metadata": {},
   "outputs": [
    {
     "data": {
      "text/plain": [
       "Lasso(alpha=100)"
      ]
     },
     "execution_count": 64,
     "metadata": {},
     "output_type": "execute_result"
    },
    {
     "name": "stdout",
     "output_type": "stream",
     "text": [
      "0.6166916601866264\n"
     ]
    },
    {
     "data": {
      "text/plain": [
       "0.6255027482780919"
      ]
     },
     "execution_count": 64,
     "metadata": {},
     "output_type": "execute_result"
    }
   ],
   "source": [
    "lass = Lasso(alpha = 100)\n",
    "lass.fit(X_train_pca, y_train)\n",
    "print(lass.score(X_train_pca, y_train))\n",
    "lass_test_score_ = lass.score(X_test_pca, y_test)\n",
    "lass_test_score_"
   ]
  },
  {
   "cell_type": "code",
   "execution_count": 65,
   "metadata": {},
   "outputs": [
    {
     "data": {
      "text/html": [
       "<div>\n",
       "<style scoped>\n",
       "    .dataframe tbody tr th:only-of-type {\n",
       "        vertical-align: middle;\n",
       "    }\n",
       "\n",
       "    .dataframe tbody tr th {\n",
       "        vertical-align: top;\n",
       "    }\n",
       "\n",
       "    .dataframe thead th {\n",
       "        text-align: right;\n",
       "    }\n",
       "</style>\n",
       "<table border=\"1\" class=\"dataframe\">\n",
       "  <thead>\n",
       "    <tr style=\"text-align: right;\">\n",
       "      <th></th>\n",
       "      <th>mean_fit_time</th>\n",
       "      <th>std_fit_time</th>\n",
       "      <th>mean_score_time</th>\n",
       "      <th>std_score_time</th>\n",
       "      <th>param_alpha</th>\n",
       "      <th>params</th>\n",
       "      <th>split0_test_score</th>\n",
       "      <th>split1_test_score</th>\n",
       "      <th>split2_test_score</th>\n",
       "      <th>split3_test_score</th>\n",
       "      <th>...</th>\n",
       "      <th>mean_test_score</th>\n",
       "      <th>std_test_score</th>\n",
       "      <th>rank_test_score</th>\n",
       "      <th>split0_train_score</th>\n",
       "      <th>split1_train_score</th>\n",
       "      <th>split2_train_score</th>\n",
       "      <th>split3_train_score</th>\n",
       "      <th>split4_train_score</th>\n",
       "      <th>mean_train_score</th>\n",
       "      <th>std_train_score</th>\n",
       "    </tr>\n",
       "  </thead>\n",
       "  <tbody>\n",
       "    <tr>\n",
       "      <th>0</th>\n",
       "      <td>0.001998</td>\n",
       "      <td>0.000631</td>\n",
       "      <td>0.000800</td>\n",
       "      <td>0.000400</td>\n",
       "      <td>0.01</td>\n",
       "      <td>{'alpha': 0.01}</td>\n",
       "      <td>0.640417</td>\n",
       "      <td>0.428586</td>\n",
       "      <td>0.601040</td>\n",
       "      <td>0.625642</td>\n",
       "      <td>...</td>\n",
       "      <td>0.581801</td>\n",
       "      <td>0.077713</td>\n",
       "      <td>5</td>\n",
       "      <td>0.609149</td>\n",
       "      <td>0.639047</td>\n",
       "      <td>0.619258</td>\n",
       "      <td>0.612643</td>\n",
       "      <td>0.609923</td>\n",
       "      <td>0.618004</td>\n",
       "      <td>0.011107</td>\n",
       "    </tr>\n",
       "    <tr>\n",
       "      <th>1</th>\n",
       "      <td>0.001799</td>\n",
       "      <td>0.000400</td>\n",
       "      <td>0.000799</td>\n",
       "      <td>0.000400</td>\n",
       "      <td>0.1</td>\n",
       "      <td>{'alpha': 0.1}</td>\n",
       "      <td>0.640417</td>\n",
       "      <td>0.428586</td>\n",
       "      <td>0.601040</td>\n",
       "      <td>0.625643</td>\n",
       "      <td>...</td>\n",
       "      <td>0.581801</td>\n",
       "      <td>0.077713</td>\n",
       "      <td>4</td>\n",
       "      <td>0.609149</td>\n",
       "      <td>0.639047</td>\n",
       "      <td>0.619258</td>\n",
       "      <td>0.612643</td>\n",
       "      <td>0.609923</td>\n",
       "      <td>0.618004</td>\n",
       "      <td>0.011107</td>\n",
       "    </tr>\n",
       "    <tr>\n",
       "      <th>2</th>\n",
       "      <td>0.001400</td>\n",
       "      <td>0.000490</td>\n",
       "      <td>0.000999</td>\n",
       "      <td>0.000001</td>\n",
       "      <td>1</td>\n",
       "      <td>{'alpha': 1}</td>\n",
       "      <td>0.640416</td>\n",
       "      <td>0.428590</td>\n",
       "      <td>0.601040</td>\n",
       "      <td>0.625646</td>\n",
       "      <td>...</td>\n",
       "      <td>0.581802</td>\n",
       "      <td>0.077711</td>\n",
       "      <td>3</td>\n",
       "      <td>0.609149</td>\n",
       "      <td>0.639047</td>\n",
       "      <td>0.619258</td>\n",
       "      <td>0.612643</td>\n",
       "      <td>0.609923</td>\n",
       "      <td>0.618004</td>\n",
       "      <td>0.011107</td>\n",
       "    </tr>\n",
       "    <tr>\n",
       "      <th>3</th>\n",
       "      <td>0.001399</td>\n",
       "      <td>0.000489</td>\n",
       "      <td>0.000800</td>\n",
       "      <td>0.000400</td>\n",
       "      <td>10</td>\n",
       "      <td>{'alpha': 10}</td>\n",
       "      <td>0.640410</td>\n",
       "      <td>0.428630</td>\n",
       "      <td>0.601034</td>\n",
       "      <td>0.625681</td>\n",
       "      <td>...</td>\n",
       "      <td>0.581810</td>\n",
       "      <td>0.077696</td>\n",
       "      <td>2</td>\n",
       "      <td>0.609149</td>\n",
       "      <td>0.639047</td>\n",
       "      <td>0.619258</td>\n",
       "      <td>0.612643</td>\n",
       "      <td>0.609923</td>\n",
       "      <td>0.618004</td>\n",
       "      <td>0.011107</td>\n",
       "    </tr>\n",
       "    <tr>\n",
       "      <th>4</th>\n",
       "      <td>0.001599</td>\n",
       "      <td>0.000490</td>\n",
       "      <td>0.000600</td>\n",
       "      <td>0.000490</td>\n",
       "      <td>100</td>\n",
       "      <td>{'alpha': 100}</td>\n",
       "      <td>0.640343</td>\n",
       "      <td>0.429025</td>\n",
       "      <td>0.600976</td>\n",
       "      <td>0.626025</td>\n",
       "      <td>...</td>\n",
       "      <td>0.581892</td>\n",
       "      <td>0.077550</td>\n",
       "      <td>1</td>\n",
       "      <td>0.609147</td>\n",
       "      <td>0.639046</td>\n",
       "      <td>0.619257</td>\n",
       "      <td>0.612642</td>\n",
       "      <td>0.609921</td>\n",
       "      <td>0.618003</td>\n",
       "      <td>0.011107</td>\n",
       "    </tr>\n",
       "  </tbody>\n",
       "</table>\n",
       "<p>5 rows × 21 columns</p>\n",
       "</div>"
      ],
      "text/plain": [
       "   mean_fit_time  std_fit_time  mean_score_time  std_score_time param_alpha  \\\n",
       "0       0.001998      0.000631         0.000800        0.000400        0.01   \n",
       "1       0.001799      0.000400         0.000799        0.000400         0.1   \n",
       "2       0.001400      0.000490         0.000999        0.000001           1   \n",
       "3       0.001399      0.000489         0.000800        0.000400          10   \n",
       "4       0.001599      0.000490         0.000600        0.000490         100   \n",
       "\n",
       "            params  split0_test_score  split1_test_score  split2_test_score  \\\n",
       "0  {'alpha': 0.01}           0.640417           0.428586           0.601040   \n",
       "1   {'alpha': 0.1}           0.640417           0.428586           0.601040   \n",
       "2     {'alpha': 1}           0.640416           0.428590           0.601040   \n",
       "3    {'alpha': 10}           0.640410           0.428630           0.601034   \n",
       "4   {'alpha': 100}           0.640343           0.429025           0.600976   \n",
       "\n",
       "   split3_test_score  ...  mean_test_score  std_test_score  rank_test_score  \\\n",
       "0           0.625642  ...         0.581801        0.077713                5   \n",
       "1           0.625643  ...         0.581801        0.077713                4   \n",
       "2           0.625646  ...         0.581802        0.077711                3   \n",
       "3           0.625681  ...         0.581810        0.077696                2   \n",
       "4           0.626025  ...         0.581892        0.077550                1   \n",
       "\n",
       "   split0_train_score  split1_train_score  split2_train_score  \\\n",
       "0            0.609149            0.639047            0.619258   \n",
       "1            0.609149            0.639047            0.619258   \n",
       "2            0.609149            0.639047            0.619258   \n",
       "3            0.609149            0.639047            0.619258   \n",
       "4            0.609147            0.639046            0.619257   \n",
       "\n",
       "   split3_train_score  split4_train_score  mean_train_score  std_train_score  \n",
       "0            0.612643            0.609923          0.618004         0.011107  \n",
       "1            0.612643            0.609923          0.618004         0.011107  \n",
       "2            0.612643            0.609923          0.618004         0.011107  \n",
       "3            0.612643            0.609923          0.618004         0.011107  \n",
       "4            0.612642            0.609921          0.618003         0.011107  \n",
       "\n",
       "[5 rows x 21 columns]"
      ]
     },
     "execution_count": 65,
     "metadata": {},
     "output_type": "execute_result"
    }
   ],
   "source": [
    "result_lasso = pd.DataFrame(grid_search_lasso.cv_results_)\n",
    "result_lasso"
   ]
  },
  {
   "cell_type": "code",
   "execution_count": 66,
   "metadata": {},
   "outputs": [
    {
     "data": {
      "text/plain": [
       "[<matplotlib.lines.Line2D at 0x43ab508>]"
      ]
     },
     "execution_count": 66,
     "metadata": {},
     "output_type": "execute_result"
    },
    {
     "data": {
      "text/plain": [
       "[<matplotlib.lines.Line2D at 0x43ab628>]"
      ]
     },
     "execution_count": 66,
     "metadata": {},
     "output_type": "execute_result"
    },
    {
     "data": {
      "text/plain": [
       "([<matplotlib.axis.XTick at 0x439aa30>,\n",
       "  <matplotlib.axis.XTick at 0x439aa18>,\n",
       "  <matplotlib.axis.XTick at 0x439a088>,\n",
       "  <matplotlib.axis.XTick at 0x43ab9d0>,\n",
       "  <matplotlib.axis.XTick at 0x43abc58>],\n",
       " [Text(0, 0, '0.01'),\n",
       "  Text(0, 0, '0.1'),\n",
       "  Text(0, 0, '1'),\n",
       "  Text(0, 0, '10'),\n",
       "  Text(0, 0, '100')])"
      ]
     },
     "execution_count": 66,
     "metadata": {},
     "output_type": "execute_result"
    },
    {
     "data": {
      "text/plain": [
       "[<matplotlib.lines.Line2D at 0x43ab7d8>]"
      ]
     },
     "execution_count": 66,
     "metadata": {},
     "output_type": "execute_result"
    },
    {
     "data": {
      "text/plain": [
       "[<matplotlib.lines.Line2D at 0x43abf88>]"
      ]
     },
     "execution_count": 66,
     "metadata": {},
     "output_type": "execute_result"
    },
    {
     "data": {
      "text/plain": [
       "<matplotlib.legend.Legend at 0x1318a0a0>"
      ]
     },
     "execution_count": 66,
     "metadata": {},
     "output_type": "execute_result"
    },
    {
     "data": {
      "text/plain": [
       "Text(0.5, 0, 'Alpha')"
      ]
     },
     "execution_count": 66,
     "metadata": {},
     "output_type": "execute_result"
    },
    {
     "data": {
      "image/png": "[encoded data removed]",
      "text/plain": [
       "<Figure size 432x288 with 1 Axes>"
      ]
     },
     "metadata": {
      "needs_background": "light"
     },
     "output_type": "display_data"
    }
   ],
   "source": [
    "%matplotlib inline\n",
    "\n",
    "plt.plot(range(result_lasso.shape[0]), result_lasso['mean_train_score'], label = 'mean train score')\n",
    "plt.plot(range(result_lasso.shape[0]), result_lasso['mean_test_score'], label = 'mean test score')\n",
    "plt.xticks(range(result_lasso.shape[0]), result_lasso['param_alpha'], rotation = 90)\n",
    "plt.plot([grid_search_lasso.best_index_], result_lasso['mean_train_score'][grid_search_lasso.best_index_], 'o', markersize = 10, fillstyle = \"none\")\n",
    "plt.plot([grid_search_lasso.best_index_], result_lasso['mean_test_score'][grid_search_lasso.best_index_], 'o', markersize = 10, fillstyle = \"none\")\n",
    "plt.grid()\n",
    "plt.legend()\n",
    "plt.xlabel('Alpha')"
   ]
  },
  {
   "cell_type": "markdown",
   "metadata": {},
   "source": [
    "##### <font color='red'>Lasso Regression Result:\n",
    "Best parameter: {'alpha': 100}\n",
    "\n",
    "Average Cross validation score: 0.6167\n",
    "\n",
    "Test score: 0.6155"
   ]
  },
  {
   "cell_type": "markdown",
   "metadata": {},
   "source": [
    "## Polynominal Regression"
   ]
  },
  {
   "cell_type": "code",
   "execution_count": 67,
   "metadata": {},
   "outputs": [],
   "source": [
    "from sklearn.preprocessing import PolynomialFeatures\n",
    "from sklearn.linear_model import LinearRegression\n",
    "from sklearn.pipeline import make_pipeline\n",
    "\n",
    "def PolynomialRegression(degree=2, **kwargs):\n",
    "    return make_pipeline(PolynomialFeatures(degree),\n",
    "                         LinearRegression(**kwargs))"
   ]
  },
  {
   "cell_type": "code",
   "execution_count": 68,
   "metadata": {},
   "outputs": [],
   "source": [
    "param_grid_poly = {'polynomialfeatures__degree': np.arange(3)}\n",
    "\n",
    "grid_poly = GridSearchCV(PolynomialRegression(), param_grid_poly,return_train_score=True,n_jobs=-1,cv=5)"
   ]
  },
  {
   "cell_type": "code",
   "execution_count": 69,
   "metadata": {},
   "outputs": [
    {
     "data": {
      "text/plain": [
       "GridSearchCV(cv=5,\n",
       "             estimator=Pipeline(steps=[('polynomialfeatures',\n",
       "                                        PolynomialFeatures()),\n",
       "                                       ('linearregression',\n",
       "                                        LinearRegression())]),\n",
       "             n_jobs=-1,\n",
       "             param_grid={'polynomialfeatures__degree': array([0, 1, 2])},\n",
       "             return_train_score=True)"
      ]
     },
     "execution_count": 69,
     "metadata": {},
     "output_type": "execute_result"
    }
   ],
   "source": [
    "grid_poly.fit(X_train_pca, y_train)"
   ]
  },
  {
   "cell_type": "code",
   "execution_count": 70,
   "metadata": {},
   "outputs": [
    {
     "name": "stdout",
     "output_type": "stream",
     "text": [
      "Best parameters: {'polynomialfeatures__degree': 1}\n",
      "Best cross-validation score: 0.5818\n"
     ]
    }
   ],
   "source": [
    "print(\"Best parameters: {}\".format(grid_poly.best_params_))\n",
    "print(\"Best cross-validation score: {:.4f}\".format(grid_poly.best_score_))"
   ]
  },
  {
   "cell_type": "code",
   "execution_count": 71,
   "metadata": {},
   "outputs": [
    {
     "data": {
      "text/plain": [
       "LinearRegression()"
      ]
     },
     "execution_count": 71,
     "metadata": {},
     "output_type": "execute_result"
    },
    {
     "name": "stdout",
     "output_type": "stream",
     "text": [
      "0.6166928407573682\n"
     ]
    },
    {
     "data": {
      "text/plain": [
       "0.6257219770295974"
      ]
     },
     "execution_count": 71,
     "metadata": {},
     "output_type": "execute_result"
    }
   ],
   "source": [
    "pol = PolynomialFeatures(degree = 1)\n",
    "X_pol = pol.fit_transform(X_train_pca)\n",
    "Xt_pol = pol.fit_transform(X_test_pca)\n",
    "pol_reg = LinearRegression()\n",
    "pol_reg.fit(X_pol,y_train)\n",
    "print(pol_reg.score(X_pol, y_train))\n",
    "pol_reg_test_score = pol_reg.score(Xt_pol, y_test)\n",
    "pol_reg_test_score"
   ]
  },
  {
   "cell_type": "code",
   "execution_count": 72,
   "metadata": {},
   "outputs": [
    {
     "name": "stdout",
     "output_type": "stream",
     "text": [
      "Cross-validation scores:\n",
      "[0.64403544 0.46112441 0.62962486 0.49170993 0.67721479 0.5984739 ]\n",
      "0.5836972228598433\n"
     ]
    }
   ],
   "source": [
    "from sklearn.model_selection import KFold\n",
    "from sklearn.model_selection import cross_val_score\n",
    "\n",
    "  \n",
    "kfold = KFold(n_splits=6)\n",
    "print(\"Cross-validation scores:\\n{}\".format(cross_val_score(pol_reg , X_pol, y_train, cv=kfold)))\n",
    "scores = cross_val_score(pol_reg , X_pol, y_train, cv=kfold)\n",
    "print(np.mean(scores))"
   ]
  },
  {
   "cell_type": "code",
   "execution_count": 73,
   "metadata": {},
   "outputs": [
    {
     "data": {
      "text/html": [
       "<div>\n",
       "<style scoped>\n",
       "    .dataframe tbody tr th:only-of-type {\n",
       "        vertical-align: middle;\n",
       "    }\n",
       "\n",
       "    .dataframe tbody tr th {\n",
       "        vertical-align: top;\n",
       "    }\n",
       "\n",
       "    .dataframe thead th {\n",
       "        text-align: right;\n",
       "    }\n",
       "</style>\n",
       "<table border=\"1\" class=\"dataframe\">\n",
       "  <thead>\n",
       "    <tr style=\"text-align: right;\">\n",
       "      <th></th>\n",
       "      <th>mean_fit_time</th>\n",
       "      <th>std_fit_time</th>\n",
       "      <th>mean_score_time</th>\n",
       "      <th>std_score_time</th>\n",
       "      <th>param_polynomialfeatures__degree</th>\n",
       "      <th>params</th>\n",
       "      <th>split0_test_score</th>\n",
       "      <th>split1_test_score</th>\n",
       "      <th>split2_test_score</th>\n",
       "      <th>split3_test_score</th>\n",
       "      <th>...</th>\n",
       "      <th>mean_test_score</th>\n",
       "      <th>std_test_score</th>\n",
       "      <th>rank_test_score</th>\n",
       "      <th>split0_train_score</th>\n",
       "      <th>split1_train_score</th>\n",
       "      <th>split2_train_score</th>\n",
       "      <th>split3_train_score</th>\n",
       "      <th>split4_train_score</th>\n",
       "      <th>mean_train_score</th>\n",
       "      <th>std_train_score</th>\n",
       "    </tr>\n",
       "  </thead>\n",
       "  <tbody>\n",
       "    <tr>\n",
       "      <th>0</th>\n",
       "      <td>0.001599</td>\n",
       "      <td>0.000489</td>\n",
       "      <td>0.000000</td>\n",
       "      <td>0.000000e+00</td>\n",
       "      <td>0</td>\n",
       "      <td>{'polynomialfeatures__degree': 0}</td>\n",
       "      <td>NaN</td>\n",
       "      <td>NaN</td>\n",
       "      <td>NaN</td>\n",
       "      <td>NaN</td>\n",
       "      <td>...</td>\n",
       "      <td>NaN</td>\n",
       "      <td>NaN</td>\n",
       "      <td>3</td>\n",
       "      <td>NaN</td>\n",
       "      <td>NaN</td>\n",
       "      <td>NaN</td>\n",
       "      <td>NaN</td>\n",
       "      <td>NaN</td>\n",
       "      <td>NaN</td>\n",
       "      <td>NaN</td>\n",
       "    </tr>\n",
       "    <tr>\n",
       "      <th>1</th>\n",
       "      <td>0.003598</td>\n",
       "      <td>0.001742</td>\n",
       "      <td>0.001000</td>\n",
       "      <td>7.747687e-07</td>\n",
       "      <td>1</td>\n",
       "      <td>{'polynomialfeatures__degree': 1}</td>\n",
       "      <td>0.640417</td>\n",
       "      <td>0.428586</td>\n",
       "      <td>0.601040</td>\n",
       "      <td>0.625642</td>\n",
       "      <td>...</td>\n",
       "      <td>0.581801</td>\n",
       "      <td>0.077713</td>\n",
       "      <td>1</td>\n",
       "      <td>0.609149</td>\n",
       "      <td>0.639047</td>\n",
       "      <td>0.619258</td>\n",
       "      <td>0.612643</td>\n",
       "      <td>0.609923</td>\n",
       "      <td>0.618004</td>\n",
       "      <td>0.011107</td>\n",
       "    </tr>\n",
       "    <tr>\n",
       "      <th>2</th>\n",
       "      <td>0.013392</td>\n",
       "      <td>0.000489</td>\n",
       "      <td>0.001199</td>\n",
       "      <td>7.476032e-04</td>\n",
       "      <td>2</td>\n",
       "      <td>{'polynomialfeatures__degree': 2}</td>\n",
       "      <td>-81.689060</td>\n",
       "      <td>-1.439630</td>\n",
       "      <td>-1.905223</td>\n",
       "      <td>-88.371579</td>\n",
       "      <td>...</td>\n",
       "      <td>-39.305890</td>\n",
       "      <td>38.205480</td>\n",
       "      <td>2</td>\n",
       "      <td>0.753624</td>\n",
       "      <td>0.769363</td>\n",
       "      <td>0.768435</td>\n",
       "      <td>0.766545</td>\n",
       "      <td>0.740095</td>\n",
       "      <td>0.759612</td>\n",
       "      <td>0.011294</td>\n",
       "    </tr>\n",
       "  </tbody>\n",
       "</table>\n",
       "<p>3 rows × 21 columns</p>\n",
       "</div>"
      ],
      "text/plain": [
       "   mean_fit_time  std_fit_time  mean_score_time  std_score_time  \\\n",
       "0       0.001599      0.000489         0.000000    0.000000e+00   \n",
       "1       0.003598      0.001742         0.001000    7.747687e-07   \n",
       "2       0.013392      0.000489         0.001199    7.476032e-04   \n",
       "\n",
       "  param_polynomialfeatures__degree                             params  \\\n",
       "0                                0  {'polynomialfeatures__degree': 0}   \n",
       "1                                1  {'polynomialfeatures__degree': 1}   \n",
       "2                                2  {'polynomialfeatures__degree': 2}   \n",
       "\n",
       "   split0_test_score  split1_test_score  split2_test_score  split3_test_score  \\\n",
       "0                NaN                NaN                NaN                NaN   \n",
       "1           0.640417           0.428586           0.601040           0.625642   \n",
       "2         -81.689060          -1.439630          -1.905223         -88.371579   \n",
       "\n",
       "   ...  mean_test_score  std_test_score  rank_test_score  split0_train_score  \\\n",
       "0  ...              NaN             NaN                3                 NaN   \n",
       "1  ...         0.581801        0.077713                1            0.609149   \n",
       "2  ...       -39.305890       38.205480                2            0.753624   \n",
       "\n",
       "   split1_train_score  split2_train_score  split3_train_score  \\\n",
       "0                 NaN                 NaN                 NaN   \n",
       "1            0.639047            0.619258            0.612643   \n",
       "2            0.769363            0.768435            0.766545   \n",
       "\n",
       "   split4_train_score  mean_train_score  std_train_score  \n",
       "0                 NaN               NaN              NaN  \n",
       "1            0.609923          0.618004         0.011107  \n",
       "2            0.740095          0.759612         0.011294  \n",
       "\n",
       "[3 rows x 21 columns]"
      ]
     },
     "execution_count": 73,
     "metadata": {},
     "output_type": "execute_result"
    }
   ],
   "source": [
    "result_poly = pd.DataFrame(grid_poly.cv_results_)\n",
    "result_poly"
   ]
  },
  {
   "cell_type": "code",
   "execution_count": 74,
   "metadata": {},
   "outputs": [
    {
     "data": {
      "text/plain": [
       "[<matplotlib.lines.Line2D at 0x43fab68>]"
      ]
     },
     "execution_count": 74,
     "metadata": {},
     "output_type": "execute_result"
    },
    {
     "data": {
      "text/plain": [
       "[<matplotlib.lines.Line2D at 0x43fada8>]"
      ]
     },
     "execution_count": 74,
     "metadata": {},
     "output_type": "execute_result"
    },
    {
     "data": {
      "text/plain": [
       "([<matplotlib.axis.XTick at 0x43f10b8>,\n",
       "  <matplotlib.axis.XTick at 0x43f10a0>,\n",
       "  <matplotlib.axis.XTick at 0x43a4dc0>],\n",
       " [Text(0, 0, '0'), Text(0, 0, '1'), Text(0, 0, '2')])"
      ]
     },
     "execution_count": 74,
     "metadata": {},
     "output_type": "execute_result"
    },
    {
     "data": {
      "text/plain": [
       "[<matplotlib.lines.Line2D at 0x4408118>]"
      ]
     },
     "execution_count": 74,
     "metadata": {},
     "output_type": "execute_result"
    },
    {
     "data": {
      "text/plain": [
       "[<matplotlib.lines.Line2D at 0x4408190>]"
      ]
     },
     "execution_count": 74,
     "metadata": {},
     "output_type": "execute_result"
    },
    {
     "data": {
      "text/plain": [
       "Text(0.5, 0, 'Degree')"
      ]
     },
     "execution_count": 74,
     "metadata": {},
     "output_type": "execute_result"
    },
    {
     "data": {
      "text/plain": [
       "<matplotlib.legend.Legend at 0x43806e8>"
      ]
     },
     "execution_count": 74,
     "metadata": {},
     "output_type": "execute_result"
    },
    {
     "data": {
      "image/png": "[encoded data removed]",
      "text/plain": [
       "<Figure size 432x288 with 1 Axes>"
      ]
     },
     "metadata": {
      "needs_background": "light"
     },
     "output_type": "display_data"
    }
   ],
   "source": [
    "plt.plot(range(result_poly.shape[0]), result_poly['mean_train_score'], label = 'mean train score')\n",
    "plt.plot(range(result_poly.shape[0]), result_poly['mean_test_score'], label = 'mean test score')\n",
    "plt.xticks(range(result_poly.shape[0]), result_poly['param_polynomialfeatures__degree'], rotation = 90)\n",
    "plt.plot([grid_poly.best_index_], result_poly['mean_train_score'][grid_poly.best_index_], 'o', markersize = 10, fillstyle = \"none\")\n",
    "plt.plot([grid_poly.best_index_], result_poly['mean_test_score'][grid_poly.best_index_], 'o', markersize = 10, fillstyle = \"none\")\n",
    "plt.grid()\n",
    "plt.xlabel('Degree')\n",
    "plt.legend()"
   ]
  },
  {
   "cell_type": "markdown",
   "metadata": {},
   "source": [
    "##### <font color='red'>Polynominal Regression Result:\n",
    "Best parameters: {'polynomialfeatures__degree': 2}\n",
    "\n",
    "Average Cross validation score: 0.6167\n",
    "\n",
    "Test score: 0.6257"
   ]
  },
  {
   "cell_type": "markdown",
   "metadata": {},
   "source": [
    "## Linear (Simple) SVR"
   ]
  },
  {
   "cell_type": "code",
   "execution_count": 114,
   "metadata": {},
   "outputs": [],
   "source": [
    "grid_parms_svrl = {'C': [0.01, 0.1, 1, 10, 100], 'epsilon' : [0.01, 0.1, 1, 10, 100]}"
   ]
  },
  {
   "cell_type": "code",
   "execution_count": 115,
   "metadata": {},
   "outputs": [],
   "source": [
    "linearsvr = LinearSVR()\n",
    "grid_svrl = GridSearchCV(estimator = linearsvr,param_grid = grid_parms_svrl,return_train_score=True,n_jobs= -1,cv=10)"
   ]
  },
  {
   "cell_type": "code",
   "execution_count": 116,
   "metadata": {},
   "outputs": [
    {
     "data": {
      "text/plain": [
       "GridSearchCV(cv=10, estimator=LinearSVR(), n_jobs=-1,\n",
       "             param_grid={'C': [0.01, 0.1, 1, 10, 100],\n",
       "                         'epsilon': [0.01, 0.1, 1, 10, 100]},\n",
       "             return_train_score=True)"
      ]
     },
     "execution_count": 116,
     "metadata": {},
     "output_type": "execute_result"
    }
   ],
   "source": [
    "grid_svrl.fit(X_train_pca,y_train)"
   ]
  },
  {
   "cell_type": "code",
   "execution_count": 117,
   "metadata": {},
   "outputs": [
    {
     "name": "stdout",
     "output_type": "stream",
     "text": [
      "Best parameters: {'C': 100, 'epsilon': 0.1}\n",
      "Best cross-validation score: -1.6455\n"
     ]
    }
   ],
   "source": [
    "print(\"Best parameters: {}\".format(grid_svrl.best_params_))\n",
    "print(\"Best cross-validation score: {:.4f}\".format(grid_svrl.best_score_))"
   ]
  },
  {
   "cell_type": "code",
   "execution_count": 119,
   "metadata": {},
   "outputs": [
    {
     "data": {
      "text/plain": [
       "LinearSVR(C=100, epsilon=0.1)"
      ]
     },
     "execution_count": 119,
     "metadata": {},
     "output_type": "execute_result"
    },
    {
     "name": "stdout",
     "output_type": "stream",
     "text": [
      "-1.3846892633054169\n"
     ]
    },
    {
     "data": {
      "text/plain": [
       "-1.397794246454784"
      ]
     },
     "execution_count": 119,
     "metadata": {},
     "output_type": "execute_result"
    }
   ],
   "source": [
    "lsvr = LinearSVR(C = 100, epsilon = 0.1)\n",
    "        \n",
    "lsvr.fit(X_train_pca, y_train)\n",
    "\n",
    "print(lsvr.score(X_train_pca, y_train))\n",
    "lsvr_test_score = lsvr.score(X_test_pca, y_test)\n",
    "lsvr_test_score"
   ]
  },
  {
   "cell_type": "code",
   "execution_count": 120,
   "metadata": {},
   "outputs": [
    {
     "name": "stdout",
     "output_type": "stream",
     "text": [
      "Cross-validation scores:\n",
      "[-1.65280723 -1.35421356 -1.90139153 -2.22058643 -1.32711955 -1.40080358\n",
      " -2.23230145 -1.87375912 -1.04268608 -1.44965349]\n",
      "-1.6455624716923307\n"
     ]
    }
   ],
   "source": [
    "from sklearn.model_selection import KFold\n",
    "from sklearn.model_selection import cross_val_score\n",
    "\n",
    "  \n",
    "kfold = KFold(n_splits=10)\n",
    "print(\"Cross-validation scores:\\n{}\".format(cross_val_score(lsvr , X_train_pca, y_train, cv=kfold)))\n",
    "scores = cross_val_score(lsvr, X_train_pca, y_train, cv=kfold)\n",
    "print(np.mean(scores))"
   ]
  },
  {
   "cell_type": "code",
   "execution_count": 121,
   "metadata": {},
   "outputs": [
    {
     "data": {
      "text/html": [
       "<div>\n",
       "<style scoped>\n",
       "    .dataframe tbody tr th:only-of-type {\n",
       "        vertical-align: middle;\n",
       "    }\n",
       "\n",
       "    .dataframe tbody tr th {\n",
       "        vertical-align: top;\n",
       "    }\n",
       "\n",
       "    .dataframe thead th {\n",
       "        text-align: right;\n",
       "    }\n",
       "</style>\n",
       "<table border=\"1\" class=\"dataframe\">\n",
       "  <thead>\n",
       "    <tr style=\"text-align: right;\">\n",
       "      <th></th>\n",
       "      <th>mean_fit_time</th>\n",
       "      <th>std_fit_time</th>\n",
       "      <th>mean_score_time</th>\n",
       "      <th>std_score_time</th>\n",
       "      <th>param_C</th>\n",
       "      <th>param_epsilon</th>\n",
       "      <th>params</th>\n",
       "      <th>split0_test_score</th>\n",
       "      <th>split1_test_score</th>\n",
       "      <th>split2_test_score</th>\n",
       "      <th>...</th>\n",
       "      <th>split2_train_score</th>\n",
       "      <th>split3_train_score</th>\n",
       "      <th>split4_train_score</th>\n",
       "      <th>split5_train_score</th>\n",
       "      <th>split6_train_score</th>\n",
       "      <th>split7_train_score</th>\n",
       "      <th>split8_train_score</th>\n",
       "      <th>split9_train_score</th>\n",
       "      <th>mean_train_score</th>\n",
       "      <th>std_train_score</th>\n",
       "    </tr>\n",
       "  </thead>\n",
       "  <tbody>\n",
       "    <tr>\n",
       "      <th>0</th>\n",
       "      <td>0.001499</td>\n",
       "      <td>4.993444e-04</td>\n",
       "      <td>0.000800</td>\n",
       "      <td>0.000400</td>\n",
       "      <td>0.01</td>\n",
       "      <td>0.01</td>\n",
       "      <td>{'C': 0.01, 'epsilon': 0.01}</td>\n",
       "      <td>-2.464116</td>\n",
       "      <td>-2.077889</td>\n",
       "      <td>-3.078705</td>\n",
       "      <td>...</td>\n",
       "      <td>-2.196920</td>\n",
       "      <td>-2.160956</td>\n",
       "      <td>-2.269630</td>\n",
       "      <td>-2.250548</td>\n",
       "      <td>-2.191856</td>\n",
       "      <td>-2.191758</td>\n",
       "      <td>-2.433135</td>\n",
       "      <td>-2.264281</td>\n",
       "      <td>-2.243566</td>\n",
       "      <td>0.072408</td>\n",
       "    </tr>\n",
       "    <tr>\n",
       "      <th>1</th>\n",
       "      <td>0.001399</td>\n",
       "      <td>4.894443e-04</td>\n",
       "      <td>0.000600</td>\n",
       "      <td>0.000489</td>\n",
       "      <td>0.01</td>\n",
       "      <td>0.1</td>\n",
       "      <td>{'C': 0.01, 'epsilon': 0.1}</td>\n",
       "      <td>-2.464116</td>\n",
       "      <td>-2.077889</td>\n",
       "      <td>-3.078705</td>\n",
       "      <td>...</td>\n",
       "      <td>-2.196920</td>\n",
       "      <td>-2.160956</td>\n",
       "      <td>-2.269630</td>\n",
       "      <td>-2.250548</td>\n",
       "      <td>-2.191856</td>\n",
       "      <td>-2.191758</td>\n",
       "      <td>-2.433135</td>\n",
       "      <td>-2.264281</td>\n",
       "      <td>-2.243566</td>\n",
       "      <td>0.072408</td>\n",
       "    </tr>\n",
       "    <tr>\n",
       "      <th>2</th>\n",
       "      <td>0.001200</td>\n",
       "      <td>3.997803e-04</td>\n",
       "      <td>0.000800</td>\n",
       "      <td>0.000400</td>\n",
       "      <td>0.01</td>\n",
       "      <td>1</td>\n",
       "      <td>{'C': 0.01, 'epsilon': 1}</td>\n",
       "      <td>-2.464116</td>\n",
       "      <td>-2.077889</td>\n",
       "      <td>-3.078705</td>\n",
       "      <td>...</td>\n",
       "      <td>-2.196920</td>\n",
       "      <td>-2.160956</td>\n",
       "      <td>-2.269630</td>\n",
       "      <td>-2.250548</td>\n",
       "      <td>-2.191856</td>\n",
       "      <td>-2.191758</td>\n",
       "      <td>-2.433135</td>\n",
       "      <td>-2.264281</td>\n",
       "      <td>-2.243566</td>\n",
       "      <td>0.072408</td>\n",
       "    </tr>\n",
       "    <tr>\n",
       "      <th>3</th>\n",
       "      <td>0.001299</td>\n",
       "      <td>4.580060e-04</td>\n",
       "      <td>0.000600</td>\n",
       "      <td>0.000490</td>\n",
       "      <td>0.01</td>\n",
       "      <td>10</td>\n",
       "      <td>{'C': 0.01, 'epsilon': 10}</td>\n",
       "      <td>-2.464116</td>\n",
       "      <td>-2.077889</td>\n",
       "      <td>-3.078705</td>\n",
       "      <td>...</td>\n",
       "      <td>-2.196920</td>\n",
       "      <td>-2.160956</td>\n",
       "      <td>-2.269630</td>\n",
       "      <td>-2.250548</td>\n",
       "      <td>-2.191856</td>\n",
       "      <td>-2.191758</td>\n",
       "      <td>-2.433135</td>\n",
       "      <td>-2.264281</td>\n",
       "      <td>-2.243566</td>\n",
       "      <td>0.072408</td>\n",
       "    </tr>\n",
       "    <tr>\n",
       "      <th>4</th>\n",
       "      <td>0.001299</td>\n",
       "      <td>4.577094e-04</td>\n",
       "      <td>0.000700</td>\n",
       "      <td>0.000458</td>\n",
       "      <td>0.01</td>\n",
       "      <td>100</td>\n",
       "      <td>{'C': 0.01, 'epsilon': 100}</td>\n",
       "      <td>-2.464116</td>\n",
       "      <td>-2.077889</td>\n",
       "      <td>-3.078705</td>\n",
       "      <td>...</td>\n",
       "      <td>-2.196920</td>\n",
       "      <td>-2.160956</td>\n",
       "      <td>-2.269630</td>\n",
       "      <td>-2.250548</td>\n",
       "      <td>-2.191856</td>\n",
       "      <td>-2.191758</td>\n",
       "      <td>-2.433135</td>\n",
       "      <td>-2.264281</td>\n",
       "      <td>-2.243566</td>\n",
       "      <td>0.072408</td>\n",
       "    </tr>\n",
       "    <tr>\n",
       "      <th>5</th>\n",
       "      <td>0.001400</td>\n",
       "      <td>4.899794e-04</td>\n",
       "      <td>0.000800</td>\n",
       "      <td>0.000400</td>\n",
       "      <td>0.1</td>\n",
       "      <td>0.01</td>\n",
       "      <td>{'C': 0.1, 'epsilon': 0.01}</td>\n",
       "      <td>-2.463319</td>\n",
       "      <td>-2.077175</td>\n",
       "      <td>-3.077525</td>\n",
       "      <td>...</td>\n",
       "      <td>-2.196159</td>\n",
       "      <td>-2.160223</td>\n",
       "      <td>-2.268840</td>\n",
       "      <td>-2.249779</td>\n",
       "      <td>-2.191086</td>\n",
       "      <td>-2.191026</td>\n",
       "      <td>-2.432310</td>\n",
       "      <td>-2.263528</td>\n",
       "      <td>-2.242799</td>\n",
       "      <td>0.072386</td>\n",
       "    </tr>\n",
       "    <tr>\n",
       "      <th>6</th>\n",
       "      <td>0.000999</td>\n",
       "      <td>5.746828e-07</td>\n",
       "      <td>0.000800</td>\n",
       "      <td>0.000400</td>\n",
       "      <td>0.1</td>\n",
       "      <td>0.1</td>\n",
       "      <td>{'C': 0.1, 'epsilon': 0.1}</td>\n",
       "      <td>-2.463319</td>\n",
       "      <td>-2.077175</td>\n",
       "      <td>-3.077525</td>\n",
       "      <td>...</td>\n",
       "      <td>-2.196159</td>\n",
       "      <td>-2.160223</td>\n",
       "      <td>-2.268840</td>\n",
       "      <td>-2.249779</td>\n",
       "      <td>-2.191086</td>\n",
       "      <td>-2.191026</td>\n",
       "      <td>-2.432310</td>\n",
       "      <td>-2.263528</td>\n",
       "      <td>-2.242799</td>\n",
       "      <td>0.072386</td>\n",
       "    </tr>\n",
       "    <tr>\n",
       "      <th>7</th>\n",
       "      <td>0.001699</td>\n",
       "      <td>2.098783e-03</td>\n",
       "      <td>0.000799</td>\n",
       "      <td>0.000400</td>\n",
       "      <td>0.1</td>\n",
       "      <td>1</td>\n",
       "      <td>{'C': 0.1, 'epsilon': 1}</td>\n",
       "      <td>-2.463319</td>\n",
       "      <td>-2.077175</td>\n",
       "      <td>-3.077525</td>\n",
       "      <td>...</td>\n",
       "      <td>-2.196159</td>\n",
       "      <td>-2.160223</td>\n",
       "      <td>-2.268840</td>\n",
       "      <td>-2.249779</td>\n",
       "      <td>-2.191086</td>\n",
       "      <td>-2.191026</td>\n",
       "      <td>-2.432310</td>\n",
       "      <td>-2.263528</td>\n",
       "      <td>-2.242799</td>\n",
       "      <td>0.072386</td>\n",
       "    </tr>\n",
       "    <tr>\n",
       "      <th>8</th>\n",
       "      <td>0.001399</td>\n",
       "      <td>9.157776e-04</td>\n",
       "      <td>0.000700</td>\n",
       "      <td>0.000458</td>\n",
       "      <td>0.1</td>\n",
       "      <td>10</td>\n",
       "      <td>{'C': 0.1, 'epsilon': 10}</td>\n",
       "      <td>-2.463319</td>\n",
       "      <td>-2.077175</td>\n",
       "      <td>-3.077525</td>\n",
       "      <td>...</td>\n",
       "      <td>-2.196159</td>\n",
       "      <td>-2.160223</td>\n",
       "      <td>-2.268840</td>\n",
       "      <td>-2.249779</td>\n",
       "      <td>-2.191086</td>\n",
       "      <td>-2.191026</td>\n",
       "      <td>-2.432310</td>\n",
       "      <td>-2.263528</td>\n",
       "      <td>-2.242799</td>\n",
       "      <td>0.072386</td>\n",
       "    </tr>\n",
       "    <tr>\n",
       "      <th>9</th>\n",
       "      <td>0.001299</td>\n",
       "      <td>4.578867e-04</td>\n",
       "      <td>0.001200</td>\n",
       "      <td>0.001661</td>\n",
       "      <td>0.1</td>\n",
       "      <td>100</td>\n",
       "      <td>{'C': 0.1, 'epsilon': 100}</td>\n",
       "      <td>-2.463319</td>\n",
       "      <td>-2.077175</td>\n",
       "      <td>-3.077525</td>\n",
       "      <td>...</td>\n",
       "      <td>-2.196159</td>\n",
       "      <td>-2.160223</td>\n",
       "      <td>-2.268840</td>\n",
       "      <td>-2.249779</td>\n",
       "      <td>-2.191086</td>\n",
       "      <td>-2.191026</td>\n",
       "      <td>-2.432310</td>\n",
       "      <td>-2.263528</td>\n",
       "      <td>-2.242799</td>\n",
       "      <td>0.072386</td>\n",
       "    </tr>\n",
       "    <tr>\n",
       "      <th>10</th>\n",
       "      <td>0.001399</td>\n",
       "      <td>4.895706e-04</td>\n",
       "      <td>0.000600</td>\n",
       "      <td>0.000490</td>\n",
       "      <td>1</td>\n",
       "      <td>0.01</td>\n",
       "      <td>{'C': 1, 'epsilon': 0.01}</td>\n",
       "      <td>-2.455349</td>\n",
       "      <td>-2.070045</td>\n",
       "      <td>-3.065745</td>\n",
       "      <td>...</td>\n",
       "      <td>-2.188551</td>\n",
       "      <td>-2.152893</td>\n",
       "      <td>-2.260947</td>\n",
       "      <td>-2.242095</td>\n",
       "      <td>-2.183393</td>\n",
       "      <td>-2.183713</td>\n",
       "      <td>-2.424075</td>\n",
       "      <td>-2.255998</td>\n",
       "      <td>-2.235130</td>\n",
       "      <td>0.072161</td>\n",
       "    </tr>\n",
       "    <tr>\n",
       "      <th>11</th>\n",
       "      <td>0.001199</td>\n",
       "      <td>4.001263e-04</td>\n",
       "      <td>0.000900</td>\n",
       "      <td>0.000300</td>\n",
       "      <td>1</td>\n",
       "      <td>0.1</td>\n",
       "      <td>{'C': 1, 'epsilon': 0.1}</td>\n",
       "      <td>-2.455349</td>\n",
       "      <td>-2.070045</td>\n",
       "      <td>-3.065745</td>\n",
       "      <td>...</td>\n",
       "      <td>-2.188551</td>\n",
       "      <td>-2.152893</td>\n",
       "      <td>-2.260947</td>\n",
       "      <td>-2.242095</td>\n",
       "      <td>-2.183393</td>\n",
       "      <td>-2.183713</td>\n",
       "      <td>-2.424075</td>\n",
       "      <td>-2.255998</td>\n",
       "      <td>-2.235130</td>\n",
       "      <td>0.072161</td>\n",
       "    </tr>\n",
       "    <tr>\n",
       "      <th>12</th>\n",
       "      <td>0.001199</td>\n",
       "      <td>3.994709e-04</td>\n",
       "      <td>0.000800</td>\n",
       "      <td>0.000400</td>\n",
       "      <td>1</td>\n",
       "      <td>1</td>\n",
       "      <td>{'C': 1, 'epsilon': 1}</td>\n",
       "      <td>-2.455349</td>\n",
       "      <td>-2.070045</td>\n",
       "      <td>-3.065745</td>\n",
       "      <td>...</td>\n",
       "      <td>-2.188551</td>\n",
       "      <td>-2.152893</td>\n",
       "      <td>-2.260947</td>\n",
       "      <td>-2.242095</td>\n",
       "      <td>-2.183393</td>\n",
       "      <td>-2.183713</td>\n",
       "      <td>-2.424075</td>\n",
       "      <td>-2.255998</td>\n",
       "      <td>-2.235130</td>\n",
       "      <td>0.072161</td>\n",
       "    </tr>\n",
       "    <tr>\n",
       "      <th>13</th>\n",
       "      <td>0.002099</td>\n",
       "      <td>2.341574e-03</td>\n",
       "      <td>0.000800</td>\n",
       "      <td>0.000400</td>\n",
       "      <td>1</td>\n",
       "      <td>10</td>\n",
       "      <td>{'C': 1, 'epsilon': 10}</td>\n",
       "      <td>-2.455349</td>\n",
       "      <td>-2.070045</td>\n",
       "      <td>-3.065745</td>\n",
       "      <td>...</td>\n",
       "      <td>-2.188551</td>\n",
       "      <td>-2.152893</td>\n",
       "      <td>-2.260947</td>\n",
       "      <td>-2.242095</td>\n",
       "      <td>-2.183393</td>\n",
       "      <td>-2.183713</td>\n",
       "      <td>-2.424075</td>\n",
       "      <td>-2.255998</td>\n",
       "      <td>-2.235130</td>\n",
       "      <td>0.072161</td>\n",
       "    </tr>\n",
       "    <tr>\n",
       "      <th>14</th>\n",
       "      <td>0.001100</td>\n",
       "      <td>2.997003e-04</td>\n",
       "      <td>0.000700</td>\n",
       "      <td>0.000458</td>\n",
       "      <td>1</td>\n",
       "      <td>100</td>\n",
       "      <td>{'C': 1, 'epsilon': 100}</td>\n",
       "      <td>-2.455349</td>\n",
       "      <td>-2.070045</td>\n",
       "      <td>-3.065745</td>\n",
       "      <td>...</td>\n",
       "      <td>-2.188551</td>\n",
       "      <td>-2.152893</td>\n",
       "      <td>-2.260947</td>\n",
       "      <td>-2.242095</td>\n",
       "      <td>-2.183393</td>\n",
       "      <td>-2.183713</td>\n",
       "      <td>-2.424075</td>\n",
       "      <td>-2.255998</td>\n",
       "      <td>-2.235130</td>\n",
       "      <td>0.072161</td>\n",
       "    </tr>\n",
       "    <tr>\n",
       "      <th>15</th>\n",
       "      <td>0.001199</td>\n",
       "      <td>3.997807e-04</td>\n",
       "      <td>0.000600</td>\n",
       "      <td>0.000490</td>\n",
       "      <td>10</td>\n",
       "      <td>0.01</td>\n",
       "      <td>{'C': 10, 'epsilon': 0.01}</td>\n",
       "      <td>-2.376370</td>\n",
       "      <td>-1.999399</td>\n",
       "      <td>-2.949142</td>\n",
       "      <td>...</td>\n",
       "      <td>-2.113162</td>\n",
       "      <td>-2.080285</td>\n",
       "      <td>-2.182758</td>\n",
       "      <td>-2.165976</td>\n",
       "      <td>-2.107155</td>\n",
       "      <td>-2.111295</td>\n",
       "      <td>-2.342536</td>\n",
       "      <td>-2.181447</td>\n",
       "      <td>-2.159174</td>\n",
       "      <td>0.069958</td>\n",
       "    </tr>\n",
       "    <tr>\n",
       "      <th>16</th>\n",
       "      <td>0.001199</td>\n",
       "      <td>3.998282e-04</td>\n",
       "      <td>0.001999</td>\n",
       "      <td>0.004023</td>\n",
       "      <td>10</td>\n",
       "      <td>0.1</td>\n",
       "      <td>{'C': 10, 'epsilon': 0.1}</td>\n",
       "      <td>-2.376370</td>\n",
       "      <td>-1.999399</td>\n",
       "      <td>-2.949142</td>\n",
       "      <td>...</td>\n",
       "      <td>-2.113162</td>\n",
       "      <td>-2.080285</td>\n",
       "      <td>-2.182758</td>\n",
       "      <td>-2.165976</td>\n",
       "      <td>-2.107155</td>\n",
       "      <td>-2.111295</td>\n",
       "      <td>-2.342536</td>\n",
       "      <td>-2.181447</td>\n",
       "      <td>-2.159174</td>\n",
       "      <td>0.069958</td>\n",
       "    </tr>\n",
       "    <tr>\n",
       "      <th>17</th>\n",
       "      <td>0.002999</td>\n",
       "      <td>5.016908e-03</td>\n",
       "      <td>0.000800</td>\n",
       "      <td>0.000600</td>\n",
       "      <td>10</td>\n",
       "      <td>1</td>\n",
       "      <td>{'C': 10, 'epsilon': 1}</td>\n",
       "      <td>-2.376370</td>\n",
       "      <td>-1.999399</td>\n",
       "      <td>-2.949142</td>\n",
       "      <td>...</td>\n",
       "      <td>-2.113162</td>\n",
       "      <td>-2.080285</td>\n",
       "      <td>-2.182758</td>\n",
       "      <td>-2.165976</td>\n",
       "      <td>-2.107155</td>\n",
       "      <td>-2.111295</td>\n",
       "      <td>-2.342536</td>\n",
       "      <td>-2.181447</td>\n",
       "      <td>-2.159174</td>\n",
       "      <td>0.069958</td>\n",
       "    </tr>\n",
       "    <tr>\n",
       "      <th>18</th>\n",
       "      <td>0.001300</td>\n",
       "      <td>4.578551e-04</td>\n",
       "      <td>0.000400</td>\n",
       "      <td>0.000490</td>\n",
       "      <td>10</td>\n",
       "      <td>10</td>\n",
       "      <td>{'C': 10, 'epsilon': 10}</td>\n",
       "      <td>-2.376370</td>\n",
       "      <td>-1.999399</td>\n",
       "      <td>-2.949142</td>\n",
       "      <td>...</td>\n",
       "      <td>-2.113162</td>\n",
       "      <td>-2.080285</td>\n",
       "      <td>-2.182758</td>\n",
       "      <td>-2.165976</td>\n",
       "      <td>-2.107155</td>\n",
       "      <td>-2.111295</td>\n",
       "      <td>-2.342536</td>\n",
       "      <td>-2.181447</td>\n",
       "      <td>-2.159174</td>\n",
       "      <td>0.069958</td>\n",
       "    </tr>\n",
       "    <tr>\n",
       "      <th>19</th>\n",
       "      <td>0.002698</td>\n",
       "      <td>4.772699e-03</td>\n",
       "      <td>0.001000</td>\n",
       "      <td>0.000447</td>\n",
       "      <td>10</td>\n",
       "      <td>100</td>\n",
       "      <td>{'C': 10, 'epsilon': 100}</td>\n",
       "      <td>-2.376370</td>\n",
       "      <td>-1.999399</td>\n",
       "      <td>-2.949142</td>\n",
       "      <td>...</td>\n",
       "      <td>-2.113162</td>\n",
       "      <td>-2.080285</td>\n",
       "      <td>-2.182758</td>\n",
       "      <td>-2.165976</td>\n",
       "      <td>-2.107155</td>\n",
       "      <td>-2.111295</td>\n",
       "      <td>-2.342536</td>\n",
       "      <td>-2.181447</td>\n",
       "      <td>-2.159174</td>\n",
       "      <td>0.069958</td>\n",
       "    </tr>\n",
       "    <tr>\n",
       "      <th>20</th>\n",
       "      <td>0.001199</td>\n",
       "      <td>3.999738e-04</td>\n",
       "      <td>0.000800</td>\n",
       "      <td>0.000400</td>\n",
       "      <td>100</td>\n",
       "      <td>0.01</td>\n",
       "      <td>{'C': 100, 'epsilon': 0.01}</td>\n",
       "      <td>-1.652807</td>\n",
       "      <td>-1.354516</td>\n",
       "      <td>-1.901392</td>\n",
       "      <td>...</td>\n",
       "      <td>-1.426004</td>\n",
       "      <td>-1.417761</td>\n",
       "      <td>-1.472755</td>\n",
       "      <td>-1.466736</td>\n",
       "      <td>-1.413761</td>\n",
       "      <td>-1.448208</td>\n",
       "      <td>-1.597530</td>\n",
       "      <td>-1.500087</td>\n",
       "      <td>-1.465812</td>\n",
       "      <td>0.050795</td>\n",
       "    </tr>\n",
       "    <tr>\n",
       "      <th>21</th>\n",
       "      <td>0.001299</td>\n",
       "      <td>7.802573e-04</td>\n",
       "      <td>0.000599</td>\n",
       "      <td>0.000489</td>\n",
       "      <td>100</td>\n",
       "      <td>0.1</td>\n",
       "      <td>{'C': 100, 'epsilon': 0.1}</td>\n",
       "      <td>-1.652807</td>\n",
       "      <td>-1.354214</td>\n",
       "      <td>-1.901392</td>\n",
       "      <td>...</td>\n",
       "      <td>-1.426004</td>\n",
       "      <td>-1.417761</td>\n",
       "      <td>-1.472755</td>\n",
       "      <td>-1.466736</td>\n",
       "      <td>-1.413761</td>\n",
       "      <td>-1.448208</td>\n",
       "      <td>-1.597530</td>\n",
       "      <td>-1.500087</td>\n",
       "      <td>-1.465774</td>\n",
       "      <td>0.050794</td>\n",
       "    </tr>\n",
       "    <tr>\n",
       "      <th>22</th>\n",
       "      <td>0.001699</td>\n",
       "      <td>8.992435e-04</td>\n",
       "      <td>0.000600</td>\n",
       "      <td>0.000490</td>\n",
       "      <td>100</td>\n",
       "      <td>1</td>\n",
       "      <td>{'C': 100, 'epsilon': 1}</td>\n",
       "      <td>-1.652807</td>\n",
       "      <td>-1.354516</td>\n",
       "      <td>-1.901391</td>\n",
       "      <td>...</td>\n",
       "      <td>-1.426003</td>\n",
       "      <td>-1.417761</td>\n",
       "      <td>-1.472753</td>\n",
       "      <td>-1.466736</td>\n",
       "      <td>-1.413761</td>\n",
       "      <td>-1.448208</td>\n",
       "      <td>-1.597530</td>\n",
       "      <td>-1.500087</td>\n",
       "      <td>-1.465812</td>\n",
       "      <td>0.050795</td>\n",
       "    </tr>\n",
       "    <tr>\n",
       "      <th>23</th>\n",
       "      <td>0.001099</td>\n",
       "      <td>2.994937e-04</td>\n",
       "      <td>0.000799</td>\n",
       "      <td>0.000400</td>\n",
       "      <td>100</td>\n",
       "      <td>10</td>\n",
       "      <td>{'C': 100, 'epsilon': 10}</td>\n",
       "      <td>-1.652807</td>\n",
       "      <td>-1.354516</td>\n",
       "      <td>-1.901383</td>\n",
       "      <td>...</td>\n",
       "      <td>-1.425993</td>\n",
       "      <td>-1.417761</td>\n",
       "      <td>-1.472743</td>\n",
       "      <td>-1.470142</td>\n",
       "      <td>-1.413761</td>\n",
       "      <td>-1.448208</td>\n",
       "      <td>-1.597530</td>\n",
       "      <td>-1.500087</td>\n",
       "      <td>-1.466150</td>\n",
       "      <td>0.050812</td>\n",
       "    </tr>\n",
       "    <tr>\n",
       "      <th>24</th>\n",
       "      <td>0.000900</td>\n",
       "      <td>6.998710e-04</td>\n",
       "      <td>0.000300</td>\n",
       "      <td>0.000458</td>\n",
       "      <td>100</td>\n",
       "      <td>100</td>\n",
       "      <td>{'C': 100, 'epsilon': 100}</td>\n",
       "      <td>-1.652807</td>\n",
       "      <td>-1.354278</td>\n",
       "      <td>-1.901303</td>\n",
       "      <td>...</td>\n",
       "      <td>-1.425890</td>\n",
       "      <td>-1.417761</td>\n",
       "      <td>-1.472638</td>\n",
       "      <td>-1.470033</td>\n",
       "      <td>-1.413761</td>\n",
       "      <td>-1.448208</td>\n",
       "      <td>-1.597530</td>\n",
       "      <td>-1.500087</td>\n",
       "      <td>-1.466091</td>\n",
       "      <td>0.050817</td>\n",
       "    </tr>\n",
       "  </tbody>\n",
       "</table>\n",
       "<p>25 rows × 32 columns</p>\n",
       "</div>"
      ],
      "text/plain": [
       "    mean_fit_time  std_fit_time  mean_score_time  std_score_time param_C  \\\n",
       "0        0.001499  4.993444e-04         0.000800        0.000400    0.01   \n",
       "1        0.001399  4.894443e-04         0.000600        0.000489    0.01   \n",
       "2        0.001200  3.997803e-04         0.000800        0.000400    0.01   \n",
       "3        0.001299  4.580060e-04         0.000600        0.000490    0.01   \n",
       "4        0.001299  4.577094e-04         0.000700        0.000458    0.01   \n",
       "5        0.001400  4.899794e-04         0.000800        0.000400     0.1   \n",
       "6        0.000999  5.746828e-07         0.000800        0.000400     0.1   \n",
       "7        0.001699  2.098783e-03         0.000799        0.000400     0.1   \n",
       "8        0.001399  9.157776e-04         0.000700        0.000458     0.1   \n",
       "9        0.001299  4.578867e-04         0.001200        0.001661     0.1   \n",
       "10       0.001399  4.895706e-04         0.000600        0.000490       1   \n",
       "11       0.001199  4.001263e-04         0.000900        0.000300       1   \n",
       "12       0.001199  3.994709e-04         0.000800        0.000400       1   \n",
       "13       0.002099  2.341574e-03         0.000800        0.000400       1   \n",
       "14       0.001100  2.997003e-04         0.000700        0.000458       1   \n",
       "15       0.001199  3.997807e-04         0.000600        0.000490      10   \n",
       "16       0.001199  3.998282e-04         0.001999        0.004023      10   \n",
       "17       0.002999  5.016908e-03         0.000800        0.000600      10   \n",
       "18       0.001300  4.578551e-04         0.000400        0.000490      10   \n",
       "19       0.002698  4.772699e-03         0.001000        0.000447      10   \n",
       "20       0.001199  3.999738e-04         0.000800        0.000400     100   \n",
       "21       0.001299  7.802573e-04         0.000599        0.000489     100   \n",
       "22       0.001699  8.992435e-04         0.000600        0.000490     100   \n",
       "23       0.001099  2.994937e-04         0.000799        0.000400     100   \n",
       "24       0.000900  6.998710e-04         0.000300        0.000458     100   \n",
       "\n",
       "   param_epsilon                        params  split0_test_score  \\\n",
       "0           0.01  {'C': 0.01, 'epsilon': 0.01}          -2.464116   \n",
       "1            0.1   {'C': 0.01, 'epsilon': 0.1}          -2.464116   \n",
       "2              1     {'C': 0.01, 'epsilon': 1}          -2.464116   \n",
       "3             10    {'C': 0.01, 'epsilon': 10}          -2.464116   \n",
       "4            100   {'C': 0.01, 'epsilon': 100}          -2.464116   \n",
       "5           0.01   {'C': 0.1, 'epsilon': 0.01}          -2.463319   \n",
       "6            0.1    {'C': 0.1, 'epsilon': 0.1}          -2.463319   \n",
       "7              1      {'C': 0.1, 'epsilon': 1}          -2.463319   \n",
       "8             10     {'C': 0.1, 'epsilon': 10}          -2.463319   \n",
       "9            100    {'C': 0.1, 'epsilon': 100}          -2.463319   \n",
       "10          0.01     {'C': 1, 'epsilon': 0.01}          -2.455349   \n",
       "11           0.1      {'C': 1, 'epsilon': 0.1}          -2.455349   \n",
       "12             1        {'C': 1, 'epsilon': 1}          -2.455349   \n",
       "13            10       {'C': 1, 'epsilon': 10}          -2.455349   \n",
       "14           100      {'C': 1, 'epsilon': 100}          -2.455349   \n",
       "15          0.01    {'C': 10, 'epsilon': 0.01}          -2.376370   \n",
       "16           0.1     {'C': 10, 'epsilon': 0.1}          -2.376370   \n",
       "17             1       {'C': 10, 'epsilon': 1}          -2.376370   \n",
       "18            10      {'C': 10, 'epsilon': 10}          -2.376370   \n",
       "19           100     {'C': 10, 'epsilon': 100}          -2.376370   \n",
       "20          0.01   {'C': 100, 'epsilon': 0.01}          -1.652807   \n",
       "21           0.1    {'C': 100, 'epsilon': 0.1}          -1.652807   \n",
       "22             1      {'C': 100, 'epsilon': 1}          -1.652807   \n",
       "23            10     {'C': 100, 'epsilon': 10}          -1.652807   \n",
       "24           100    {'C': 100, 'epsilon': 100}          -1.652807   \n",
       "\n",
       "    split1_test_score  split2_test_score  ...  split2_train_score  \\\n",
       "0           -2.077889          -3.078705  ...           -2.196920   \n",
       "1           -2.077889          -3.078705  ...           -2.196920   \n",
       "2           -2.077889          -3.078705  ...           -2.196920   \n",
       "3           -2.077889          -3.078705  ...           -2.196920   \n",
       "4           -2.077889          -3.078705  ...           -2.196920   \n",
       "5           -2.077175          -3.077525  ...           -2.196159   \n",
       "6           -2.077175          -3.077525  ...           -2.196159   \n",
       "7           -2.077175          -3.077525  ...           -2.196159   \n",
       "8           -2.077175          -3.077525  ...           -2.196159   \n",
       "9           -2.077175          -3.077525  ...           -2.196159   \n",
       "10          -2.070045          -3.065745  ...           -2.188551   \n",
       "11          -2.070045          -3.065745  ...           -2.188551   \n",
       "12          -2.070045          -3.065745  ...           -2.188551   \n",
       "13          -2.070045          -3.065745  ...           -2.188551   \n",
       "14          -2.070045          -3.065745  ...           -2.188551   \n",
       "15          -1.999399          -2.949142  ...           -2.113162   \n",
       "16          -1.999399          -2.949142  ...           -2.113162   \n",
       "17          -1.999399          -2.949142  ...           -2.113162   \n",
       "18          -1.999399          -2.949142  ...           -2.113162   \n",
       "19          -1.999399          -2.949142  ...           -2.113162   \n",
       "20          -1.354516          -1.901392  ...           -1.426004   \n",
       "21          -1.354214          -1.901392  ...           -1.426004   \n",
       "22          -1.354516          -1.901391  ...           -1.426003   \n",
       "23          -1.354516          -1.901383  ...           -1.425993   \n",
       "24          -1.354278          -1.901303  ...           -1.425890   \n",
       "\n",
       "    split3_train_score  split4_train_score  split5_train_score  \\\n",
       "0            -2.160956           -2.269630           -2.250548   \n",
       "1            -2.160956           -2.269630           -2.250548   \n",
       "2            -2.160956           -2.269630           -2.250548   \n",
       "3            -2.160956           -2.269630           -2.250548   \n",
       "4            -2.160956           -2.269630           -2.250548   \n",
       "5            -2.160223           -2.268840           -2.249779   \n",
       "6            -2.160223           -2.268840           -2.249779   \n",
       "7            -2.160223           -2.268840           -2.249779   \n",
       "8            -2.160223           -2.268840           -2.249779   \n",
       "9            -2.160223           -2.268840           -2.249779   \n",
       "10           -2.152893           -2.260947           -2.242095   \n",
       "11           -2.152893           -2.260947           -2.242095   \n",
       "12           -2.152893           -2.260947           -2.242095   \n",
       "13           -2.152893           -2.260947           -2.242095   \n",
       "14           -2.152893           -2.260947           -2.242095   \n",
       "15           -2.080285           -2.182758           -2.165976   \n",
       "16           -2.080285           -2.182758           -2.165976   \n",
       "17           -2.080285           -2.182758           -2.165976   \n",
       "18           -2.080285           -2.182758           -2.165976   \n",
       "19           -2.080285           -2.182758           -2.165976   \n",
       "20           -1.417761           -1.472755           -1.466736   \n",
       "21           -1.417761           -1.472755           -1.466736   \n",
       "22           -1.417761           -1.472753           -1.466736   \n",
       "23           -1.417761           -1.472743           -1.470142   \n",
       "24           -1.417761           -1.472638           -1.470033   \n",
       "\n",
       "    split6_train_score  split7_train_score  split8_train_score  \\\n",
       "0            -2.191856           -2.191758           -2.433135   \n",
       "1            -2.191856           -2.191758           -2.433135   \n",
       "2            -2.191856           -2.191758           -2.433135   \n",
       "3            -2.191856           -2.191758           -2.433135   \n",
       "4            -2.191856           -2.191758           -2.433135   \n",
       "5            -2.191086           -2.191026           -2.432310   \n",
       "6            -2.191086           -2.191026           -2.432310   \n",
       "7            -2.191086           -2.191026           -2.432310   \n",
       "8            -2.191086           -2.191026           -2.432310   \n",
       "9            -2.191086           -2.191026           -2.432310   \n",
       "10           -2.183393           -2.183713           -2.424075   \n",
       "11           -2.183393           -2.183713           -2.424075   \n",
       "12           -2.183393           -2.183713           -2.424075   \n",
       "13           -2.183393           -2.183713           -2.424075   \n",
       "14           -2.183393           -2.183713           -2.424075   \n",
       "15           -2.107155           -2.111295           -2.342536   \n",
       "16           -2.107155           -2.111295           -2.342536   \n",
       "17           -2.107155           -2.111295           -2.342536   \n",
       "18           -2.107155           -2.111295           -2.342536   \n",
       "19           -2.107155           -2.111295           -2.342536   \n",
       "20           -1.413761           -1.448208           -1.597530   \n",
       "21           -1.413761           -1.448208           -1.597530   \n",
       "22           -1.413761           -1.448208           -1.597530   \n",
       "23           -1.413761           -1.448208           -1.597530   \n",
       "24           -1.413761           -1.448208           -1.597530   \n",
       "\n",
       "    split9_train_score  mean_train_score  std_train_score  \n",
       "0            -2.264281         -2.243566         0.072408  \n",
       "1            -2.264281         -2.243566         0.072408  \n",
       "2            -2.264281         -2.243566         0.072408  \n",
       "3            -2.264281         -2.243566         0.072408  \n",
       "4            -2.264281         -2.243566         0.072408  \n",
       "5            -2.263528         -2.242799         0.072386  \n",
       "6            -2.263528         -2.242799         0.072386  \n",
       "7            -2.263528         -2.242799         0.072386  \n",
       "8            -2.263528         -2.242799         0.072386  \n",
       "9            -2.263528         -2.242799         0.072386  \n",
       "10           -2.255998         -2.235130         0.072161  \n",
       "11           -2.255998         -2.235130         0.072161  \n",
       "12           -2.255998         -2.235130         0.072161  \n",
       "13           -2.255998         -2.235130         0.072161  \n",
       "14           -2.255998         -2.235130         0.072161  \n",
       "15           -2.181447         -2.159174         0.069958  \n",
       "16           -2.181447         -2.159174         0.069958  \n",
       "17           -2.181447         -2.159174         0.069958  \n",
       "18           -2.181447         -2.159174         0.069958  \n",
       "19           -2.181447         -2.159174         0.069958  \n",
       "20           -1.500087         -1.465812         0.050795  \n",
       "21           -1.500087         -1.465774         0.050794  \n",
       "22           -1.500087         -1.465812         0.050795  \n",
       "23           -1.500087         -1.466150         0.050812  \n",
       "24           -1.500087         -1.466091         0.050817  \n",
       "\n",
       "[25 rows x 32 columns]"
      ]
     },
     "execution_count": 121,
     "metadata": {},
     "output_type": "execute_result"
    }
   ],
   "source": [
    "result_linearsvr = pd.DataFrame(grid_svrl.cv_results_)\n",
    "result_linearsvr"
   ]
  },
  {
   "cell_type": "code",
   "execution_count": 122,
   "metadata": {},
   "outputs": [
    {
     "data": {
      "text/plain": [
       "[<matplotlib.lines.Line2D at 0x4493640>]"
      ]
     },
     "execution_count": 122,
     "metadata": {},
     "output_type": "execute_result"
    },
    {
     "data": {
      "text/plain": [
       "[<matplotlib.lines.Line2D at 0x4465460>]"
      ]
     },
     "execution_count": 122,
     "metadata": {},
     "output_type": "execute_result"
    },
    {
     "data": {
      "text/plain": [
       "([<matplotlib.axis.XTick at 0x4480b50>,\n",
       "  <matplotlib.axis.XTick at 0x4480b38>,\n",
       "  <matplotlib.axis.XTick at 0x44801a8>,\n",
       "  <matplotlib.axis.XTick at 0x44650e8>,\n",
       "  <matplotlib.axis.XTick at 0x443b100>,\n",
       "  <matplotlib.axis.XTick at 0x443b1c0>,\n",
       "  <matplotlib.axis.XTick at 0x443b148>,\n",
       "  <matplotlib.axis.XTick at 0x443b718>,\n",
       "  <matplotlib.axis.XTick at 0x44086d0>,\n",
       "  <matplotlib.axis.XTick at 0x4411388>,\n",
       "  <matplotlib.axis.XTick at 0x441c910>,\n",
       "  <matplotlib.axis.XTick at 0x13141a00>,\n",
       "  <matplotlib.axis.XTick at 0x11ff7280>,\n",
       "  <matplotlib.axis.XTick at 0x11ff7520>,\n",
       "  <matplotlib.axis.XTick at 0x43a1820>,\n",
       "  <matplotlib.axis.XTick at 0x130055e0>,\n",
       "  <matplotlib.axis.XTick at 0x1310da30>,\n",
       "  <matplotlib.axis.XTick at 0x43fa850>,\n",
       "  <matplotlib.axis.XTick at 0x439a1a8>,\n",
       "  <matplotlib.axis.XTick at 0x1310dd00>,\n",
       "  <matplotlib.axis.XTick at 0x11ff7538>,\n",
       "  <matplotlib.axis.XTick at 0x439a670>,\n",
       "  <matplotlib.axis.XTick at 0x4369bc8>,\n",
       "  <matplotlib.axis.XTick at 0x11fa2f70>,\n",
       "  <matplotlib.axis.XTick at 0x441c580>],\n",
       " [Text(0, 0, '0.01'),\n",
       "  Text(0, 0, '0.01'),\n",
       "  Text(0, 0, '0.01'),\n",
       "  Text(0, 0, '0.01'),\n",
       "  Text(0, 0, '0.01'),\n",
       "  Text(0, 0, '0.1'),\n",
       "  Text(0, 0, '0.1'),\n",
       "  Text(0, 0, '0.1'),\n",
       "  Text(0, 0, '0.1'),\n",
       "  Text(0, 0, '0.1'),\n",
       "  Text(0, 0, '1'),\n",
       "  Text(0, 0, '1'),\n",
       "  Text(0, 0, '1'),\n",
       "  Text(0, 0, '1'),\n",
       "  Text(0, 0, '1'),\n",
       "  Text(0, 0, '10'),\n",
       "  Text(0, 0, '10'),\n",
       "  Text(0, 0, '10'),\n",
       "  Text(0, 0, '10'),\n",
       "  Text(0, 0, '10'),\n",
       "  Text(0, 0, '100'),\n",
       "  Text(0, 0, '100'),\n",
       "  Text(0, 0, '100'),\n",
       "  Text(0, 0, '100'),\n",
       "  Text(0, 0, '100')])"
      ]
     },
     "execution_count": 122,
     "metadata": {},
     "output_type": "execute_result"
    },
    {
     "data": {
      "text/plain": [
       "[<matplotlib.lines.Line2D at 0x11ff73b8>]"
      ]
     },
     "execution_count": 122,
     "metadata": {},
     "output_type": "execute_result"
    },
    {
     "data": {
      "text/plain": [
       "[<matplotlib.lines.Line2D at 0x4369058>]"
      ]
     },
     "execution_count": 122,
     "metadata": {},
     "output_type": "execute_result"
    },
    {
     "data": {
      "text/plain": [
       "<matplotlib.legend.Legend at 0x11fa2580>"
      ]
     },
     "execution_count": 122,
     "metadata": {},
     "output_type": "execute_result"
    },
    {
     "data": {
      "text/plain": [
       "Text(0.5, 0, 'Alpha')"
      ]
     },
     "execution_count": 122,
     "metadata": {},
     "output_type": "execute_result"
    },
    {
     "data": {
      "image/png": "[encoded data removed]",
      "text/plain": [
       "<Figure size 432x288 with 1 Axes>"
      ]
     },
     "metadata": {
      "needs_background": "light"
     },
     "output_type": "display_data"
    }
   ],
   "source": [
    "plt.plot(range(result_linearsvr.shape[0]), result_linearsvr['mean_train_score'], label = 'mean train score')\n",
    "plt.plot(range(result_linearsvr.shape[0]), result_linearsvr['mean_test_score'], label = 'mean test score')\n",
    "plt.xticks(range(result_linearsvr.shape[0]), result_linearsvr['param_C'], rotation = 90)\n",
    "plt.plot([grid_svrl.best_index_], result_linearsvr['mean_train_score'][grid_svrl.best_index_], 'o', markersize = 10, fillstyle = \"none\")\n",
    "plt.plot([grid_svrl.best_index_], result_linearsvr['mean_test_score'][grid_svrl.best_index_], 'o', markersize = 10, fillstyle = \"none\")\n",
    "plt.grid()\n",
    "plt.legend()\n",
    "plt.xlabel('Alpha')"
   ]
  },
  {
   "cell_type": "markdown",
   "metadata": {},
   "source": [
    "##### <font color='red'>Linear (Simple) SVR Result:\n",
    "Best parameters: {'C': 100, 'epsilon': 0.1}\n",
    "\n",
    "Average Cross validation score: 0.5548\n",
    "\n",
    "Test score: 0.5714"
   ]
  },
  {
   "cell_type": "markdown",
   "metadata": {},
   "source": [
    "## SVR with kernel 'Linear'"
   ]
  },
  {
   "cell_type": "code",
   "execution_count": 123,
   "metadata": {},
   "outputs": [],
   "source": [
    "grid_parms_linear = {'C': [0.01,0.1, 1, 10, 100]}"
   ]
  },
  {
   "cell_type": "code",
   "execution_count": 124,
   "metadata": {},
   "outputs": [],
   "source": [
    "svr_linear = SVR(kernel='linear')\n",
    "grid_svr_linear = GridSearchCV(estimator = svr_linear,param_grid = grid_parms_linear,return_train_score=True,n_jobs= -1,cv=6)"
   ]
  },
  {
   "cell_type": "code",
   "execution_count": 125,
   "metadata": {},
   "outputs": [
    {
     "data": {
      "text/plain": [
       "GridSearchCV(cv=6, estimator=SVR(kernel='linear'), n_jobs=-1,\n",
       "             param_grid={'C': [0.01, 0.1, 1, 10, 100]},\n",
       "             return_train_score=True)"
      ]
     },
     "execution_count": 125,
     "metadata": {},
     "output_type": "execute_result"
    }
   ],
   "source": [
    "grid_svr_linear.fit(X_train_pca,y_train)"
   ]
  },
  {
   "cell_type": "code",
   "execution_count": 126,
   "metadata": {},
   "outputs": [
    {
     "name": "stdout",
     "output_type": "stream",
     "text": [
      "Best parameters: {'C': 100}\n",
      "Best cross-validation score: 0.3483\n"
     ]
    }
   ],
   "source": [
    "print(\"Best parameters: {}\".format(grid_svr_linear.best_params_))\n",
    "print(\"Best cross-validation score: {:.4f}\".format(grid_svr_linear.best_score_))"
   ]
  },
  {
   "cell_type": "code",
   "execution_count": 127,
   "metadata": {},
   "outputs": [
    {
     "data": {
      "text/plain": [
       "SVR(C=100, kernel='linear')"
      ]
     },
     "execution_count": 127,
     "metadata": {},
     "output_type": "execute_result"
    },
    {
     "name": "stdout",
     "output_type": "stream",
     "text": [
      "0.370117807434416\n"
     ]
    },
    {
     "data": {
      "text/plain": [
       "0.3488324099490292"
      ]
     },
     "execution_count": 127,
     "metadata": {},
     "output_type": "execute_result"
    }
   ],
   "source": [
    "svr = SVR(kernel = 'linear',C = 100)\n",
    "        \n",
    "        #train the model\n",
    "svr.fit(X_train_pca, y_train)\n",
    "        \n",
    "        #evaluate the model\n",
    "print(svr.score(X_train_pca, y_train))\n",
    "svr_test_score = svr.score(X_test_pca, y_test)\n",
    "svr_test_score"
   ]
  },
  {
   "cell_type": "code",
   "execution_count": 128,
   "metadata": {},
   "outputs": [
    {
     "name": "stdout",
     "output_type": "stream",
     "text": [
      "Cross-validation scores:\n",
      "[0.3035794  0.4024692  0.35342362 0.35154009 0.40380224 0.27526754]\n",
      "0.3483470138561307\n"
     ]
    }
   ],
   "source": [
    "from sklearn.model_selection import KFold\n",
    "from sklearn.model_selection import cross_val_score\n",
    "\n",
    "kfold = KFold(n_splits=6)\n",
    "print(\"Cross-validation scores:\\n{}\".format(cross_val_score(svr , X_train_pca, y_train, cv=kfold)))\n",
    "scores = cross_val_score(svr , X_train_pca, y_train, cv=kfold)\n",
    "print(np.mean(scores))"
   ]
  },
  {
   "cell_type": "code",
   "execution_count": 129,
   "metadata": {},
   "outputs": [
    {
     "data": {
      "text/html": [
       "<div>\n",
       "<style scoped>\n",
       "    .dataframe tbody tr th:only-of-type {\n",
       "        vertical-align: middle;\n",
       "    }\n",
       "\n",
       "    .dataframe tbody tr th {\n",
       "        vertical-align: top;\n",
       "    }\n",
       "\n",
       "    .dataframe thead th {\n",
       "        text-align: right;\n",
       "    }\n",
       "</style>\n",
       "<table border=\"1\" class=\"dataframe\">\n",
       "  <thead>\n",
       "    <tr style=\"text-align: right;\">\n",
       "      <th></th>\n",
       "      <th>mean_fit_time</th>\n",
       "      <th>std_fit_time</th>\n",
       "      <th>mean_score_time</th>\n",
       "      <th>std_score_time</th>\n",
       "      <th>param_C</th>\n",
       "      <th>params</th>\n",
       "      <th>split0_test_score</th>\n",
       "      <th>split1_test_score</th>\n",
       "      <th>split2_test_score</th>\n",
       "      <th>split3_test_score</th>\n",
       "      <th>...</th>\n",
       "      <th>std_test_score</th>\n",
       "      <th>rank_test_score</th>\n",
       "      <th>split0_train_score</th>\n",
       "      <th>split1_train_score</th>\n",
       "      <th>split2_train_score</th>\n",
       "      <th>split3_train_score</th>\n",
       "      <th>split4_train_score</th>\n",
       "      <th>split5_train_score</th>\n",
       "      <th>mean_train_score</th>\n",
       "      <th>std_train_score</th>\n",
       "    </tr>\n",
       "  </thead>\n",
       "  <tbody>\n",
       "    <tr>\n",
       "      <th>0</th>\n",
       "      <td>0.053301</td>\n",
       "      <td>0.007884</td>\n",
       "      <td>0.005164</td>\n",
       "      <td>0.000373</td>\n",
       "      <td>0.01</td>\n",
       "      <td>{'C': 0.01}</td>\n",
       "      <td>-0.087878</td>\n",
       "      <td>-0.017400</td>\n",
       "      <td>-0.058762</td>\n",
       "      <td>-0.030698</td>\n",
       "      <td>...</td>\n",
       "      <td>0.029197</td>\n",
       "      <td>5</td>\n",
       "      <td>-0.048922</td>\n",
       "      <td>-0.056969</td>\n",
       "      <td>-0.062263</td>\n",
       "      <td>-0.060070</td>\n",
       "      <td>-0.056428</td>\n",
       "      <td>-0.046847</td>\n",
       "      <td>-0.055250</td>\n",
       "      <td>0.005589</td>\n",
       "    </tr>\n",
       "    <tr>\n",
       "      <th>1</th>\n",
       "      <td>0.050471</td>\n",
       "      <td>0.006797</td>\n",
       "      <td>0.004664</td>\n",
       "      <td>0.000471</td>\n",
       "      <td>0.1</td>\n",
       "      <td>{'C': 0.1}</td>\n",
       "      <td>-0.087098</td>\n",
       "      <td>-0.016610</td>\n",
       "      <td>-0.057708</td>\n",
       "      <td>-0.029815</td>\n",
       "      <td>...</td>\n",
       "      <td>0.029261</td>\n",
       "      <td>4</td>\n",
       "      <td>-0.048103</td>\n",
       "      <td>-0.056347</td>\n",
       "      <td>-0.061241</td>\n",
       "      <td>-0.059168</td>\n",
       "      <td>-0.055630</td>\n",
       "      <td>-0.046136</td>\n",
       "      <td>-0.054437</td>\n",
       "      <td>0.005519</td>\n",
       "    </tr>\n",
       "    <tr>\n",
       "      <th>2</th>\n",
       "      <td>0.043974</td>\n",
       "      <td>0.000577</td>\n",
       "      <td>0.004498</td>\n",
       "      <td>0.000500</td>\n",
       "      <td>1</td>\n",
       "      <td>{'C': 1}</td>\n",
       "      <td>-0.079329</td>\n",
       "      <td>-0.007993</td>\n",
       "      <td>-0.048419</td>\n",
       "      <td>-0.021031</td>\n",
       "      <td>...</td>\n",
       "      <td>0.030128</td>\n",
       "      <td>3</td>\n",
       "      <td>-0.039946</td>\n",
       "      <td>-0.049050</td>\n",
       "      <td>-0.052201</td>\n",
       "      <td>-0.050182</td>\n",
       "      <td>-0.047683</td>\n",
       "      <td>-0.039246</td>\n",
       "      <td>-0.046385</td>\n",
       "      <td>0.004991</td>\n",
       "    </tr>\n",
       "    <tr>\n",
       "      <th>3</th>\n",
       "      <td>0.046473</td>\n",
       "      <td>0.002871</td>\n",
       "      <td>0.004664</td>\n",
       "      <td>0.000471</td>\n",
       "      <td>10</td>\n",
       "      <td>{'C': 10}</td>\n",
       "      <td>-0.007350</td>\n",
       "      <td>0.074936</td>\n",
       "      <td>0.025219</td>\n",
       "      <td>0.053760</td>\n",
       "      <td>...</td>\n",
       "      <td>0.035042</td>\n",
       "      <td>2</td>\n",
       "      <td>0.035054</td>\n",
       "      <td>0.025903</td>\n",
       "      <td>0.019747</td>\n",
       "      <td>0.026113</td>\n",
       "      <td>0.024057</td>\n",
       "      <td>0.035115</td>\n",
       "      <td>0.027665</td>\n",
       "      <td>0.005647</td>\n",
       "    </tr>\n",
       "    <tr>\n",
       "      <th>4</th>\n",
       "      <td>0.043641</td>\n",
       "      <td>0.002807</td>\n",
       "      <td>0.003997</td>\n",
       "      <td>0.001000</td>\n",
       "      <td>100</td>\n",
       "      <td>{'C': 100}</td>\n",
       "      <td>0.303579</td>\n",
       "      <td>0.402469</td>\n",
       "      <td>0.353424</td>\n",
       "      <td>0.351540</td>\n",
       "      <td>...</td>\n",
       "      <td>0.047232</td>\n",
       "      <td>1</td>\n",
       "      <td>0.348757</td>\n",
       "      <td>0.350121</td>\n",
       "      <td>0.336561</td>\n",
       "      <td>0.359644</td>\n",
       "      <td>0.327000</td>\n",
       "      <td>0.351926</td>\n",
       "      <td>0.345668</td>\n",
       "      <td>0.010765</td>\n",
       "    </tr>\n",
       "  </tbody>\n",
       "</table>\n",
       "<p>5 rows × 23 columns</p>\n",
       "</div>"
      ],
      "text/plain": [
       "   mean_fit_time  std_fit_time  mean_score_time  std_score_time param_C  \\\n",
       "0       0.053301      0.007884         0.005164        0.000373    0.01   \n",
       "1       0.050471      0.006797         0.004664        0.000471     0.1   \n",
       "2       0.043974      0.000577         0.004498        0.000500       1   \n",
       "3       0.046473      0.002871         0.004664        0.000471      10   \n",
       "4       0.043641      0.002807         0.003997        0.001000     100   \n",
       "\n",
       "        params  split0_test_score  split1_test_score  split2_test_score  \\\n",
       "0  {'C': 0.01}          -0.087878          -0.017400          -0.058762   \n",
       "1   {'C': 0.1}          -0.087098          -0.016610          -0.057708   \n",
       "2     {'C': 1}          -0.079329          -0.007993          -0.048419   \n",
       "3    {'C': 10}          -0.007350           0.074936           0.025219   \n",
       "4   {'C': 100}           0.303579           0.402469           0.353424   \n",
       "\n",
       "   split3_test_score  ...  std_test_score  rank_test_score  \\\n",
       "0          -0.030698  ...        0.029197                5   \n",
       "1          -0.029815  ...        0.029261                4   \n",
       "2          -0.021031  ...        0.030128                3   \n",
       "3           0.053760  ...        0.035042                2   \n",
       "4           0.351540  ...        0.047232                1   \n",
       "\n",
       "   split0_train_score  split1_train_score  split2_train_score  \\\n",
       "0           -0.048922           -0.056969           -0.062263   \n",
       "1           -0.048103           -0.056347           -0.061241   \n",
       "2           -0.039946           -0.049050           -0.052201   \n",
       "3            0.035054            0.025903            0.019747   \n",
       "4            0.348757            0.350121            0.336561   \n",
       "\n",
       "   split3_train_score  split4_train_score  split5_train_score  \\\n",
       "0           -0.060070           -0.056428           -0.046847   \n",
       "1           -0.059168           -0.055630           -0.046136   \n",
       "2           -0.050182           -0.047683           -0.039246   \n",
       "3            0.026113            0.024057            0.035115   \n",
       "4            0.359644            0.327000            0.351926   \n",
       "\n",
       "   mean_train_score  std_train_score  \n",
       "0         -0.055250         0.005589  \n",
       "1         -0.054437         0.005519  \n",
       "2         -0.046385         0.004991  \n",
       "3          0.027665         0.005647  \n",
       "4          0.345668         0.010765  \n",
       "\n",
       "[5 rows x 23 columns]"
      ]
     },
     "execution_count": 129,
     "metadata": {},
     "output_type": "execute_result"
    }
   ],
   "source": [
    "result_svr_linear = pd.DataFrame(grid_svr_linear.cv_results_)\n",
    "result_svr_linear"
   ]
  },
  {
   "cell_type": "code",
   "execution_count": 130,
   "metadata": {},
   "outputs": [
    {
     "data": {
      "text/plain": [
       "[<matplotlib.lines.Line2D at 0x131dd940>]"
      ]
     },
     "execution_count": 130,
     "metadata": {},
     "output_type": "execute_result"
    },
    {
     "data": {
      "text/plain": [
       "[<matplotlib.lines.Line2D at 0x142b80b8>]"
      ]
     },
     "execution_count": 130,
     "metadata": {},
     "output_type": "execute_result"
    },
    {
     "data": {
      "text/plain": [
       "([<matplotlib.axis.XTick at 0x13267af0>,\n",
       "  <matplotlib.axis.XTick at 0x13267ad8>,\n",
       "  <matplotlib.axis.XTick at 0x1327b208>,\n",
       "  <matplotlib.axis.XTick at 0x13244e20>,\n",
       "  <matplotlib.axis.XTick at 0x13244fa0>],\n",
       " [Text(0, 0, '0.01'),\n",
       "  Text(0, 0, '0.1'),\n",
       "  Text(0, 0, '1'),\n",
       "  Text(0, 0, '10'),\n",
       "  Text(0, 0, '100')])"
      ]
     },
     "execution_count": 130,
     "metadata": {},
     "output_type": "execute_result"
    },
    {
     "data": {
      "text/plain": [
       "[<matplotlib.lines.Line2D at 0x132444f0>]"
      ]
     },
     "execution_count": 130,
     "metadata": {},
     "output_type": "execute_result"
    },
    {
     "data": {
      "text/plain": [
       "[<matplotlib.lines.Line2D at 0x132449e8>]"
      ]
     },
     "execution_count": 130,
     "metadata": {},
     "output_type": "execute_result"
    },
    {
     "data": {
      "text/plain": [
       "<matplotlib.legend.Legend at 0x142a1f10>"
      ]
     },
     "execution_count": 130,
     "metadata": {},
     "output_type": "execute_result"
    },
    {
     "data": {
      "text/plain": [
       "Text(0.5, 0, 'C')"
      ]
     },
     "execution_count": 130,
     "metadata": {},
     "output_type": "execute_result"
    },
    {
     "data": {
      "image/png": "[encoded data removed]",
      "text/plain": [
       "<Figure size 432x288 with 1 Axes>"
      ]
     },
     "metadata": {
      "needs_background": "light"
     },
     "output_type": "display_data"
    }
   ],
   "source": [
    "plt.plot(range(result_svr_linear.shape[0]), result_svr_linear['mean_train_score'], label = 'mean train score')\n",
    "plt.plot(range(result_svr_linear.shape[0]), result_svr_linear['mean_test_score'], label = 'mean test score')\n",
    "plt.xticks(range(result_svr_linear.shape[0]), result_svr_linear['param_C'], rotation = 90)\n",
    "plt.plot([grid_svr_linear.best_index_], result_svr_linear['mean_train_score'][grid_svr_linear.best_index_], 'o', markersize = 10, fillstyle = \"none\")\n",
    "plt.plot([grid_svr_linear.best_index_], result_svr_linear['mean_test_score'][grid_svr_linear.best_index_], 'o', markersize = 10, fillstyle = \"none\")\n",
    "plt.grid()\n",
    "plt.legend()\n",
    "plt.xlabel('C')"
   ]
  },
  {
   "cell_type": "markdown",
   "metadata": {},
   "source": [
    "##### <font color='red'>SVR with Kernel as 'Linear' Result:\n",
    "Best parameters: {'C': 100}\n",
    "\n",
    "Average Cross validation score: 0.6313\n",
    "\n",
    "Test score: 0.6353"
   ]
  },
  {
   "cell_type": "markdown",
   "metadata": {},
   "source": [
    "## SVR with kernel 'Poly'"
   ]
  },
  {
   "cell_type": "code",
   "execution_count": 131,
   "metadata": {},
   "outputs": [],
   "source": [
    "grid_parms_svrp = {'C': [1, 10, 100],'degree':[1,3]}"
   ]
  },
  {
   "cell_type": "code",
   "execution_count": 132,
   "metadata": {},
   "outputs": [],
   "source": [
    "svr_poly = SVR(kernel='poly')\n",
    "grid_svr_poly = GridSearchCV(estimator = svr_poly,param_grid = grid_parms_svrp,return_train_score=True,n_jobs= -1,cv=3)"
   ]
  },
  {
   "cell_type": "code",
   "execution_count": 133,
   "metadata": {},
   "outputs": [
    {
     "data": {
      "text/plain": [
       "GridSearchCV(cv=3, estimator=SVR(kernel='poly'), n_jobs=-1,\n",
       "             param_grid={'C': [1, 10, 100], 'degree': [1, 3]},\n",
       "             return_train_score=True)"
      ]
     },
     "execution_count": 133,
     "metadata": {},
     "output_type": "execute_result"
    }
   ],
   "source": [
    "grid_svr_poly.fit(X_train_pca,y_train)"
   ]
  },
  {
   "cell_type": "code",
   "execution_count": 134,
   "metadata": {},
   "outputs": [
    {
     "name": "stdout",
     "output_type": "stream",
     "text": [
      "Best parameters: {'C': 100, 'degree': 3}\n",
      "Best cross-validation score: 0.0745\n"
     ]
    },
    {
     "data": {
      "text/html": [
       "<div>\n",
       "<style scoped>\n",
       "    .dataframe tbody tr th:only-of-type {\n",
       "        vertical-align: middle;\n",
       "    }\n",
       "\n",
       "    .dataframe tbody tr th {\n",
       "        vertical-align: top;\n",
       "    }\n",
       "\n",
       "    .dataframe thead th {\n",
       "        text-align: right;\n",
       "    }\n",
       "</style>\n",
       "<table border=\"1\" class=\"dataframe\">\n",
       "  <thead>\n",
       "    <tr style=\"text-align: right;\">\n",
       "      <th></th>\n",
       "      <th>mean_fit_time</th>\n",
       "      <th>std_fit_time</th>\n",
       "      <th>mean_score_time</th>\n",
       "      <th>std_score_time</th>\n",
       "      <th>param_C</th>\n",
       "      <th>param_degree</th>\n",
       "      <th>params</th>\n",
       "      <th>split0_test_score</th>\n",
       "      <th>split1_test_score</th>\n",
       "      <th>split2_test_score</th>\n",
       "      <th>mean_test_score</th>\n",
       "      <th>std_test_score</th>\n",
       "      <th>rank_test_score</th>\n",
       "      <th>split0_train_score</th>\n",
       "      <th>split1_train_score</th>\n",
       "      <th>split2_train_score</th>\n",
       "      <th>mean_train_score</th>\n",
       "      <th>std_train_score</th>\n",
       "    </tr>\n",
       "  </thead>\n",
       "  <tbody>\n",
       "    <tr>\n",
       "      <th>0</th>\n",
       "      <td>0.039642</td>\n",
       "      <td>0.006596</td>\n",
       "      <td>0.008662</td>\n",
       "      <td>2.355110e-03</td>\n",
       "      <td>1</td>\n",
       "      <td>1</td>\n",
       "      <td>{'C': 1, 'degree': 1}</td>\n",
       "      <td>-0.043316</td>\n",
       "      <td>-0.045543</td>\n",
       "      <td>-0.072555</td>\n",
       "      <td>-0.053805</td>\n",
       "      <td>0.013290</td>\n",
       "      <td>6</td>\n",
       "      <td>-0.050506</td>\n",
       "      <td>-0.064951</td>\n",
       "      <td>-0.045839</td>\n",
       "      <td>-0.053765</td>\n",
       "      <td>0.008136</td>\n",
       "    </tr>\n",
       "    <tr>\n",
       "      <th>1</th>\n",
       "      <td>0.043309</td>\n",
       "      <td>0.008725</td>\n",
       "      <td>0.008328</td>\n",
       "      <td>4.685056e-04</td>\n",
       "      <td>1</td>\n",
       "      <td>3</td>\n",
       "      <td>{'C': 1, 'degree': 3}</td>\n",
       "      <td>-0.042235</td>\n",
       "      <td>-0.043375</td>\n",
       "      <td>-0.070912</td>\n",
       "      <td>-0.052174</td>\n",
       "      <td>0.013258</td>\n",
       "      <td>5</td>\n",
       "      <td>-0.048327</td>\n",
       "      <td>-0.062978</td>\n",
       "      <td>-0.044103</td>\n",
       "      <td>-0.051803</td>\n",
       "      <td>0.008088</td>\n",
       "    </tr>\n",
       "    <tr>\n",
       "      <th>2</th>\n",
       "      <td>0.043307</td>\n",
       "      <td>0.007842</td>\n",
       "      <td>0.008330</td>\n",
       "      <td>4.713705e-04</td>\n",
       "      <td>10</td>\n",
       "      <td>1</td>\n",
       "      <td>{'C': 10, 'degree': 1}</td>\n",
       "      <td>-0.038785</td>\n",
       "      <td>-0.040221</td>\n",
       "      <td>-0.068976</td>\n",
       "      <td>-0.049328</td>\n",
       "      <td>0.013906</td>\n",
       "      <td>4</td>\n",
       "      <td>-0.045836</td>\n",
       "      <td>-0.059884</td>\n",
       "      <td>-0.042076</td>\n",
       "      <td>-0.049265</td>\n",
       "      <td>0.007664</td>\n",
       "    </tr>\n",
       "    <tr>\n",
       "      <th>3</th>\n",
       "      <td>0.032981</td>\n",
       "      <td>0.002827</td>\n",
       "      <td>0.008329</td>\n",
       "      <td>4.715952e-04</td>\n",
       "      <td>10</td>\n",
       "      <td>3</td>\n",
       "      <td>{'C': 10, 'degree': 3}</td>\n",
       "      <td>-0.029071</td>\n",
       "      <td>-0.023081</td>\n",
       "      <td>-0.054786</td>\n",
       "      <td>-0.035646</td>\n",
       "      <td>0.013753</td>\n",
       "      <td>3</td>\n",
       "      <td>-0.025736</td>\n",
       "      <td>-0.042426</td>\n",
       "      <td>-0.029611</td>\n",
       "      <td>-0.032591</td>\n",
       "      <td>0.007132</td>\n",
       "    </tr>\n",
       "    <tr>\n",
       "      <th>4</th>\n",
       "      <td>0.033979</td>\n",
       "      <td>0.004963</td>\n",
       "      <td>0.007330</td>\n",
       "      <td>4.718200e-04</td>\n",
       "      <td>100</td>\n",
       "      <td>1</td>\n",
       "      <td>{'C': 100, 'degree': 1}</td>\n",
       "      <td>0.007630</td>\n",
       "      <td>0.008557</td>\n",
       "      <td>-0.025928</td>\n",
       "      <td>-0.003247</td>\n",
       "      <td>0.016042</td>\n",
       "      <td>2</td>\n",
       "      <td>0.001891</td>\n",
       "      <td>-0.013183</td>\n",
       "      <td>0.002017</td>\n",
       "      <td>-0.003092</td>\n",
       "      <td>0.007136</td>\n",
       "    </tr>\n",
       "    <tr>\n",
       "      <th>5</th>\n",
       "      <td>0.031981</td>\n",
       "      <td>0.000817</td>\n",
       "      <td>0.006995</td>\n",
       "      <td>4.052337e-07</td>\n",
       "      <td>100</td>\n",
       "      <td>3</td>\n",
       "      <td>{'C': 100, 'degree': 3}</td>\n",
       "      <td>0.055044</td>\n",
       "      <td>0.105270</td>\n",
       "      <td>0.063127</td>\n",
       "      <td>0.074481</td>\n",
       "      <td>0.022020</td>\n",
       "      <td>1</td>\n",
       "      <td>0.101214</td>\n",
       "      <td>0.102419</td>\n",
       "      <td>0.055997</td>\n",
       "      <td>0.086543</td>\n",
       "      <td>0.021605</td>\n",
       "    </tr>\n",
       "  </tbody>\n",
       "</table>\n",
       "</div>"
      ],
      "text/plain": [
       "   mean_fit_time  std_fit_time  mean_score_time  std_score_time param_C  \\\n",
       "0       0.039642      0.006596         0.008662    2.355110e-03       1   \n",
       "1       0.043309      0.008725         0.008328    4.685056e-04       1   \n",
       "2       0.043307      0.007842         0.008330    4.713705e-04      10   \n",
       "3       0.032981      0.002827         0.008329    4.715952e-04      10   \n",
       "4       0.033979      0.004963         0.007330    4.718200e-04     100   \n",
       "5       0.031981      0.000817         0.006995    4.052337e-07     100   \n",
       "\n",
       "  param_degree                   params  split0_test_score  split1_test_score  \\\n",
       "0            1    {'C': 1, 'degree': 1}          -0.043316          -0.045543   \n",
       "1            3    {'C': 1, 'degree': 3}          -0.042235          -0.043375   \n",
       "2            1   {'C': 10, 'degree': 1}          -0.038785          -0.040221   \n",
       "3            3   {'C': 10, 'degree': 3}          -0.029071          -0.023081   \n",
       "4            1  {'C': 100, 'degree': 1}           0.007630           0.008557   \n",
       "5            3  {'C': 100, 'degree': 3}           0.055044           0.105270   \n",
       "\n",
       "   split2_test_score  mean_test_score  std_test_score  rank_test_score  \\\n",
       "0          -0.072555        -0.053805        0.013290                6   \n",
       "1          -0.070912        -0.052174        0.013258                5   \n",
       "2          -0.068976        -0.049328        0.013906                4   \n",
       "3          -0.054786        -0.035646        0.013753                3   \n",
       "4          -0.025928        -0.003247        0.016042                2   \n",
       "5           0.063127         0.074481        0.022020                1   \n",
       "\n",
       "   split0_train_score  split1_train_score  split2_train_score  \\\n",
       "0           -0.050506           -0.064951           -0.045839   \n",
       "1           -0.048327           -0.062978           -0.044103   \n",
       "2           -0.045836           -0.059884           -0.042076   \n",
       "3           -0.025736           -0.042426           -0.029611   \n",
       "4            0.001891           -0.013183            0.002017   \n",
       "5            0.101214            0.102419            0.055997   \n",
       "\n",
       "   mean_train_score  std_train_score  \n",
       "0         -0.053765         0.008136  \n",
       "1         -0.051803         0.008088  \n",
       "2         -0.049265         0.007664  \n",
       "3         -0.032591         0.007132  \n",
       "4         -0.003092         0.007136  \n",
       "5          0.086543         0.021605  "
      ]
     },
     "execution_count": 134,
     "metadata": {},
     "output_type": "execute_result"
    }
   ],
   "source": [
    "print(\"Best parameters: {}\".format(grid_svr_poly.best_params_))\n",
    "print(\"Best cross-validation score: {:.4f}\".format(grid_svr_poly.best_score_))\n",
    "pd.DataFrame(grid_svr_poly.cv_results_)"
   ]
  },
  {
   "cell_type": "code",
   "execution_count": 135,
   "metadata": {},
   "outputs": [
    {
     "data": {
      "text/plain": [
       "SVR(C=100, kernel='poly')"
      ]
     },
     "execution_count": 135,
     "metadata": {},
     "output_type": "execute_result"
    },
    {
     "data": {
      "text/plain": [
       "0.12711181962616502"
      ]
     },
     "execution_count": 135,
     "metadata": {},
     "output_type": "execute_result"
    },
    {
     "data": {
      "text/plain": [
       "0.1226170921085884"
      ]
     },
     "execution_count": 135,
     "metadata": {},
     "output_type": "execute_result"
    }
   ],
   "source": [
    "svr_p = SVR(kernel='poly',C=100,degree = 3)\n",
    "svr_p.fit(X_train_pca, y_train)\n",
    "svr_p.score(X_train_pca, y_train)\n",
    "svrp_test_score = svr_p.score(X_test_pca, y_test)\n",
    "svrp_test_score"
   ]
  },
  {
   "cell_type": "code",
   "execution_count": 136,
   "metadata": {},
   "outputs": [
    {
     "name": "stdout",
     "output_type": "stream",
     "text": [
      "Cross-validation scores:\n",
      "[0.06474523 0.07522798 0.12947435 0.07070195 0.18075962 0.04054971]\n",
      "0.09357647168708433\n"
     ]
    }
   ],
   "source": [
    "from sklearn.model_selection import KFold\n",
    "from sklearn.model_selection import cross_val_score\n",
    "#scores = cross_val_score(logreg, iris.data, iris.target)\n",
    "kfold = KFold(n_splits=6)\n",
    "print(\"Cross-validation scores:\\n{}\".format(cross_val_score(svr_p, X_train_pca, y_train, cv=kfold)))\n",
    "scores = cross_val_score(svr_p, X_train_pca, y_train, cv=kfold)\n",
    "print(np.mean(scores))"
   ]
  },
  {
   "cell_type": "code",
   "execution_count": 137,
   "metadata": {},
   "outputs": [
    {
     "data": {
      "text/html": [
       "<div>\n",
       "<style scoped>\n",
       "    .dataframe tbody tr th:only-of-type {\n",
       "        vertical-align: middle;\n",
       "    }\n",
       "\n",
       "    .dataframe tbody tr th {\n",
       "        vertical-align: top;\n",
       "    }\n",
       "\n",
       "    .dataframe thead th {\n",
       "        text-align: right;\n",
       "    }\n",
       "</style>\n",
       "<table border=\"1\" class=\"dataframe\">\n",
       "  <thead>\n",
       "    <tr style=\"text-align: right;\">\n",
       "      <th></th>\n",
       "      <th>mean_fit_time</th>\n",
       "      <th>std_fit_time</th>\n",
       "      <th>mean_score_time</th>\n",
       "      <th>std_score_time</th>\n",
       "      <th>param_C</th>\n",
       "      <th>param_degree</th>\n",
       "      <th>params</th>\n",
       "      <th>split0_test_score</th>\n",
       "      <th>split1_test_score</th>\n",
       "      <th>split2_test_score</th>\n",
       "      <th>mean_test_score</th>\n",
       "      <th>std_test_score</th>\n",
       "      <th>rank_test_score</th>\n",
       "      <th>split0_train_score</th>\n",
       "      <th>split1_train_score</th>\n",
       "      <th>split2_train_score</th>\n",
       "      <th>mean_train_score</th>\n",
       "      <th>std_train_score</th>\n",
       "    </tr>\n",
       "  </thead>\n",
       "  <tbody>\n",
       "    <tr>\n",
       "      <th>0</th>\n",
       "      <td>0.039642</td>\n",
       "      <td>0.006596</td>\n",
       "      <td>0.008662</td>\n",
       "      <td>2.355110e-03</td>\n",
       "      <td>1</td>\n",
       "      <td>1</td>\n",
       "      <td>{'C': 1, 'degree': 1}</td>\n",
       "      <td>-0.043316</td>\n",
       "      <td>-0.045543</td>\n",
       "      <td>-0.072555</td>\n",
       "      <td>-0.053805</td>\n",
       "      <td>0.013290</td>\n",
       "      <td>6</td>\n",
       "      <td>-0.050506</td>\n",
       "      <td>-0.064951</td>\n",
       "      <td>-0.045839</td>\n",
       "      <td>-0.053765</td>\n",
       "      <td>0.008136</td>\n",
       "    </tr>\n",
       "    <tr>\n",
       "      <th>1</th>\n",
       "      <td>0.043309</td>\n",
       "      <td>0.008725</td>\n",
       "      <td>0.008328</td>\n",
       "      <td>4.685056e-04</td>\n",
       "      <td>1</td>\n",
       "      <td>3</td>\n",
       "      <td>{'C': 1, 'degree': 3}</td>\n",
       "      <td>-0.042235</td>\n",
       "      <td>-0.043375</td>\n",
       "      <td>-0.070912</td>\n",
       "      <td>-0.052174</td>\n",
       "      <td>0.013258</td>\n",
       "      <td>5</td>\n",
       "      <td>-0.048327</td>\n",
       "      <td>-0.062978</td>\n",
       "      <td>-0.044103</td>\n",
       "      <td>-0.051803</td>\n",
       "      <td>0.008088</td>\n",
       "    </tr>\n",
       "    <tr>\n",
       "      <th>2</th>\n",
       "      <td>0.043307</td>\n",
       "      <td>0.007842</td>\n",
       "      <td>0.008330</td>\n",
       "      <td>4.713705e-04</td>\n",
       "      <td>10</td>\n",
       "      <td>1</td>\n",
       "      <td>{'C': 10, 'degree': 1}</td>\n",
       "      <td>-0.038785</td>\n",
       "      <td>-0.040221</td>\n",
       "      <td>-0.068976</td>\n",
       "      <td>-0.049328</td>\n",
       "      <td>0.013906</td>\n",
       "      <td>4</td>\n",
       "      <td>-0.045836</td>\n",
       "      <td>-0.059884</td>\n",
       "      <td>-0.042076</td>\n",
       "      <td>-0.049265</td>\n",
       "      <td>0.007664</td>\n",
       "    </tr>\n",
       "    <tr>\n",
       "      <th>3</th>\n",
       "      <td>0.032981</td>\n",
       "      <td>0.002827</td>\n",
       "      <td>0.008329</td>\n",
       "      <td>4.715952e-04</td>\n",
       "      <td>10</td>\n",
       "      <td>3</td>\n",
       "      <td>{'C': 10, 'degree': 3}</td>\n",
       "      <td>-0.029071</td>\n",
       "      <td>-0.023081</td>\n",
       "      <td>-0.054786</td>\n",
       "      <td>-0.035646</td>\n",
       "      <td>0.013753</td>\n",
       "      <td>3</td>\n",
       "      <td>-0.025736</td>\n",
       "      <td>-0.042426</td>\n",
       "      <td>-0.029611</td>\n",
       "      <td>-0.032591</td>\n",
       "      <td>0.007132</td>\n",
       "    </tr>\n",
       "    <tr>\n",
       "      <th>4</th>\n",
       "      <td>0.033979</td>\n",
       "      <td>0.004963</td>\n",
       "      <td>0.007330</td>\n",
       "      <td>4.718200e-04</td>\n",
       "      <td>100</td>\n",
       "      <td>1</td>\n",
       "      <td>{'C': 100, 'degree': 1}</td>\n",
       "      <td>0.007630</td>\n",
       "      <td>0.008557</td>\n",
       "      <td>-0.025928</td>\n",
       "      <td>-0.003247</td>\n",
       "      <td>0.016042</td>\n",
       "      <td>2</td>\n",
       "      <td>0.001891</td>\n",
       "      <td>-0.013183</td>\n",
       "      <td>0.002017</td>\n",
       "      <td>-0.003092</td>\n",
       "      <td>0.007136</td>\n",
       "    </tr>\n",
       "    <tr>\n",
       "      <th>5</th>\n",
       "      <td>0.031981</td>\n",
       "      <td>0.000817</td>\n",
       "      <td>0.006995</td>\n",
       "      <td>4.052337e-07</td>\n",
       "      <td>100</td>\n",
       "      <td>3</td>\n",
       "      <td>{'C': 100, 'degree': 3}</td>\n",
       "      <td>0.055044</td>\n",
       "      <td>0.105270</td>\n",
       "      <td>0.063127</td>\n",
       "      <td>0.074481</td>\n",
       "      <td>0.022020</td>\n",
       "      <td>1</td>\n",
       "      <td>0.101214</td>\n",
       "      <td>0.102419</td>\n",
       "      <td>0.055997</td>\n",
       "      <td>0.086543</td>\n",
       "      <td>0.021605</td>\n",
       "    </tr>\n",
       "  </tbody>\n",
       "</table>\n",
       "</div>"
      ],
      "text/plain": [
       "   mean_fit_time  std_fit_time  mean_score_time  std_score_time param_C  \\\n",
       "0       0.039642      0.006596         0.008662    2.355110e-03       1   \n",
       "1       0.043309      0.008725         0.008328    4.685056e-04       1   \n",
       "2       0.043307      0.007842         0.008330    4.713705e-04      10   \n",
       "3       0.032981      0.002827         0.008329    4.715952e-04      10   \n",
       "4       0.033979      0.004963         0.007330    4.718200e-04     100   \n",
       "5       0.031981      0.000817         0.006995    4.052337e-07     100   \n",
       "\n",
       "  param_degree                   params  split0_test_score  split1_test_score  \\\n",
       "0            1    {'C': 1, 'degree': 1}          -0.043316          -0.045543   \n",
       "1            3    {'C': 1, 'degree': 3}          -0.042235          -0.043375   \n",
       "2            1   {'C': 10, 'degree': 1}          -0.038785          -0.040221   \n",
       "3            3   {'C': 10, 'degree': 3}          -0.029071          -0.023081   \n",
       "4            1  {'C': 100, 'degree': 1}           0.007630           0.008557   \n",
       "5            3  {'C': 100, 'degree': 3}           0.055044           0.105270   \n",
       "\n",
       "   split2_test_score  mean_test_score  std_test_score  rank_test_score  \\\n",
       "0          -0.072555        -0.053805        0.013290                6   \n",
       "1          -0.070912        -0.052174        0.013258                5   \n",
       "2          -0.068976        -0.049328        0.013906                4   \n",
       "3          -0.054786        -0.035646        0.013753                3   \n",
       "4          -0.025928        -0.003247        0.016042                2   \n",
       "5           0.063127         0.074481        0.022020                1   \n",
       "\n",
       "   split0_train_score  split1_train_score  split2_train_score  \\\n",
       "0           -0.050506           -0.064951           -0.045839   \n",
       "1           -0.048327           -0.062978           -0.044103   \n",
       "2           -0.045836           -0.059884           -0.042076   \n",
       "3           -0.025736           -0.042426           -0.029611   \n",
       "4            0.001891           -0.013183            0.002017   \n",
       "5            0.101214            0.102419            0.055997   \n",
       "\n",
       "   mean_train_score  std_train_score  \n",
       "0         -0.053765         0.008136  \n",
       "1         -0.051803         0.008088  \n",
       "2         -0.049265         0.007664  \n",
       "3         -0.032591         0.007132  \n",
       "4         -0.003092         0.007136  \n",
       "5          0.086543         0.021605  "
      ]
     },
     "execution_count": 137,
     "metadata": {},
     "output_type": "execute_result"
    }
   ],
   "source": [
    "result_svr_poly= pd.DataFrame(grid_svr_poly.cv_results_)\n",
    "result_svr_poly"
   ]
  },
  {
   "cell_type": "code",
   "execution_count": 138,
   "metadata": {},
   "outputs": [
    {
     "data": {
      "text/plain": [
       "[<matplotlib.lines.Line2D at 0x4493568>]"
      ]
     },
     "execution_count": 138,
     "metadata": {},
     "output_type": "execute_result"
    },
    {
     "data": {
      "text/plain": [
       "[<matplotlib.lines.Line2D at 0x4493880>]"
      ]
     },
     "execution_count": 138,
     "metadata": {},
     "output_type": "execute_result"
    },
    {
     "data": {
      "text/plain": [
       "([<matplotlib.axis.XTick at 0x1321cd00>,\n",
       "  <matplotlib.axis.XTick at 0x1321c5e0>,\n",
       "  <matplotlib.axis.XTick at 0x132502f8>,\n",
       "  <matplotlib.axis.XTick at 0x4493c10>,\n",
       "  <matplotlib.axis.XTick at 0x4493e98>,\n",
       "  <matplotlib.axis.XTick at 0x1325b148>],\n",
       " [Text(0, 0, '1'),\n",
       "  Text(0, 0, '1'),\n",
       "  Text(0, 0, '10'),\n",
       "  Text(0, 0, '10'),\n",
       "  Text(0, 0, '100'),\n",
       "  Text(0, 0, '100')])"
      ]
     },
     "execution_count": 138,
     "metadata": {},
     "output_type": "execute_result"
    },
    {
     "data": {
      "text/plain": [
       "[<matplotlib.lines.Line2D at 0x1325b490>]"
      ]
     },
     "execution_count": 138,
     "metadata": {},
     "output_type": "execute_result"
    },
    {
     "data": {
      "text/plain": [
       "[<matplotlib.lines.Line2D at 0x1325b688>]"
      ]
     },
     "execution_count": 138,
     "metadata": {},
     "output_type": "execute_result"
    },
    {
     "data": {
      "text/plain": [
       "<matplotlib.legend.Legend at 0x13156370>"
      ]
     },
     "execution_count": 138,
     "metadata": {},
     "output_type": "execute_result"
    },
    {
     "data": {
      "image/png": "[encoded data removed]",
      "text/plain": [
       "<Figure size 432x288 with 1 Axes>"
      ]
     },
     "metadata": {
      "needs_background": "light"
     },
     "output_type": "display_data"
    }
   ],
   "source": [
    "plt.plot(range(result_svr_poly.shape[0]), result_svr_poly['mean_train_score'], label = 'mean train score')\n",
    "plt.plot(range(result_svr_poly.shape[0]), result_svr_poly['mean_test_score'], label = 'mean test score')\n",
    "plt.xticks(range(result_svr_poly.shape[0]), result_svr_poly['param_C'], rotation = 90)\n",
    "plt.plot([grid_svr_poly.best_index_], result_svr_poly['mean_train_score'][grid_svr_poly.best_index_], 'o', markersize = 10, fillstyle = \"none\")\n",
    "plt.plot([grid_svr_poly.best_index_], result_svr_poly['mean_test_score'][grid_svr_poly.best_index_], 'o', markersize = 10, fillstyle = \"none\")\n",
    "plt.grid()\n",
    "plt.legend()"
   ]
  },
  {
   "cell_type": "markdown",
   "metadata": {},
   "source": [
    "##### <font color='red'>SVR with Kernel as 'Poly' Result:\n",
    "Best parameters: {'C': 100, 'degree': 3}\n",
    "\n",
    "Average Cross validation score: 0.2491\n",
    "\n",
    "Test score: 0.2900"
   ]
  },
  {
   "cell_type": "markdown",
   "metadata": {},
   "source": [
    "## SVR with kernel 'rbf'"
   ]
  },
  {
   "cell_type": "code",
   "execution_count": 139,
   "metadata": {},
   "outputs": [],
   "source": [
    "grid_parms_rbf = {'C': [0.1, 1, 10, 100],'gamma':[0.1, 1, 10, 100]}"
   ]
  },
  {
   "cell_type": "code",
   "execution_count": 140,
   "metadata": {},
   "outputs": [],
   "source": [
    "svr_rbf = SVR(kernel='rbf')\n",
    "grid_svr_rbf = GridSearchCV(estimator = svr_rbf,param_grid = grid_parms_rbf,return_train_score=True,n_jobs= -1,cv=3)"
   ]
  },
  {
   "cell_type": "code",
   "execution_count": 141,
   "metadata": {},
   "outputs": [
    {
     "data": {
      "text/plain": [
       "GridSearchCV(cv=3, estimator=SVR(), n_jobs=-1,\n",
       "             param_grid={'C': [0.1, 1, 10, 100], 'gamma': [0.1, 1, 10, 100]},\n",
       "             return_train_score=True)"
      ]
     },
     "execution_count": 141,
     "metadata": {},
     "output_type": "execute_result"
    }
   ],
   "source": [
    "grid_svr_rbf.fit(X_train_pca,y_train)"
   ]
  },
  {
   "cell_type": "code",
   "execution_count": 142,
   "metadata": {},
   "outputs": [
    {
     "name": "stdout",
     "output_type": "stream",
     "text": [
      "Best parameters: {'C': 100, 'gamma': 0.1}\n",
      "Best cross-validation score: -0.0421\n"
     ]
    }
   ],
   "source": [
    "print(\"Best parameters: {}\".format(grid_svr_rbf.best_params_))\n",
    "print(\"Best cross-validation score: {:.4f}\".format(grid_svr_rbf.best_score_))"
   ]
  },
  {
   "cell_type": "code",
   "execution_count": 143,
   "metadata": {},
   "outputs": [
    {
     "data": {
      "text/plain": [
       "SVR(C=100, gamma=0.1)"
      ]
     },
     "execution_count": 143,
     "metadata": {},
     "output_type": "execute_result"
    },
    {
     "data": {
      "text/plain": [
       "-0.03690401593219206"
      ]
     },
     "execution_count": 143,
     "metadata": {},
     "output_type": "execute_result"
    },
    {
     "data": {
      "text/plain": [
       "-0.0493671575314254"
      ]
     },
     "execution_count": 143,
     "metadata": {},
     "output_type": "execute_result"
    }
   ],
   "source": [
    "svr_rbf = SVR(kernel='rbf',C=100,gamma=0.1)\n",
    "svr_rbf.fit(X_train_pca, y_train)\n",
    "svr_rbf.score(X_train_pca, y_train)\n",
    "svr_rbf_test_score = svr_rbf.score(X_test_pca, y_test)\n",
    "svr_rbf_test_score"
   ]
  },
  {
   "cell_type": "code",
   "execution_count": 144,
   "metadata": {},
   "outputs": [
    {
     "name": "stdout",
     "output_type": "stream",
     "text": [
      "Cross-validation scores:\n",
      "[-0.07443357  0.00324388 -0.04008967 -0.01236599 -0.02482984 -0.09094385]\n",
      "-0.03990317396015094\n"
     ]
    }
   ],
   "source": [
    "from sklearn.model_selection import KFold\n",
    "from sklearn.model_selection import cross_val_score\n",
    "kfold = KFold(n_splits=6)\n",
    "print(\"Cross-validation scores:\\n{}\".format(cross_val_score(svr_rbf, X_train_pca, y_train, cv=kfold)))\n",
    "scores = cross_val_score(svr_rbf, X_train_pca, y_train, cv=kfold)\n",
    "print(np.mean(scores))"
   ]
  },
  {
   "cell_type": "code",
   "execution_count": 145,
   "metadata": {},
   "outputs": [
    {
     "data": {
      "text/html": [
       "<div>\n",
       "<style scoped>\n",
       "    .dataframe tbody tr th:only-of-type {\n",
       "        vertical-align: middle;\n",
       "    }\n",
       "\n",
       "    .dataframe tbody tr th {\n",
       "        vertical-align: top;\n",
       "    }\n",
       "\n",
       "    .dataframe thead th {\n",
       "        text-align: right;\n",
       "    }\n",
       "</style>\n",
       "<table border=\"1\" class=\"dataframe\">\n",
       "  <thead>\n",
       "    <tr style=\"text-align: right;\">\n",
       "      <th></th>\n",
       "      <th>mean_fit_time</th>\n",
       "      <th>std_fit_time</th>\n",
       "      <th>mean_score_time</th>\n",
       "      <th>std_score_time</th>\n",
       "      <th>param_C</th>\n",
       "      <th>param_gamma</th>\n",
       "      <th>params</th>\n",
       "      <th>split0_test_score</th>\n",
       "      <th>split1_test_score</th>\n",
       "      <th>split2_test_score</th>\n",
       "      <th>mean_test_score</th>\n",
       "      <th>std_test_score</th>\n",
       "      <th>rank_test_score</th>\n",
       "      <th>split0_train_score</th>\n",
       "      <th>split1_train_score</th>\n",
       "      <th>split2_train_score</th>\n",
       "      <th>mean_train_score</th>\n",
       "      <th>std_train_score</th>\n",
       "    </tr>\n",
       "  </thead>\n",
       "  <tbody>\n",
       "    <tr>\n",
       "      <th>0</th>\n",
       "      <td>0.043308</td>\n",
       "      <td>5.433964e-03</td>\n",
       "      <td>0.011327</td>\n",
       "      <td>4.712583e-04</td>\n",
       "      <td>0.1</td>\n",
       "      <td>0.1</td>\n",
       "      <td>{'C': 0.1, 'gamma': 0.1}</td>\n",
       "      <td>-0.043809</td>\n",
       "      <td>-0.046133</td>\n",
       "      <td>-0.072939</td>\n",
       "      <td>-0.054294</td>\n",
       "      <td>0.013218</td>\n",
       "      <td>6</td>\n",
       "      <td>-0.051015</td>\n",
       "      <td>-0.065514</td>\n",
       "      <td>-0.046242</td>\n",
       "      <td>-0.054257</td>\n",
       "      <td>0.008195</td>\n",
       "    </tr>\n",
       "    <tr>\n",
       "      <th>1</th>\n",
       "      <td>0.054300</td>\n",
       "      <td>4.495025e-03</td>\n",
       "      <td>0.012660</td>\n",
       "      <td>9.416170e-04</td>\n",
       "      <td>0.1</td>\n",
       "      <td>1</td>\n",
       "      <td>{'C': 0.1, 'gamma': 1}</td>\n",
       "      <td>-0.043820</td>\n",
       "      <td>-0.046148</td>\n",
       "      <td>-0.072943</td>\n",
       "      <td>-0.054304</td>\n",
       "      <td>0.013214</td>\n",
       "      <td>8</td>\n",
       "      <td>-0.051025</td>\n",
       "      <td>-0.065527</td>\n",
       "      <td>-0.046248</td>\n",
       "      <td>-0.054267</td>\n",
       "      <td>0.008198</td>\n",
       "    </tr>\n",
       "    <tr>\n",
       "      <th>2</th>\n",
       "      <td>0.112601</td>\n",
       "      <td>4.918506e-03</td>\n",
       "      <td>0.013325</td>\n",
       "      <td>4.714266e-04</td>\n",
       "      <td>0.1</td>\n",
       "      <td>10</td>\n",
       "      <td>{'C': 0.1, 'gamma': 10}</td>\n",
       "      <td>-0.043821</td>\n",
       "      <td>-0.046150</td>\n",
       "      <td>-0.072944</td>\n",
       "      <td>-0.054305</td>\n",
       "      <td>0.013214</td>\n",
       "      <td>9</td>\n",
       "      <td>-0.051026</td>\n",
       "      <td>-0.065529</td>\n",
       "      <td>-0.046249</td>\n",
       "      <td>-0.054268</td>\n",
       "      <td>0.008198</td>\n",
       "    </tr>\n",
       "    <tr>\n",
       "      <th>3</th>\n",
       "      <td>0.076289</td>\n",
       "      <td>1.246789e-03</td>\n",
       "      <td>0.026984</td>\n",
       "      <td>8.158534e-04</td>\n",
       "      <td>0.1</td>\n",
       "      <td>100</td>\n",
       "      <td>{'C': 0.1, 'gamma': 100}</td>\n",
       "      <td>-0.043821</td>\n",
       "      <td>-0.046150</td>\n",
       "      <td>-0.072944</td>\n",
       "      <td>-0.054305</td>\n",
       "      <td>0.013214</td>\n",
       "      <td>11</td>\n",
       "      <td>-0.051026</td>\n",
       "      <td>-0.065529</td>\n",
       "      <td>-0.046249</td>\n",
       "      <td>-0.054268</td>\n",
       "      <td>0.008198</td>\n",
       "    </tr>\n",
       "    <tr>\n",
       "      <th>4</th>\n",
       "      <td>0.036645</td>\n",
       "      <td>9.422350e-04</td>\n",
       "      <td>0.011327</td>\n",
       "      <td>4.714266e-04</td>\n",
       "      <td>1</td>\n",
       "      <td>0.1</td>\n",
       "      <td>{'C': 1, 'gamma': 0.1}</td>\n",
       "      <td>-0.043697</td>\n",
       "      <td>-0.045986</td>\n",
       "      <td>-0.072895</td>\n",
       "      <td>-0.054193</td>\n",
       "      <td>0.013258</td>\n",
       "      <td>4</td>\n",
       "      <td>-0.050916</td>\n",
       "      <td>-0.065375</td>\n",
       "      <td>-0.046173</td>\n",
       "      <td>-0.054155</td>\n",
       "      <td>0.008167</td>\n",
       "    </tr>\n",
       "    <tr>\n",
       "      <th>5</th>\n",
       "      <td>0.040643</td>\n",
       "      <td>1.246279e-03</td>\n",
       "      <td>0.011327</td>\n",
       "      <td>4.711456e-04</td>\n",
       "      <td>1</td>\n",
       "      <td>1</td>\n",
       "      <td>{'C': 1, 'gamma': 1}</td>\n",
       "      <td>-0.043812</td>\n",
       "      <td>-0.046132</td>\n",
       "      <td>-0.072939</td>\n",
       "      <td>-0.054294</td>\n",
       "      <td>0.013218</td>\n",
       "      <td>7</td>\n",
       "      <td>-0.051015</td>\n",
       "      <td>-0.065509</td>\n",
       "      <td>-0.046238</td>\n",
       "      <td>-0.054254</td>\n",
       "      <td>0.008194</td>\n",
       "    </tr>\n",
       "    <tr>\n",
       "      <th>6</th>\n",
       "      <td>0.105605</td>\n",
       "      <td>4.494572e-03</td>\n",
       "      <td>0.013326</td>\n",
       "      <td>4.712580e-04</td>\n",
       "      <td>1</td>\n",
       "      <td>10</td>\n",
       "      <td>{'C': 1, 'gamma': 10}</td>\n",
       "      <td>-0.043821</td>\n",
       "      <td>-0.046149</td>\n",
       "      <td>-0.072945</td>\n",
       "      <td>-0.054305</td>\n",
       "      <td>0.013215</td>\n",
       "      <td>10</td>\n",
       "      <td>-0.051023</td>\n",
       "      <td>-0.065526</td>\n",
       "      <td>-0.046246</td>\n",
       "      <td>-0.054265</td>\n",
       "      <td>0.008198</td>\n",
       "    </tr>\n",
       "    <tr>\n",
       "      <th>7</th>\n",
       "      <td>0.078288</td>\n",
       "      <td>2.053547e-03</td>\n",
       "      <td>0.026984</td>\n",
       "      <td>1.123916e-07</td>\n",
       "      <td>1</td>\n",
       "      <td>100</td>\n",
       "      <td>{'C': 1, 'gamma': 100}</td>\n",
       "      <td>-0.043821</td>\n",
       "      <td>-0.046150</td>\n",
       "      <td>-0.072945</td>\n",
       "      <td>-0.054305</td>\n",
       "      <td>0.013214</td>\n",
       "      <td>13</td>\n",
       "      <td>-0.051023</td>\n",
       "      <td>-0.065526</td>\n",
       "      <td>-0.046247</td>\n",
       "      <td>-0.054265</td>\n",
       "      <td>0.008198</td>\n",
       "    </tr>\n",
       "    <tr>\n",
       "      <th>8</th>\n",
       "      <td>0.035646</td>\n",
       "      <td>4.711456e-04</td>\n",
       "      <td>0.011660</td>\n",
       "      <td>4.714828e-04</td>\n",
       "      <td>10</td>\n",
       "      <td>0.1</td>\n",
       "      <td>{'C': 10, 'gamma': 0.1}</td>\n",
       "      <td>-0.042583</td>\n",
       "      <td>-0.044518</td>\n",
       "      <td>-0.072460</td>\n",
       "      <td>-0.053187</td>\n",
       "      <td>0.013651</td>\n",
       "      <td>2</td>\n",
       "      <td>-0.049922</td>\n",
       "      <td>-0.063990</td>\n",
       "      <td>-0.045489</td>\n",
       "      <td>-0.053134</td>\n",
       "      <td>0.007887</td>\n",
       "    </tr>\n",
       "    <tr>\n",
       "      <th>9</th>\n",
       "      <td>0.041643</td>\n",
       "      <td>2.355840e-03</td>\n",
       "      <td>0.010993</td>\n",
       "      <td>3.893359e-07</td>\n",
       "      <td>10</td>\n",
       "      <td>1</td>\n",
       "      <td>{'C': 10, 'gamma': 1}</td>\n",
       "      <td>-0.043728</td>\n",
       "      <td>-0.045970</td>\n",
       "      <td>-0.072899</td>\n",
       "      <td>-0.054199</td>\n",
       "      <td>0.013254</td>\n",
       "      <td>5</td>\n",
       "      <td>-0.050917</td>\n",
       "      <td>-0.065330</td>\n",
       "      <td>-0.046138</td>\n",
       "      <td>-0.054128</td>\n",
       "      <td>0.008158</td>\n",
       "    </tr>\n",
       "    <tr>\n",
       "      <th>10</th>\n",
       "      <td>0.104939</td>\n",
       "      <td>2.159686e-03</td>\n",
       "      <td>0.013659</td>\n",
       "      <td>4.710894e-04</td>\n",
       "      <td>10</td>\n",
       "      <td>10</td>\n",
       "      <td>{'C': 10, 'gamma': 10}</td>\n",
       "      <td>-0.043819</td>\n",
       "      <td>-0.046144</td>\n",
       "      <td>-0.072952</td>\n",
       "      <td>-0.054305</td>\n",
       "      <td>0.013219</td>\n",
       "      <td>12</td>\n",
       "      <td>-0.050992</td>\n",
       "      <td>-0.065493</td>\n",
       "      <td>-0.046218</td>\n",
       "      <td>-0.054234</td>\n",
       "      <td>0.008196</td>\n",
       "    </tr>\n",
       "    <tr>\n",
       "      <th>11</th>\n",
       "      <td>0.076289</td>\n",
       "      <td>2.865977e-03</td>\n",
       "      <td>0.027651</td>\n",
       "      <td>4.713142e-04</td>\n",
       "      <td>10</td>\n",
       "      <td>100</td>\n",
       "      <td>{'C': 10, 'gamma': 100}</td>\n",
       "      <td>-0.043823</td>\n",
       "      <td>-0.046150</td>\n",
       "      <td>-0.072953</td>\n",
       "      <td>-0.054309</td>\n",
       "      <td>0.013218</td>\n",
       "      <td>15</td>\n",
       "      <td>-0.050995</td>\n",
       "      <td>-0.065497</td>\n",
       "      <td>-0.046221</td>\n",
       "      <td>-0.054238</td>\n",
       "      <td>0.008196</td>\n",
       "    </tr>\n",
       "    <tr>\n",
       "      <th>12</th>\n",
       "      <td>0.034979</td>\n",
       "      <td>5.947204e-07</td>\n",
       "      <td>0.011660</td>\n",
       "      <td>4.710894e-04</td>\n",
       "      <td>100</td>\n",
       "      <td>0.1</td>\n",
       "      <td>{'C': 100, 'gamma': 0.1}</td>\n",
       "      <td>-0.030820</td>\n",
       "      <td>-0.032101</td>\n",
       "      <td>-0.063418</td>\n",
       "      <td>-0.042113</td>\n",
       "      <td>0.015074</td>\n",
       "      <td>1</td>\n",
       "      <td>-0.039349</td>\n",
       "      <td>-0.052458</td>\n",
       "      <td>-0.034237</td>\n",
       "      <td>-0.042015</td>\n",
       "      <td>0.007674</td>\n",
       "    </tr>\n",
       "    <tr>\n",
       "      <th>13</th>\n",
       "      <td>0.042976</td>\n",
       "      <td>2.448826e-03</td>\n",
       "      <td>0.011327</td>\n",
       "      <td>4.725510e-04</td>\n",
       "      <td>100</td>\n",
       "      <td>1</td>\n",
       "      <td>{'C': 100, 'gamma': 1}</td>\n",
       "      <td>-0.042898</td>\n",
       "      <td>-0.044571</td>\n",
       "      <td>-0.072495</td>\n",
       "      <td>-0.053322</td>\n",
       "      <td>0.013575</td>\n",
       "      <td>3</td>\n",
       "      <td>-0.049938</td>\n",
       "      <td>-0.063768</td>\n",
       "      <td>-0.045136</td>\n",
       "      <td>-0.052948</td>\n",
       "      <td>0.007899</td>\n",
       "    </tr>\n",
       "    <tr>\n",
       "      <th>14</th>\n",
       "      <td>0.098277</td>\n",
       "      <td>1.172133e-02</td>\n",
       "      <td>0.013658</td>\n",
       "      <td>4.717082e-04</td>\n",
       "      <td>100</td>\n",
       "      <td>10</td>\n",
       "      <td>{'C': 100, 'gamma': 10}</td>\n",
       "      <td>-0.043797</td>\n",
       "      <td>-0.046097</td>\n",
       "      <td>-0.073023</td>\n",
       "      <td>-0.054306</td>\n",
       "      <td>0.013269</td>\n",
       "      <td>14</td>\n",
       "      <td>-0.050679</td>\n",
       "      <td>-0.065163</td>\n",
       "      <td>-0.045935</td>\n",
       "      <td>-0.053926</td>\n",
       "      <td>0.008178</td>\n",
       "    </tr>\n",
       "    <tr>\n",
       "      <th>15</th>\n",
       "      <td>0.072291</td>\n",
       "      <td>2.492707e-03</td>\n",
       "      <td>0.021321</td>\n",
       "      <td>3.397588e-03</td>\n",
       "      <td>100</td>\n",
       "      <td>100</td>\n",
       "      <td>{'C': 100, 'gamma': 100}</td>\n",
       "      <td>-0.043844</td>\n",
       "      <td>-0.046149</td>\n",
       "      <td>-0.073040</td>\n",
       "      <td>-0.054344</td>\n",
       "      <td>0.013253</td>\n",
       "      <td>16</td>\n",
       "      <td>-0.050715</td>\n",
       "      <td>-0.065201</td>\n",
       "      <td>-0.045967</td>\n",
       "      <td>-0.053961</td>\n",
       "      <td>0.008181</td>\n",
       "    </tr>\n",
       "  </tbody>\n",
       "</table>\n",
       "</div>"
      ],
      "text/plain": [
       "    mean_fit_time  std_fit_time  mean_score_time  std_score_time param_C  \\\n",
       "0        0.043308  5.433964e-03         0.011327    4.712583e-04     0.1   \n",
       "1        0.054300  4.495025e-03         0.012660    9.416170e-04     0.1   \n",
       "2        0.112601  4.918506e-03         0.013325    4.714266e-04     0.1   \n",
       "3        0.076289  1.246789e-03         0.026984    8.158534e-04     0.1   \n",
       "4        0.036645  9.422350e-04         0.011327    4.714266e-04       1   \n",
       "5        0.040643  1.246279e-03         0.011327    4.711456e-04       1   \n",
       "6        0.105605  4.494572e-03         0.013326    4.712580e-04       1   \n",
       "7        0.078288  2.053547e-03         0.026984    1.123916e-07       1   \n",
       "8        0.035646  4.711456e-04         0.011660    4.714828e-04      10   \n",
       "9        0.041643  2.355840e-03         0.010993    3.893359e-07      10   \n",
       "10       0.104939  2.159686e-03         0.013659    4.710894e-04      10   \n",
       "11       0.076289  2.865977e-03         0.027651    4.713142e-04      10   \n",
       "12       0.034979  5.947204e-07         0.011660    4.710894e-04     100   \n",
       "13       0.042976  2.448826e-03         0.011327    4.725510e-04     100   \n",
       "14       0.098277  1.172133e-02         0.013658    4.717082e-04     100   \n",
       "15       0.072291  2.492707e-03         0.021321    3.397588e-03     100   \n",
       "\n",
       "   param_gamma                    params  split0_test_score  \\\n",
       "0          0.1  {'C': 0.1, 'gamma': 0.1}          -0.043809   \n",
       "1            1    {'C': 0.1, 'gamma': 1}          -0.043820   \n",
       "2           10   {'C': 0.1, 'gamma': 10}          -0.043821   \n",
       "3          100  {'C': 0.1, 'gamma': 100}          -0.043821   \n",
       "4          0.1    {'C': 1, 'gamma': 0.1}          -0.043697   \n",
       "5            1      {'C': 1, 'gamma': 1}          -0.043812   \n",
       "6           10     {'C': 1, 'gamma': 10}          -0.043821   \n",
       "7          100    {'C': 1, 'gamma': 100}          -0.043821   \n",
       "8          0.1   {'C': 10, 'gamma': 0.1}          -0.042583   \n",
       "9            1     {'C': 10, 'gamma': 1}          -0.043728   \n",
       "10          10    {'C': 10, 'gamma': 10}          -0.043819   \n",
       "11         100   {'C': 10, 'gamma': 100}          -0.043823   \n",
       "12         0.1  {'C': 100, 'gamma': 0.1}          -0.030820   \n",
       "13           1    {'C': 100, 'gamma': 1}          -0.042898   \n",
       "14          10   {'C': 100, 'gamma': 10}          -0.043797   \n",
       "15         100  {'C': 100, 'gamma': 100}          -0.043844   \n",
       "\n",
       "    split1_test_score  split2_test_score  mean_test_score  std_test_score  \\\n",
       "0           -0.046133          -0.072939        -0.054294        0.013218   \n",
       "1           -0.046148          -0.072943        -0.054304        0.013214   \n",
       "2           -0.046150          -0.072944        -0.054305        0.013214   \n",
       "3           -0.046150          -0.072944        -0.054305        0.013214   \n",
       "4           -0.045986          -0.072895        -0.054193        0.013258   \n",
       "5           -0.046132          -0.072939        -0.054294        0.013218   \n",
       "6           -0.046149          -0.072945        -0.054305        0.013215   \n",
       "7           -0.046150          -0.072945        -0.054305        0.013214   \n",
       "8           -0.044518          -0.072460        -0.053187        0.013651   \n",
       "9           -0.045970          -0.072899        -0.054199        0.013254   \n",
       "10          -0.046144          -0.072952        -0.054305        0.013219   \n",
       "11          -0.046150          -0.072953        -0.054309        0.013218   \n",
       "12          -0.032101          -0.063418        -0.042113        0.015074   \n",
       "13          -0.044571          -0.072495        -0.053322        0.013575   \n",
       "14          -0.046097          -0.073023        -0.054306        0.013269   \n",
       "15          -0.046149          -0.073040        -0.054344        0.013253   \n",
       "\n",
       "    rank_test_score  split0_train_score  split1_train_score  \\\n",
       "0                 6           -0.051015           -0.065514   \n",
       "1                 8           -0.051025           -0.065527   \n",
       "2                 9           -0.051026           -0.065529   \n",
       "3                11           -0.051026           -0.065529   \n",
       "4                 4           -0.050916           -0.065375   \n",
       "5                 7           -0.051015           -0.065509   \n",
       "6                10           -0.051023           -0.065526   \n",
       "7                13           -0.051023           -0.065526   \n",
       "8                 2           -0.049922           -0.063990   \n",
       "9                 5           -0.050917           -0.065330   \n",
       "10               12           -0.050992           -0.065493   \n",
       "11               15           -0.050995           -0.065497   \n",
       "12                1           -0.039349           -0.052458   \n",
       "13                3           -0.049938           -0.063768   \n",
       "14               14           -0.050679           -0.065163   \n",
       "15               16           -0.050715           -0.065201   \n",
       "\n",
       "    split2_train_score  mean_train_score  std_train_score  \n",
       "0            -0.046242         -0.054257         0.008195  \n",
       "1            -0.046248         -0.054267         0.008198  \n",
       "2            -0.046249         -0.054268         0.008198  \n",
       "3            -0.046249         -0.054268         0.008198  \n",
       "4            -0.046173         -0.054155         0.008167  \n",
       "5            -0.046238         -0.054254         0.008194  \n",
       "6            -0.046246         -0.054265         0.008198  \n",
       "7            -0.046247         -0.054265         0.008198  \n",
       "8            -0.045489         -0.053134         0.007887  \n",
       "9            -0.046138         -0.054128         0.008158  \n",
       "10           -0.046218         -0.054234         0.008196  \n",
       "11           -0.046221         -0.054238         0.008196  \n",
       "12           -0.034237         -0.042015         0.007674  \n",
       "13           -0.045136         -0.052948         0.007899  \n",
       "14           -0.045935         -0.053926         0.008178  \n",
       "15           -0.045967         -0.053961         0.008181  "
      ]
     },
     "execution_count": 145,
     "metadata": {},
     "output_type": "execute_result"
    }
   ],
   "source": [
    "result_rbf = pd.DataFrame(grid_svr_rbf.cv_results_)\n",
    "result_rbf"
   ]
  },
  {
   "cell_type": "code",
   "execution_count": 146,
   "metadata": {},
   "outputs": [
    {
     "data": {
      "text/plain": [
       "[<matplotlib.lines.Line2D at 0x44b4b08>]"
      ]
     },
     "execution_count": 146,
     "metadata": {},
     "output_type": "execute_result"
    },
    {
     "data": {
      "text/plain": [
       "[<matplotlib.lines.Line2D at 0x44b4da8>]"
      ]
     },
     "execution_count": 146,
     "metadata": {},
     "output_type": "execute_result"
    },
    {
     "data": {
      "text/plain": [
       "([<matplotlib.axis.XTick at 0x44ae178>,\n",
       "  <matplotlib.axis.XTick at 0x44ae160>,\n",
       "  <matplotlib.axis.XTick at 0x449e448>,\n",
       "  <matplotlib.axis.XTick at 0x44bf0a0>,\n",
       "  <matplotlib.axis.XTick at 0x44bf328>,\n",
       "  <matplotlib.axis.XTick at 0x44bf5b0>],\n",
       " [Text(0, 0, '0.1'),\n",
       "  Text(0, 0, '0.1'),\n",
       "  Text(0, 0, '0.1'),\n",
       "  Text(0, 0, '0.1'),\n",
       "  Text(0, 0, '1'),\n",
       "  Text(0, 0, '1')])"
      ]
     },
     "execution_count": 146,
     "metadata": {},
     "output_type": "execute_result"
    },
    {
     "data": {
      "text/plain": [
       "[<matplotlib.lines.Line2D at 0x44bfa18>]"
      ]
     },
     "execution_count": 146,
     "metadata": {},
     "output_type": "execute_result"
    },
    {
     "data": {
      "text/plain": [
       "[<matplotlib.lines.Line2D at 0x44bfbe0>]"
      ]
     },
     "execution_count": 146,
     "metadata": {},
     "output_type": "execute_result"
    },
    {
     "data": {
      "text/plain": [
       "<matplotlib.legend.Legend at 0x44b4ef8>"
      ]
     },
     "execution_count": 146,
     "metadata": {},
     "output_type": "execute_result"
    },
    {
     "data": {
      "image/png": "[encoded data removed]",
      "text/plain": [
       "<Figure size 432x288 with 1 Axes>"
      ]
     },
     "metadata": {
      "needs_background": "light"
     },
     "output_type": "display_data"
    }
   ],
   "source": [
    "plt.plot(range(result_rbf.shape[0]), result_rbf['mean_train_score'], label = 'mean train score')\n",
    "plt.plot(range(result_rbf.shape[0]), result_rbf['mean_test_score'], label = 'mean test score')\n",
    "plt.xticks(range(result_svr_poly.shape[0]), result_rbf['param_C'], rotation = 90)\n",
    "plt.plot([grid_svr_rbf.best_index_], result_rbf['mean_train_score'][grid_svr_rbf.best_index_], 'o', markersize = 10, fillstyle = \"none\")\n",
    "plt.plot([grid_svr_rbf.best_index_], result_rbf['mean_test_score'][grid_svr_rbf.best_index_], 'o', markersize = 10, fillstyle = \"none\")\n",
    "plt.grid()\n",
    "plt.legend()"
   ]
  },
  {
   "cell_type": "markdown",
   "metadata": {},
   "source": [
    "##### <font color='red'>SVR with Kernel as 'rbf' Result:\n",
    "Best parameters: {'C': 100, 'gamma': 0.1}\n",
    "\n",
    "Average Cross validation score: -0.0372\n",
    "\n",
    "Test score: -0.0345"
   ]
  },
  {
   "cell_type": "markdown",
   "metadata": {},
   "source": [
    "## Decision Tree\n"
   ]
  },
  {
   "cell_type": "code",
   "execution_count": 147,
   "metadata": {},
   "outputs": [],
   "source": [
    "from sklearn.tree import DecisionTreeRegressor\n",
    "\n",
    "dtree_clf = DecisionTreeRegressor(random_state=0)\n",
    "parameters = { 'max_depth' : [1,2,3,4,5,6,7,8,9,10]}"
   ]
  },
  {
   "cell_type": "code",
   "execution_count": 148,
   "metadata": {},
   "outputs": [
    {
     "data": {
      "text/plain": [
       "GridSearchCV(cv=6, estimator=DecisionTreeRegressor(random_state=0),\n",
       "             param_grid={'max_depth': [1, 2, 3, 4, 5, 6, 7, 8, 9, 10]})"
      ]
     },
     "execution_count": 148,
     "metadata": {},
     "output_type": "execute_result"
    }
   ],
   "source": [
    "grid_search = GridSearchCV(dtree_clf,parameters, cv=6 )\n",
    "grid_search.fit(X_train_pca, y_train)"
   ]
  },
  {
   "cell_type": "code",
   "execution_count": 149,
   "metadata": {},
   "outputs": [
    {
     "name": "stdout",
     "output_type": "stream",
     "text": [
      "Best parameters: {'max_depth': 6}\n",
      "Best cross-validation score: 0.48\n"
     ]
    }
   ],
   "source": [
    "print(\"Best parameters: {}\".format(grid_search.best_params_))\n",
    "print(\"Best cross-validation score: {:.2f}\".format(grid_search.best_score_))"
   ]
  },
  {
   "cell_type": "code",
   "execution_count": 150,
   "metadata": {},
   "outputs": [
    {
     "data": {
      "text/plain": [
       "DecisionTreeRegressor(max_depth=6, random_state=0)"
      ]
     },
     "execution_count": 150,
     "metadata": {},
     "output_type": "execute_result"
    },
    {
     "name": "stdout",
     "output_type": "stream",
     "text": [
      "Accuracy on training set: 0.848\n",
      "Accuracy on test set: 0.592\n"
     ]
    }
   ],
   "source": [
    "dtree = DecisionTreeRegressor(max_depth=6, random_state=0)\n",
    "dtree.fit(X_train_pca, y_train)\n",
    "\n",
    "print(\"Accuracy on training set: {:.3f}\".format(dtree.score(X_train_pca, y_train)))\n",
    "print(\"Accuracy on test set: {:.3f}\".format(dtree.score(X_test_pca, y_test)))"
   ]
  },
  {
   "cell_type": "code",
   "execution_count": null,
   "metadata": {},
   "outputs": [],
   "source": []
  },
  {
   "cell_type": "markdown",
   "metadata": {},
   "source": [
    "## <font color='blue'> Scores With PCA & without PCA"
   ]
  },
  {
   "cell_type": "raw",
   "metadata": {},
   "source": [
    "The Scores\n",
    "Model                   Train  Test        Train after PCA    Test after PCA\n",
    "K Neighbour           0.7488    0.6423      0.7476              0.6412\n",
    "Linear regression     0.6224    0.6232      0.6166              0.6257\n",
    "Linear SVC            0.2636    0.2926      0.2590              0.2882\n",
    "SVC Kernel linear     0.3705    0.3483      0.3701              0.3488\n",
    "SVC RBF               0.0374    0.0499      0.0975              0.1318\n",
    "SVC Poly              0.1170    0.1101      0.1271              0.1226\n",
    "Decision Tree         0.7770    0.6270      0.8480              0.5920\n",
    "Polynomial Regression 0.6224    0.6232      0.6166              0.6257\n",
    "Ridge                 0.6221    0.6191      0.6154              0.6189\n",
    "Lasso                 0.6224    0.6224      0.6166              0.6255"
   ]
  },
  {
   "cell_type": "markdown",
   "metadata": {},
   "source": [
    "###### After applying PCA, it helped the model to run quicker and obtain the result. When comparing the result, it is almost the same for the models when ran without applying PCA. But, the model without PCA has a slightly better scores compared than the scores with PCA."
   ]
  },
  {
   "cell_type": "markdown",
   "metadata": {},
   "source": [
    "## <font color='blue'> Deep Learning Model"
   ]
  },
  {
   "cell_type": "markdown",
   "metadata": {},
   "source": [
    "## Grid search to find best parameters"
   ]
  },
  {
   "cell_type": "code",
   "execution_count": 55,
   "metadata": {},
   "outputs": [],
   "source": [
    "from keras.models import Sequential\n",
    "from keras.layers import Dense\n",
    "\n",
    "# fix random seed for reproducibility\n",
    "np.random.seed(10)"
   ]
  },
  {
   "cell_type": "code",
   "execution_count": 56,
   "metadata": {},
   "outputs": [],
   "source": [
    "# create model\n",
    "def create_model():\n",
    "\n",
    "    model = Sequential()\n",
    "    model.add(Dense(14, input_dim=14, kernel_initializer='normal', activation='relu'))\n",
    "    model.add(Dense(8, activation='relu')) #hidden layer\n",
    "    model.add(Dense(1, kernel_initializer='normal'))\n",
    "    #model.add(Dense(1, activation='sigmoid')) #output layer\n",
    "    model.compile(loss='mse', optimizer='adam' , metrics = ['mse'])\n",
    "    return model"
   ]
  },
  {
   "cell_type": "code",
   "execution_count": 57,
   "metadata": {},
   "outputs": [],
   "source": [
    "from sklearn.model_selection import GridSearchCV\n",
    "model = create_model"
   ]
  },
  {
   "cell_type": "code",
   "execution_count": 59,
   "metadata": {},
   "outputs": [],
   "source": [
    "from keras import backend as K\n",
    "X_train1 = K.cast_to_floatx(X_train_org)\n",
    "y_train1 = K.cast_to_floatx(y_train)"
   ]
  },
  {
   "cell_type": "code",
   "execution_count": 60,
   "metadata": {},
   "outputs": [
    {
     "data": {
      "text/plain": [
       "GridSearchCV(cv=5, error_score='raise-deprecating',\n",
       "             estimator=<tensorflow.python.keras.wrappers.scikit_learn.KerasRegressor object at 0x0000024F8463B708>,\n",
       "             iid='warn', n_jobs=None,\n",
       "             param_grid={'batch_size': [10, 20, 30, 40],\n",
       "                         'epochs': [10, 50, 100, 150]},\n",
       "             pre_dispatch='2*n_jobs', refit=True, return_train_score=False,\n",
       "             scoring=None, verbose=0)"
      ]
     },
     "execution_count": 60,
     "metadata": {},
     "output_type": "execute_result"
    },
    {
     "data": {
      "text/plain": [
       "{'batch_size': 20, 'epochs': 150}"
      ]
     },
     "execution_count": 60,
     "metadata": {},
     "output_type": "execute_result"
    }
   ],
   "source": [
    "from keras.wrappers.scikit_learn import KerasRegressor\n",
    "model = KerasRegressor(build_fn = create_model, verbose = 0)\n",
    "\n",
    "param_grid = {'batch_size':[10,20,30,40] , 'epochs':[10, 50, 100, 150]}\n",
    "grid_cv = GridSearchCV(estimator= model, param_grid = param_grid, cv = 5)\n",
    "grid_cv.fit(X_train1,y_train1)\n",
    "grid_cv.best_params_"
   ]
  },
  {
   "cell_type": "code",
   "execution_count": 61,
   "metadata": {},
   "outputs": [
    {
     "name": "stdout",
     "output_type": "stream",
     "text": [
      "Epoch 1/150\n",
      "57/57 [==============================] - 0s 682us/step - loss: 411714387968.0000 - mse: 411714387968.0000\n",
      "Epoch 2/150\n",
      "57/57 [==============================] - 0s 543us/step - loss: 410190807040.0000 - mse: 410190807040.0000\n",
      "Epoch 3/150\n",
      "57/57 [==============================] - 0s 665us/step - loss: 402433671168.0000 - mse: 402433671168.0000\n",
      "Epoch 4/150\n",
      "57/57 [==============================] - 0s 577us/step - loss: 380984590336.0000 - mse: 380984590336.0000\n",
      "Epoch 5/150\n",
      "57/57 [==============================] - 0s 647us/step - loss: 345167265792.0000 - mse: 345167265792.0000\n",
      "Epoch 6/150\n",
      "57/57 [==============================] - 0s 630us/step - loss: 319422660608.0000 - mse: 319422660608.0000\n",
      "Epoch 7/150\n",
      "57/57 [==============================] - 0s 630us/step - loss: 307297189888.0000 - mse: 307297189888.0000\n",
      "Epoch 8/150\n",
      "57/57 [==============================] - 0s 630us/step - loss: 299349049344.0000 - mse: 299349049344.0000\n",
      "Epoch 9/150\n",
      "57/57 [==============================] - 0s 560us/step - loss: 292347904000.0000 - mse: 292347904000.0000\n",
      "Epoch 10/150\n",
      "57/57 [==============================] - 0s 612us/step - loss: 284888301568.0000 - mse: 284888301568.0000\n",
      "Epoch 11/150\n",
      "57/57 [==============================] - 0s 595us/step - loss: 277726724096.0000 - mse: 277726724096.0000\n",
      "Epoch 12/150\n",
      "57/57 [==============================] - 0s 717us/step - loss: 270199046144.0000 - mse: 270199046144.0000\n",
      "Epoch 13/150\n",
      "57/57 [==============================] - 0s 612us/step - loss: 261379866624.0000 - mse: 261379866624.0000\n",
      "Epoch 14/150\n",
      "57/57 [==============================] - 0s 717us/step - loss: 252434710528.0000 - mse: 252434710528.0000\n",
      "Epoch 15/150\n",
      "57/57 [==============================] - 0s 595us/step - loss: 243053510656.0000 - mse: 243053510656.0000\n",
      "Epoch 16/150\n",
      "57/57 [==============================] - 0s 630us/step - loss: 232612741120.0000 - mse: 232612741120.0000\n",
      "Epoch 17/150\n",
      "57/57 [==============================] - 0s 591us/step - loss: 220800352256.0000 - mse: 220800352256.0000\n",
      "Epoch 18/150\n",
      "57/57 [==============================] - 0s 700us/step - loss: 208647110656.0000 - mse: 208647110656.0000\n",
      "Epoch 19/150\n",
      "57/57 [==============================] - 0s 629us/step - loss: 195341107200.0000 - mse: 195341107200.0000\n",
      "Epoch 20/150\n",
      "57/57 [==============================] - 0s 630us/step - loss: 182176858112.0000 - mse: 182176858112.0000\n",
      "Epoch 21/150\n",
      "57/57 [==============================] - 0s 664us/step - loss: 166905954304.0000 - mse: 166905954304.0000\n",
      "Epoch 22/150\n",
      "57/57 [==============================] - 0s 595us/step - loss: 151674945536.0000 - mse: 151674961920.0000\n",
      "Epoch 23/150\n",
      "57/57 [==============================] - 0s 665us/step - loss: 137211543552.0000 - mse: 137211543552.0000\n",
      "Epoch 24/150\n",
      "57/57 [==============================] - 0s 607us/step - loss: 123121164288.0000 - mse: 123121164288.0000\n",
      "Epoch 25/150\n",
      "57/57 [==============================] - 0s 700us/step - loss: 110524768256.0000 - mse: 110524768256.0000\n",
      "Epoch 26/150\n",
      "57/57 [==============================] - 0s 665us/step - loss: 100048379904.0000 - mse: 100048379904.0000\n",
      "Epoch 27/150\n",
      "57/57 [==============================] - 0s 594us/step - loss: 91277983744.0000 - mse: 91277983744.0000\n",
      "Epoch 28/150\n",
      "57/57 [==============================] - 0s 647us/step - loss: 84497154048.0000 - mse: 84497154048.0000\n",
      "Epoch 29/150\n",
      "57/57 [==============================] - 0s 689us/step - loss: 79402983424.0000 - mse: 79402983424.0000\n",
      "Epoch 30/150\n",
      "57/57 [==============================] - 0s 596us/step - loss: 76021579776.0000 - mse: 76021579776.0000\n",
      "Epoch 31/150\n",
      "57/57 [==============================] - 0s 630us/step - loss: 73506701312.0000 - mse: 73506701312.0000\n",
      "Epoch 32/150\n",
      "57/57 [==============================] - 0s 630us/step - loss: 71983513600.0000 - mse: 71983513600.0000\n",
      "Epoch 33/150\n",
      "57/57 [==============================] - 0s 630us/step - loss: 71063265280.0000 - mse: 71063265280.0000\n",
      "Epoch 34/150\n",
      "57/57 [==============================] - 0s 647us/step - loss: 70444949504.0000 - mse: 70444949504.0000\n",
      "Epoch 35/150\n",
      "57/57 [==============================] - 0s 612us/step - loss: 70001311744.0000 - mse: 70001311744.0000\n",
      "Epoch 36/150\n",
      "57/57 [==============================] - 0s 665us/step - loss: 69759041536.0000 - mse: 69759041536.0000\n",
      "Epoch 37/150\n",
      "57/57 [==============================] - 0s 595us/step - loss: 69625667584.0000 - mse: 69625667584.0000\n",
      "Epoch 38/150\n",
      "57/57 [==============================] - 0s 647us/step - loss: 69400805376.0000 - mse: 69400805376.0000\n",
      "Epoch 39/150\n",
      "57/57 [==============================] - 0s 630us/step - loss: 69271560192.0000 - mse: 69271560192.0000\n",
      "Epoch 40/150\n",
      "57/57 [==============================] - 0s 647us/step - loss: 69253816320.0000 - mse: 69253816320.0000\n",
      "Epoch 41/150\n",
      "57/57 [==============================] - 0s 595us/step - loss: 69104377856.0000 - mse: 69104377856.0000\n",
      "Epoch 42/150\n",
      "57/57 [==============================] - 0s 665us/step - loss: 69037629440.0000 - mse: 69037629440.0000\n",
      "Epoch 43/150\n",
      "57/57 [==============================] - 0s 612us/step - loss: 69009522688.0000 - mse: 69009522688.0000\n",
      "Epoch 44/150\n",
      "57/57 [==============================] - 0s 700us/step - loss: 68963368960.0000 - mse: 68963368960.0000\n",
      "Epoch 45/150\n",
      "57/57 [==============================] - 0s 630us/step - loss: 68871340032.0000 - mse: 68871340032.0000\n",
      "Epoch 46/150\n",
      "57/57 [==============================] - 0s 612us/step - loss: 68825661440.0000 - mse: 68825661440.0000\n",
      "Epoch 47/150\n",
      "57/57 [==============================] - 0s 612us/step - loss: 68731453440.0000 - mse: 68731453440.0000\n",
      "Epoch 48/150\n",
      "57/57 [==============================] - 0s 630us/step - loss: 68728012800.0000 - mse: 68728012800.0000\n",
      "Epoch 49/150\n",
      "57/57 [==============================] - 0s 630us/step - loss: 68720189440.0000 - mse: 68720189440.0000\n",
      "Epoch 50/150\n",
      "57/57 [==============================] - 0s 612us/step - loss: 68607336448.0000 - mse: 68607336448.0000\n",
      "Epoch 51/150\n",
      "57/57 [==============================] - 0s 665us/step - loss: 68591419392.0000 - mse: 68591419392.0000\n",
      "Epoch 52/150\n",
      "57/57 [==============================] - 0s 630us/step - loss: 68650688512.0000 - mse: 68650688512.0000\n",
      "Epoch 53/150\n",
      "57/57 [==============================] - 0s 918us/step - loss: 68535390208.0000 - mse: 68535390208.0000\n",
      "Epoch 54/150\n",
      "57/57 [==============================] - 0s 647us/step - loss: 68468588544.0000 - mse: 68468588544.0000\n",
      "Epoch 55/150\n",
      "57/57 [==============================] - 0s 682us/step - loss: 68446498816.0000 - mse: 68446498816.0000\n",
      "Epoch 56/150\n",
      "57/57 [==============================] - 0s 595us/step - loss: 68477816832.0000 - mse: 68477816832.0000\n",
      "Epoch 57/150\n",
      "57/57 [==============================] - 0s 665us/step - loss: 68543418368.0000 - mse: 68543418368.0000\n",
      "Epoch 58/150\n",
      "57/57 [==============================] - 0s 662us/step - loss: 68375216128.0000 - mse: 68375216128.0000\n",
      "Epoch 59/150\n",
      "57/57 [==============================] - 0s 630us/step - loss: 68385558528.0000 - mse: 68385558528.0000\n",
      "Epoch 60/150\n",
      "57/57 [==============================] - 0s 653us/step - loss: 68407373824.0000 - mse: 68407373824.0000\n",
      "Epoch 61/150\n",
      "57/57 [==============================] - 0s 630us/step - loss: 68351668224.0000 - mse: 68351668224.0000\n",
      "Epoch 62/150\n",
      "57/57 [==============================] - 0s 682us/step - loss: 68317933568.0000 - mse: 68317933568.0000\n",
      "Epoch 63/150\n",
      "57/57 [==============================] - 0s 717us/step - loss: 68339998720.0000 - mse: 68339998720.0000\n",
      "Epoch 64/150\n",
      "57/57 [==============================] - 0s 718us/step - loss: 68367511552.0000 - mse: 68367511552.0000\n",
      "Epoch 65/150\n",
      "57/57 [==============================] - 0s 787us/step - loss: 68276977664.0000 - mse: 68276977664.0000\n",
      "Epoch 66/150\n",
      "57/57 [==============================] - 0s 805us/step - loss: 68254031872.0000 - mse: 68254031872.0000\n",
      "Epoch 67/150\n",
      "57/57 [==============================] - 0s 852us/step - loss: 68285497344.0000 - mse: 68285497344.0000\n",
      "Epoch 68/150\n",
      "57/57 [==============================] - 0s 875us/step - loss: 68246999040.0000 - mse: 68246999040.0000\n",
      "Epoch 69/150\n",
      "57/57 [==============================] - 0s 945us/step - loss: 68253302784.0000 - mse: 68253302784.0000\n",
      "Epoch 70/150\n",
      "57/57 [==============================] - 0s 892us/step - loss: 68174233600.0000 - mse: 68174233600.0000\n",
      "Epoch 71/150\n",
      "57/57 [==============================] - 0s 956us/step - loss: 68208369664.0000 - mse: 68208369664.0000\n",
      "Epoch 72/150\n",
      "57/57 [==============================] - 0s 945us/step - loss: 68407734272.0000 - mse: 68407734272.0000\n",
      "Epoch 73/150\n",
      "57/57 [==============================] - 0s 962us/step - loss: 68129411072.0000 - mse: 68129411072.0000\n",
      "Epoch 74/150\n",
      "57/57 [==============================] - 0s 927us/step - loss: 68234952704.0000 - mse: 68234952704.0000\n",
      "Epoch 75/150\n",
      "57/57 [==============================] - 0s 910us/step - loss: 68079116288.0000 - mse: 68079116288.0000\n",
      "Epoch 76/150\n",
      "57/57 [==============================] - 0s 980us/step - loss: 68197175296.0000 - mse: 68197175296.0000\n",
      "Epoch 77/150\n",
      "57/57 [==============================] - 0s 1ms/step - loss: 68125532160.0000 - mse: 68125532160.0000\n",
      "Epoch 78/150\n",
      "57/57 [==============================] - 0s 962us/step - loss: 68127330304.0000 - mse: 68127330304.0000\n",
      "Epoch 79/150\n",
      "57/57 [==============================] - 0s 1ms/step - loss: 68039118848.0000 - mse: 68039118848.0000\n",
      "Epoch 80/150\n",
      "57/57 [==============================] - 0s 997us/step - loss: 68024684544.0000 - mse: 68024684544.0000\n",
      "Epoch 81/150\n",
      "57/57 [==============================] - 0s 1ms/step - loss: 68135702528.0000 - mse: 68135702528.0000\n",
      "Epoch 82/150\n",
      "57/57 [==============================] - 0s 1ms/step - loss: 68018180096.0000 - mse: 68018180096.0000\n",
      "Epoch 83/150\n",
      "57/57 [==============================] - 0s 962us/step - loss: 68023484416.0000 - mse: 68023484416.0000\n",
      "Epoch 84/150\n",
      "57/57 [==============================] - 0s 997us/step - loss: 68011560960.0000 - mse: 68011560960.0000\n",
      "Epoch 85/150\n",
      "57/57 [==============================] - 0s 963us/step - loss: 68063383552.0000 - mse: 68063383552.0000\n",
      "Epoch 86/150\n",
      "57/57 [==============================] - 0s 1ms/step - loss: 68027195392.0000 - mse: 68027187200.0000\n",
      "Epoch 87/150\n",
      "57/57 [==============================] - 0s 1ms/step - loss: 68004925440.0000 - mse: 68004925440.0000\n",
      "Epoch 88/150\n",
      "57/57 [==============================] - 0s 1ms/step - loss: 68189995008.0000 - mse: 68189995008.0000\n",
      "Epoch 89/150\n",
      "57/57 [==============================] - 0s 997us/step - loss: 67925995520.0000 - mse: 67925995520.0000\n",
      "Epoch 90/150\n",
      "57/57 [==============================] - 0s 997us/step - loss: 67976572928.0000 - mse: 67976581120.0000\n",
      "Epoch 91/150\n",
      "57/57 [==============================] - 0s 955us/step - loss: 67935035392.0000 - mse: 67935035392.0000\n",
      "Epoch 92/150\n",
      "57/57 [==============================] - 0s 998us/step - loss: 67933081600.0000 - mse: 67933081600.0000\n",
      "Epoch 93/150\n",
      "57/57 [==============================] - 0s 945us/step - loss: 68084162560.0000 - mse: 68084162560.0000\n",
      "Epoch 94/150\n",
      "57/57 [==============================] - 0s 962us/step - loss: 68036620288.0000 - mse: 68036620288.0000\n",
      "Epoch 95/150\n",
      "57/57 [==============================] - 0s 945us/step - loss: 67979190272.0000 - mse: 67979190272.0000\n",
      "Epoch 96/150\n",
      "57/57 [==============================] - 0s 1ms/step - loss: 67847331840.0000 - mse: 67847331840.0000\n",
      "Epoch 97/150\n",
      "57/57 [==============================] - 0s 997us/step - loss: 67938492416.0000 - mse: 67938492416.0000\n",
      "Epoch 98/150\n",
      "57/57 [==============================] - 0s 1ms/step - loss: 67980472320.0000 - mse: 67980472320.0000\n",
      "Epoch 99/150\n",
      "57/57 [==============================] - 0s 997us/step - loss: 67864391680.0000 - mse: 67864391680.0000\n",
      "Epoch 100/150\n",
      "57/57 [==============================] - 0s 980us/step - loss: 67972026368.0000 - mse: 67972026368.0000\n",
      "Epoch 101/150\n",
      "57/57 [==============================] - 0s 980us/step - loss: 67830337536.0000 - mse: 67830337536.0000\n",
      "Epoch 102/150\n",
      "57/57 [==============================] - 0s 980us/step - loss: 67810615296.0000 - mse: 67810615296.0000\n",
      "Epoch 103/150\n",
      "57/57 [==============================] - 0s 979us/step - loss: 67851399168.0000 - mse: 67851399168.0000\n",
      "Epoch 104/150\n",
      "57/57 [==============================] - ETA: 0s - loss: 61211193344.0000 - mse: 61211193344.000 - 0s 1ms/step - loss: 67783671808.0000 - mse: 67783671808.0000\n",
      "Epoch 105/150\n",
      "57/57 [==============================] - 0s 998us/step - loss: 67894575104.0000 - mse: 67894575104.0000\n",
      "Epoch 106/150\n",
      "57/57 [==============================] - 0s 1ms/step - loss: 67793293312.0000 - mse: 67793293312.0000\n",
      "Epoch 107/150\n",
      "57/57 [==============================] - 0s 962us/step - loss: 67757813760.0000 - mse: 67757813760.0000\n",
      "Epoch 108/150\n",
      "57/57 [==============================] - 0s 962us/step - loss: 67789778944.0000 - mse: 67789778944.0000\n",
      "Epoch 109/150\n",
      "57/57 [==============================] - 0s 962us/step - loss: 67745714176.0000 - mse: 67745714176.0000\n",
      "Epoch 110/150\n",
      "57/57 [==============================] - 0s 956us/step - loss: 67909353472.0000 - mse: 67909353472.0000\n",
      "Epoch 111/150\n",
      "57/57 [==============================] - 0s 945us/step - loss: 67712454656.0000 - mse: 67712454656.0000\n",
      "Epoch 112/150\n",
      "57/57 [==============================] - 0s 926us/step - loss: 67937927168.0000 - mse: 67937927168.0000\n",
      "Epoch 113/150\n",
      "57/57 [==============================] - 0s 997us/step - loss: 67837362176.0000 - mse: 67837362176.0000\n",
      "Epoch 114/150\n",
      "57/57 [==============================] - 0s 981us/step - loss: 67826331648.0000 - mse: 67826331648.0000\n",
      "Epoch 115/150\n",
      "57/57 [==============================] - 0s 980us/step - loss: 67864727552.0000 - mse: 67864727552.0000\n",
      "Epoch 116/150\n",
      "57/57 [==============================] - 0s 997us/step - loss: 67720622080.0000 - mse: 67720622080.0000\n",
      "Epoch 117/150\n",
      "57/57 [==============================] - 0s 997us/step - loss: 67818668032.0000 - mse: 67818668032.0000\n",
      "Epoch 118/150\n",
      "57/57 [==============================] - 0s 994us/step - loss: 67706138624.0000 - mse: 67706138624.0000\n",
      "Epoch 119/150\n",
      "57/57 [==============================] - 0s 1ms/step - loss: 67673743360.0000 - mse: 67673743360.0000\n",
      "Epoch 120/150\n",
      "57/57 [==============================] - 0s 927us/step - loss: 67780304896.0000 - mse: 67780304896.0000\n",
      "Epoch 121/150\n",
      "57/57 [==============================] - 0s 980us/step - loss: 67760476160.0000 - mse: 67760476160.0000\n",
      "Epoch 122/150\n",
      "57/57 [==============================] - 0s 1ms/step - loss: 67800465408.0000 - mse: 67800465408.0000\n",
      "Epoch 123/150\n",
      "57/57 [==============================] - 0s 980us/step - loss: 67692904448.0000 - mse: 67692904448.0000\n",
      "Epoch 124/150\n",
      "57/57 [==============================] - 0s 980us/step - loss: 67782033408.0000 - mse: 67782033408.0000\n",
      "Epoch 125/150\n",
      "57/57 [==============================] - 0s 1ms/step - loss: 67774644224.0000 - mse: 67774644224.0000\n",
      "Epoch 126/150\n",
      "57/57 [==============================] - 0s 980us/step - loss: 67705810944.0000 - mse: 67705810944.0000\n",
      "Epoch 127/150\n",
      "57/57 [==============================] - 0s 962us/step - loss: 67780034560.0000 - mse: 67780042752.0000\n",
      "Epoch 128/150\n",
      "57/57 [==============================] - 0s 1ms/step - loss: 67780526080.0000 - mse: 67780526080.0000\n",
      "Epoch 129/150\n",
      "57/57 [==============================] - 0s 1ms/step - loss: 67661021184.0000 - mse: 67661021184.0000\n",
      "Epoch 130/150\n",
      "57/57 [==============================] - 0s 1ms/step - loss: 67703218176.0000 - mse: 67703209984.0000\n",
      "Epoch 131/150\n",
      "57/57 [==============================] - 0s 997us/step - loss: 67689185280.0000 - mse: 67689185280.0000\n",
      "Epoch 132/150\n",
      "57/57 [==============================] - 0s 1ms/step - loss: 67572920320.0000 - mse: 67572920320.0000\n",
      "Epoch 133/150\n",
      "57/57 [==============================] - 0s 997us/step - loss: 67829264384.0000 - mse: 67829264384.0000\n",
      "Epoch 134/150\n",
      "57/57 [==============================] - 0s 997us/step - loss: 67590086656.0000 - mse: 67590086656.0000\n",
      "Epoch 135/150\n",
      "57/57 [==============================] - 0s 997us/step - loss: 67636117504.0000 - mse: 67636117504.0000\n",
      "Epoch 136/150\n",
      "57/57 [==============================] - 0s 998us/step - loss: 67712614400.0000 - mse: 67712614400.0000\n",
      "Epoch 137/150\n",
      "57/57 [==============================] - 0s 980us/step - loss: 67655577600.0000 - mse: 67655577600.0000\n",
      "Epoch 138/150\n",
      "57/57 [==============================] - 0s 1ms/step - loss: 67581927424.0000 - mse: 67581927424.0000\n",
      "Epoch 139/150\n"
     ]
    },
    {
     "name": "stdout",
     "output_type": "stream",
     "text": [
      "57/57 [==============================] - 0s 1ms/step - loss: 67874316288.0000 - mse: 67874316288.0000\n",
      "Epoch 140/150\n",
      "57/57 [==============================] - 0s 998us/step - loss: 67706818560.0000 - mse: 67706818560.0000\n",
      "Epoch 141/150\n",
      "57/57 [==============================] - 0s 986us/step - loss: 67633819648.0000 - mse: 67633819648.0000\n",
      "Epoch 142/150\n",
      "57/57 [==============================] - 0s 931us/step - loss: 67567083520.0000 - mse: 67567083520.0000\n",
      "Epoch 143/150\n",
      "57/57 [==============================] - 0s 892us/step - loss: 67627986944.0000 - mse: 67627986944.0000\n",
      "Epoch 144/150\n",
      "57/57 [==============================] - 0s 904us/step - loss: 67551281152.0000 - mse: 67551281152.0000\n",
      "Epoch 145/150\n",
      "57/57 [==============================] - 0s 962us/step - loss: 67642998784.0000 - mse: 67642998784.0000\n",
      "Epoch 146/150\n",
      "57/57 [==============================] - 0s 927us/step - loss: 67575398400.0000 - mse: 67575398400.0000\n",
      "Epoch 147/150\n",
      "57/57 [==============================] - 0s 1ms/step - loss: 67580370944.0000 - mse: 67580370944.0000\n",
      "Epoch 148/150\n",
      "57/57 [==============================] - 0s 945us/step - loss: 67525804032.0000 - mse: 67525804032.0000\n",
      "Epoch 149/150\n",
      "57/57 [==============================] - 0s 941us/step - loss: 67713732608.0000 - mse: 67713732608.0000\n",
      "Epoch 150/150\n",
      "57/57 [==============================] - 0s 980us/step - loss: 67558711296.0000 - mse: 67558711296.0000\n"
     ]
    },
    {
     "data": {
      "text/plain": [
       "<tensorflow.python.keras.callbacks.History at 0x24f89362fc8>"
      ]
     },
     "execution_count": 61,
     "metadata": {},
     "output_type": "execute_result"
    }
   ],
   "source": [
    "model = create_model()\n",
    "model.fit(X_train1, y_train1, epochs=150, batch_size=20)"
   ]
  },
  {
   "cell_type": "code",
   "execution_count": 63,
   "metadata": {},
   "outputs": [],
   "source": [
    "from keras import backend as K\n",
    "X_test1 = K.cast_to_floatx(X_test_org)\n",
    "y_test1 = K.cast_to_floatx(y_test)"
   ]
  },
  {
   "cell_type": "code",
   "execution_count": 64,
   "metadata": {},
   "outputs": [
    {
     "name": "stdout",
     "output_type": "stream",
     "text": [
      "12/12 [==============================] - 0s 582us/step - loss: 72575270912.0000 - mse: 72575270912.0000\n"
     ]
    },
    {
     "data": {
      "text/plain": [
       "[72575270912.0, 72575270912.0]"
      ]
     },
     "execution_count": 64,
     "metadata": {},
     "output_type": "execute_result"
    }
   ],
   "source": [
    "model.evaluate(X_test1, y_test1)"
   ]
  },
  {
   "cell_type": "code",
   "execution_count": 65,
   "metadata": {},
   "outputs": [],
   "source": [
    "from sklearn.metrics import r2_score, recall_score, precision_score\n",
    "\n",
    "y_train_predict = model.predict(X_train1)\n",
    "y_test_predict = model.predict(X_test1)"
   ]
  },
  {
   "cell_type": "code",
   "execution_count": 66,
   "metadata": {},
   "outputs": [
    {
     "name": "stdout",
     "output_type": "stream",
     "text": [
      "Train score: 46.96%\n",
      "Test score: 45.25%\n"
     ]
    }
   ],
   "source": [
    "print('Train score: {:.2f}'.format((r2_score(y_train, y_train_predict))*100)+ \"%\")\n",
    "print('Test score: {:.2f}'.format((r2_score(y_test, y_test_predict))*100)+ \"%\")"
   ]
  },
  {
   "cell_type": "code",
   "execution_count": 67,
   "metadata": {},
   "outputs": [
    {
     "data": {
      "text/plain": [
       "array([[ 332696.66],\n",
       "       [ 928737.75],\n",
       "       [ 407137.16],\n",
       "       [ 306780.12],\n",
       "       [ 393361.  ],\n",
       "       [ 343490.03],\n",
       "       [ 240049.62],\n",
       "       [ 510508.8 ],\n",
       "       [ 351968.7 ],\n",
       "       [ 422657.28],\n",
       "       [ 796813.1 ],\n",
       "       [1053762.8 ],\n",
       "       [ 658522.4 ],\n",
       "       [ 549282.8 ],\n",
       "       [ 401393.4 ],\n",
       "       [ 508404.34],\n",
       "       [ 915285.4 ],\n",
       "       [ 564334.4 ],\n",
       "       [ 521091.16],\n",
       "       [ 614545.25],\n",
       "       [ 543936.8 ],\n",
       "       [ 613169.75],\n",
       "       [ 381003.9 ],\n",
       "       [ 311849.47],\n",
       "       [ 383339.84],\n",
       "       [ 539253.25],\n",
       "       [ 513668.97],\n",
       "       [ 616937.8 ],\n",
       "       [ 468212.22],\n",
       "       [ 405979.72],\n",
       "       [ 577456.2 ],\n",
       "       [ 402451.47],\n",
       "       [ 645921.56],\n",
       "       [ 417730.75],\n",
       "       [ 576701.9 ],\n",
       "       [ 945397.5 ],\n",
       "       [1127078.1 ],\n",
       "       [ 340214.8 ],\n",
       "       [ 819165.5 ],\n",
       "       [ 324596.1 ],\n",
       "       [ 417571.84],\n",
       "       [ 334321.8 ],\n",
       "       [ 440324.06],\n",
       "       [ 622488.9 ],\n",
       "       [ 569842.3 ],\n",
       "       [ 556135.44],\n",
       "       [ 350506.6 ],\n",
       "       [ 908394.  ],\n",
       "       [ 552422.25],\n",
       "       [ 358891.78],\n",
       "       [ 499439.72],\n",
       "       [ 269242.03],\n",
       "       [ 498968.72],\n",
       "       [ 471402.94],\n",
       "       [ 487692.6 ],\n",
       "       [ 406169.53],\n",
       "       [ 640241.8 ],\n",
       "       [ 341265.28],\n",
       "       [ 503988.53],\n",
       "       [ 903263.56],\n",
       "       [ 328430.6 ],\n",
       "       [ 961727.6 ],\n",
       "       [ 670239.1 ],\n",
       "       [ 822380.5 ],\n",
       "       [ 437004.56],\n",
       "       [ 712375.4 ],\n",
       "       [ 960048.1 ],\n",
       "       [ 309519.  ],\n",
       "       [ 787839.4 ],\n",
       "       [ 447223.2 ],\n",
       "       [1022650.4 ],\n",
       "       [ 359992.6 ],\n",
       "       [ 301501.56],\n",
       "       [ 497537.34],\n",
       "       [ 785148.7 ],\n",
       "       [ 631696.25],\n",
       "       [ 450285.22],\n",
       "       [ 489745.5 ],\n",
       "       [ 560767.25],\n",
       "       [ 448984.88],\n",
       "       [ 368606.9 ],\n",
       "       [ 426360.78],\n",
       "       [ 522091.1 ],\n",
       "       [ 425001.6 ],\n",
       "       [ 623555.25],\n",
       "       [ 352411.28],\n",
       "       [ 689118.4 ],\n",
       "       [ 473308.6 ],\n",
       "       [ 569659.06],\n",
       "       [ 493723.1 ],\n",
       "       [ 272408.97],\n",
       "       [ 496860.66],\n",
       "       [ 433257.47],\n",
       "       [ 382948.94],\n",
       "       [ 604194.  ],\n",
       "       [ 615158.4 ],\n",
       "       [ 402835.47],\n",
       "       [ 666012.9 ],\n",
       "       [ 607234.9 ],\n",
       "       [ 386237.8 ],\n",
       "       [ 437184.88],\n",
       "       [ 386860.5 ],\n",
       "       [ 756766.2 ],\n",
       "       [ 348742.72],\n",
       "       [ 522788.38],\n",
       "       [ 485516.34],\n",
       "       [ 354957.3 ],\n",
       "       [ 626665.56],\n",
       "       [ 612461.5 ],\n",
       "       [ 430841.6 ],\n",
       "       [ 644108.7 ],\n",
       "       [ 695382.9 ],\n",
       "       [ 326420.97],\n",
       "       [ 362897.03],\n",
       "       [ 599012.6 ],\n",
       "       [ 463331.3 ],\n",
       "       [ 635150.4 ],\n",
       "       [ 511816.1 ],\n",
       "       [ 434493.28],\n",
       "       [ 365828.1 ],\n",
       "       [ 707955.4 ],\n",
       "       [ 798992.9 ],\n",
       "       [ 376934.7 ],\n",
       "       [ 740016.75],\n",
       "       [ 315984.2 ],\n",
       "       [ 656862.3 ],\n",
       "       [ 493749.6 ],\n",
       "       [ 669041.9 ],\n",
       "       [ 404495.62],\n",
       "       [ 399120.78],\n",
       "       [ 523479.22],\n",
       "       [ 713348.9 ],\n",
       "       [ 392395.34],\n",
       "       [ 404882.8 ],\n",
       "       [ 501143.78],\n",
       "       [ 592260.3 ],\n",
       "       [ 819802.9 ],\n",
       "       [ 405165.72],\n",
       "       [ 794205.5 ],\n",
       "       [ 369920.53],\n",
       "       [ 282230.1 ],\n",
       "       [ 769246.25],\n",
       "       [ 522360.8 ],\n",
       "       [ 425096.84],\n",
       "       [ 645371.5 ],\n",
       "       [ 787881.  ],\n",
       "       [ 690985.3 ],\n",
       "       [ 421570.88],\n",
       "       [ 504540.72],\n",
       "       [ 625052.9 ],\n",
       "       [ 312413.88],\n",
       "       [ 382639.78],\n",
       "       [ 769017.7 ],\n",
       "       [ 589733.7 ],\n",
       "       [ 446439.53],\n",
       "       [ 860989.4 ],\n",
       "       [ 292335.4 ],\n",
       "       [ 600862.9 ],\n",
       "       [ 456315.47],\n",
       "       [ 466571.84],\n",
       "       [ 372425.53],\n",
       "       [ 593073.75],\n",
       "       [ 828732.9 ],\n",
       "       [ 367554.25],\n",
       "       [ 709688.75],\n",
       "       [ 338652.8 ],\n",
       "       [ 581160.44],\n",
       "       [ 612762.3 ],\n",
       "       [ 380155.66],\n",
       "       [ 311502.84],\n",
       "       [ 700517.44],\n",
       "       [ 478398.4 ],\n",
       "       [ 462551.4 ],\n",
       "       [ 629469.1 ],\n",
       "       [ 655538.9 ],\n",
       "       [ 589224.2 ],\n",
       "       [ 694864.75],\n",
       "       [ 718406.25],\n",
       "       [ 419660.6 ],\n",
       "       [ 407347.28],\n",
       "       [1165601.2 ],\n",
       "       [ 491434.44],\n",
       "       [ 677643.9 ],\n",
       "       [ 852911.44],\n",
       "       [ 438064.84],\n",
       "       [ 739363.8 ],\n",
       "       [ 505629.9 ],\n",
       "       [ 592464.1 ],\n",
       "       [ 615514.9 ],\n",
       "       [ 832618.4 ],\n",
       "       [ 629093.8 ],\n",
       "       [1089728.4 ],\n",
       "       [ 465857.72],\n",
       "       [ 664304.06],\n",
       "       [ 482032.84],\n",
       "       [ 753530.9 ],\n",
       "       [ 455963.34],\n",
       "       [ 423395.97],\n",
       "       [ 374331.06],\n",
       "       [ 471377.4 ],\n",
       "       [ 704725.7 ],\n",
       "       [ 266913.84],\n",
       "       [ 478863.84],\n",
       "       [1098323.8 ],\n",
       "       [ 377533.22],\n",
       "       [ 595574.6 ],\n",
       "       [ 355879.38],\n",
       "       [ 393837.75],\n",
       "       [ 354673.34],\n",
       "       [ 345609.1 ],\n",
       "       [ 540428.4 ],\n",
       "       [ 449219.84],\n",
       "       [ 585565.2 ],\n",
       "       [ 694090.06],\n",
       "       [ 316176.56],\n",
       "       [ 609519.7 ],\n",
       "       [ 254815.19],\n",
       "       [ 440962.9 ],\n",
       "       [ 338037.88],\n",
       "       [ 739242.5 ],\n",
       "       [ 398895.72],\n",
       "       [ 565327.6 ],\n",
       "       [ 828176.7 ],\n",
       "       [ 621586.4 ],\n",
       "       [ 520476.25],\n",
       "       [ 780023.44],\n",
       "       [ 506190.34],\n",
       "       [ 250224.02],\n",
       "       [ 646402.75],\n",
       "       [ 606654.  ],\n",
       "       [ 314816.72],\n",
       "       [ 573926.9 ],\n",
       "       [ 685162.  ],\n",
       "       [ 802061.4 ],\n",
       "       [ 451869.78],\n",
       "       [ 498256.34],\n",
       "       [ 372803.9 ],\n",
       "       [ 784978.6 ],\n",
       "       [ 479884.7 ],\n",
       "       [ 374722.78],\n",
       "       [ 577310.5 ],\n",
       "       [ 207803.12],\n",
       "       [ 586594.3 ],\n",
       "       [ 609047.75],\n",
       "       [ 631678.8 ],\n",
       "       [ 240085.45],\n",
       "       [ 273708.34],\n",
       "       [1037458.1 ],\n",
       "       [1258815.6 ],\n",
       "       [ 352107.22],\n",
       "       [ 597765.75],\n",
       "       [ 782025.9 ],\n",
       "       [ 956885.  ],\n",
       "       [ 197119.1 ],\n",
       "       [ 778314.94],\n",
       "       [ 710605.75],\n",
       "       [ 586361.6 ],\n",
       "       [1185616.9 ],\n",
       "       [ 441678.  ],\n",
       "       [ 711600.6 ],\n",
       "       [ 511466.1 ],\n",
       "       [ 474621.72],\n",
       "       [ 569302.2 ],\n",
       "       [ 514930.97],\n",
       "       [ 487484.34],\n",
       "       [ 529291.3 ],\n",
       "       [ 390447.5 ],\n",
       "       [1038203.1 ],\n",
       "       [ 536464.25],\n",
       "       [ 407689.28],\n",
       "       [ 395280.78],\n",
       "       [ 394058.44],\n",
       "       [ 257645.83],\n",
       "       [ 212376.16],\n",
       "       [ 663418.5 ],\n",
       "       [ 403506.97],\n",
       "       [ 431571.6 ],\n",
       "       [ 886712.2 ],\n",
       "       [ 547190.94],\n",
       "       [ 535631.1 ],\n",
       "       [ 357861.34],\n",
       "       [ 297406.3 ],\n",
       "       [ 453811.78],\n",
       "       [ 461131.75],\n",
       "       [ 655047.7 ],\n",
       "       [ 553690.75],\n",
       "       [ 684768.2 ],\n",
       "       [ 422134.8 ],\n",
       "       [ 581652.4 ],\n",
       "       [1081230.  ],\n",
       "       [ 761405.75],\n",
       "       [ 784599.9 ],\n",
       "       [ 511851.6 ],\n",
       "       [ 356657.88],\n",
       "       [ 233926.56],\n",
       "       [ 415907.22],\n",
       "       [ 581474.  ],\n",
       "       [ 543881.2 ],\n",
       "       [ 364731.84],\n",
       "       [ 715569.75],\n",
       "       [ 577766.1 ],\n",
       "       [ 477160.66],\n",
       "       [ 610824.94],\n",
       "       [ 814986.1 ],\n",
       "       [ 349748.84],\n",
       "       [ 389178.4 ],\n",
       "       [ 554148.94],\n",
       "       [1004008.5 ],\n",
       "       [ 305444.4 ],\n",
       "       [1009728.  ],\n",
       "       [ 389492.16],\n",
       "       [ 208758.23],\n",
       "       [ 223669.2 ],\n",
       "       [ 771280.5 ],\n",
       "       [ 727552.4 ],\n",
       "       [ 571819.1 ],\n",
       "       [ 395049.94],\n",
       "       [ 516345.53],\n",
       "       [ 866399.6 ],\n",
       "       [ 517067.1 ],\n",
       "       [ 390091.6 ],\n",
       "       [ 846711.  ],\n",
       "       [ 570354.94],\n",
       "       [ 271577.6 ],\n",
       "       [ 582072.75],\n",
       "       [ 578701.9 ],\n",
       "       [ 431397.84],\n",
       "       [ 464968.72],\n",
       "       [ 489973.66],\n",
       "       [ 881929.4 ],\n",
       "       [ 991994.4 ],\n",
       "       [ 483989.38],\n",
       "       [ 817354.4 ],\n",
       "       [ 619224.3 ],\n",
       "       [ 305250.28],\n",
       "       [ 592755.5 ],\n",
       "       [ 210491.28],\n",
       "       [ 723500.2 ],\n",
       "       [ 539929.4 ],\n",
       "       [ 614389.2 ],\n",
       "       [ 990294.  ],\n",
       "       [ 640017.  ],\n",
       "       [ 679115.5 ],\n",
       "       [ 750402.  ],\n",
       "       [ 843141.25],\n",
       "       [ 268918.03],\n",
       "       [ 588959.94],\n",
       "       [ 502703.9 ],\n",
       "       [ 395971.9 ],\n",
       "       [ 422640.9 ],\n",
       "       [ 339593.53],\n",
       "       [ 532641.1 ],\n",
       "       [ 739836.4 ],\n",
       "       [ 466684.97],\n",
       "       [ 308323.75],\n",
       "       [ 332331.4 ],\n",
       "       [ 394921.66],\n",
       "       [ 573382.1 ],\n",
       "       [ 867788.75],\n",
       "       [ 406704.38],\n",
       "       [ 669915.5 ],\n",
       "       [ 806230.75],\n",
       "       [1119226.2 ],\n",
       "       [ 548563.1 ],\n",
       "       [ 862016.5 ],\n",
       "       [ 517478.2 ],\n",
       "       [ 358515.94],\n",
       "       [ 321908.16],\n",
       "       [ 482775.2 ],\n",
       "       [ 470790.72],\n",
       "       [ 524812.5 ],\n",
       "       [ 371357.2 ],\n",
       "       [ 552710.3 ],\n",
       "       [ 526605.6 ],\n",
       "       [ 376623.34]], dtype=float32)"
      ]
     },
     "execution_count": 67,
     "metadata": {},
     "output_type": "execute_result"
    }
   ],
   "source": [
    "y_test_predict"
   ]
  },
  {
   "cell_type": "code",
   "execution_count": null,
   "metadata": {},
   "outputs": [],
   "source": []
  }
 ],
 "metadata": {
  "kernelspec": {
   "display_name": "Python 3",
   "language": "python",
   "name": "python3"
  },
  "language_info": {
   "codemirror_mode": {
    "name": "ipython",
    "version": 3
   },
   "file_extension": ".py",
   "mimetype": "text/x-python",
   "name": "python",
   "nbconvert_exporter": "python",
   "pygments_lexer": "ipython3",
   "version": "3.8.3"
  }
 },
 "nbformat": 4,
 "nbformat_minor": 4
}
